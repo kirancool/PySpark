{
 "cells": [
  {
   "cell_type": "code",
   "execution_count": 450,
   "id": "44d2c030",
   "metadata": {},
   "outputs": [],
   "source": [
    "from pyspark.sql import SparkSession\n",
    "from pyspark.sql.types import *\n",
    "from pyspark.sql.functions import *\n",
    "from pyspark.sql.window import *\n",
    "import findspark\n",
    "findspark.init()"
   ]
  },
  {
   "cell_type": "code",
   "execution_count": 451,
   "id": "a1d2df22",
   "metadata": {},
   "outputs": [],
   "source": [
    "spark = SparkSession \\\n",
    "    .builder \\\n",
    "    .master(\"local[*]\") \\\n",
    "    .appName(\"Python Spark SQL basic example\") \\\n",
    "    .config(\"spark.driver.maxResultSize\", \"1g\") \\\n",
    "    .getOrCreate()"
   ]
  },
  {
   "cell_type": "code",
   "execution_count": 452,
   "id": "e5413537",
   "metadata": {},
   "outputs": [
    {
     "name": "stdout",
     "output_type": "stream",
     "text": [
      "+----------+---------+---------+-------------+----------+---------------+--------------+----------+-----------+-------+--------------------+-----------+\n",
      "|visit_high|visit_low|visit_num|   event_list|hit_source|post_visit_high|post_visit_low|        ds|exclude_hit| prop70|              prop58|     prop46|\n",
      "+----------+---------+---------+-------------+----------+---------------+--------------+----------+-----------+-------+--------------------+-----------+\n",
      "|         0|        0|       35| 108,11,125,1|         2|              0|             0|01-07-2023|          0|    web|productPage|pageV...|     search|\n",
      "|         0|        0|       35| 108,11,125,2|         2|              0|             0|02-07-2023|          0|andriod|productPage|pageV...|   homepage|\n",
      "|         0|        0|       35| 108,11,125,3|         2|              0|             0|03-07-2023|          0|    ios|productPage|pageV...|productPage|\n",
      "|         0|        0|       35| 108,11,125,4|         2|              0|             0|04-07-2023|          0|    web|productPage|pageV...|     search|\n",
      "|         0|        0|       35| 108,11,125,5|         2|              0|             0|05-07-2023|          0|andriod|productPage|pageV...|   homepage|\n",
      "|         0|        0|       35| 108,11,125,6|         2|              0|             0|06-07-2023|          0|    ios|productPage|pageV...|productPage|\n",
      "|         0|        0|       35| 108,11,125,7|         2|              0|             0|07-07-2023|          0|    web|productPage|pageV...|     search|\n",
      "|         0|        0|       35| 108,11,125,8|         2|              0|             0|08-07-2023|          0|andriod|productPage|pageV...|   homepage|\n",
      "|         0|        0|       35| 108,11,125,9|         2|              0|             0|09-07-2023|          0|    ios|productPage|pageV...|productPage|\n",
      "|         0|        0|       35|108,11,125,10|         2|              0|             0|10-07-2023|          0|    web|productPage|pageV...|     search|\n",
      "|         0|        0|       35|108,11,125,11|         2|              0|             0|11-07-2023|          0|andriod|productPage|pageV...|   homepage|\n",
      "|         0|        0|       35|108,11,125,12|         2|              0|             0|12-07-2023|          0|    ios|productPage|pageV...|productPage|\n",
      "|         0|        0|       35|108,11,125,13|         2|              0|             0|13-07-2023|          0|    web|productPage|pageV...|     search|\n",
      "|         0|        0|       35|108,11,125,14|         2|              0|             0|14-07-2023|          0|andriod|productPage|pageV...|   homepage|\n",
      "|         0|        0|       35|108,11,125,15|         2|              0|             0|15-07-2023|          0|    ios|productPage|pageV...|productPage|\n",
      "|         0|        0|       35|108,11,125,16|         2|              0|             0|16-07-2023|          0|    web|productPage|pageV...|     search|\n",
      "|         0|        0|      124|108,11,125,17|         2|              0|             0|17-07-2023|          0|andriod|productPage|pageV...|   homepage|\n",
      "|         0|        0|      124|108,11,125,18|         2|              0|             0|18-07-2023|          0|    ios|productPage|pageV...|productPage|\n",
      "|         0|        0|      124|108,11,125,19|         2|              0|             0|19-07-2023|          0|    web|productPage|pageV...|     search|\n",
      "|         0|        0|      124|108,11,125,20|         2|              0|             0|20-07-2023|          0|andriod|productPage|pageV...|   homepage|\n",
      "+----------+---------+---------+-------------+----------+---------------+--------------+----------+-----------+-------+--------------------+-----------+\n",
      "only showing top 20 rows\n",
      "\n"
     ]
    }
   ],
   "source": [
    "df=spark.read.csv('datasets/canadadataset.csv',header=True)\n",
    "df.show()"
   ]
  },
  {
   "cell_type": "code",
   "execution_count": 453,
   "id": "76781eac",
   "metadata": {},
   "outputs": [
    {
     "name": "stdout",
     "output_type": "stream",
     "text": [
      "+-------+\n",
      "|dst_cnt|\n",
      "+-------+\n",
      "|3      |\n",
      "+-------+\n",
      "\n"
     ]
    }
   ],
   "source": [
    "df_new=df.withColumn(\"visit_hi_id_new\",expr(\"CASE WHEN visit_high='0' or visit_high IS NULL THEN post_visit_high ELSE Visit_high END\"))\\\n",
    "         .withColumn(\"visit_low_id_new\",expr(\"CASE WHEN visit_low='0' or visit_low IS NULL THEN post_visit_low ELSE Visit_low END\"))\n",
    "df_new1=df_new.withColumn(\"session_cnt\", expr(\"CASE WHEN hit_source NOT IN ('5','7','8','9') then concat(visit_hi_id_new,'-',visit_low_id_new,'-',visit_num) ELSE NULL END\"))\n",
    "df2=df_new1.where((df_new1.ds).between('01-07-2023','31-07-2023'))\n",
    "df3=df2.withColumn(\"ATC_RATE\",split(col(\"event_list\"),',').getItem(1))\n",
    "        \n",
    "#df22=df_new1.withColumn(\"ATC_RATE\",col(\"event_list\")==11).filter(col(\"ATC_RATE\")==True)\n",
    "#df22=df_new1.withColumn(\"ATC_RATE\",df_new1.ds.between('01-07-2023','31-07-2023')&(df_new1.exclude_hit=='1')&(df_new1.event_list=='12'))  \n",
    "#df3=df22.select(countDistinct(col(\"session_cnt\")).alias(\"distn_cnt\"))\n",
    "df4=df3.agg(countDistinct(col(\"session_cnt\")).alias(\"dst_cnt\"))\n",
    "df4.show(truncate=False)"
   ]
  },
  {
   "cell_type": "code",
   "execution_count": 454,
   "id": "3ee02005",
   "metadata": {},
   "outputs": [
    {
     "name": "stdout",
     "output_type": "stream",
     "text": [
      "+--------+\n",
      "|ATC_RATE|\n",
      "+--------+\n",
      "|     108|\n",
      "|     108|\n",
      "|     108|\n",
      "|     108|\n",
      "|     108|\n",
      "|     108|\n",
      "|     108|\n",
      "|     108|\n",
      "|     108|\n",
      "|     108|\n",
      "|     108|\n",
      "|     108|\n",
      "|     108|\n",
      "|     108|\n",
      "|     108|\n",
      "|     108|\n",
      "|     108|\n",
      "|     108|\n",
      "|     108|\n",
      "|     108|\n",
      "+--------+\n",
      "only showing top 20 rows\n",
      "\n"
     ]
    }
   ],
   "source": [
    "df3=df2.withColumn(\"ATC_RATE\",split(col(\"event_list\"),',').getItem(0)).select(\"ATC_RATE\")\n",
    "       \n",
    "df3.show()"
   ]
  },
  {
   "cell_type": "code",
   "execution_count": 455,
   "id": "c9c82258",
   "metadata": {},
   "outputs": [],
   "source": [
    "# df_new=df.withColumn(\"visit_hi_id_new\",expr(\"CASE WHEN visit_high='0' or visit_high IS NULL THEN post_visit_high ELSE Visit_high END\"))\\\n",
    "#          .withColumn(\"visit_low_id_new\",expr(\"CASE WHEN visit_low='0' or visit_low IS NULL THEN post_visit_low ELSE Visit_low END\"))\n",
    "# df_new1=df_new.withColumn(\"session_cnt\", expr(\"CASE WHEN hit_source NOT IN ('5','7','8','9') then concat(visit_hi_id_new,'-',visit_low_id_new,'-',visit_num) ELSE NULL END\"))\\\n",
    "# #df_new1.drop_duplicates(df_new1.session_cnt).show()\n",
    "# #df_new1.show()\n",
    "\n",
    "# df3=df_new1.select(countDistinct(\"session_cnt\").alias(\"distn_cnt\"),)\n",
    "# df3.show(truncate=False)"
   ]
  },
  {
   "cell_type": "code",
   "execution_count": 456,
   "id": "49d282f5",
   "metadata": {},
   "outputs": [
    {
     "name": "stdout",
     "output_type": "stream",
     "text": [
      "+----------+---------+---------+----------+----------+---------------+--------------+---+-----------+------+------+------+---------------+----------------+-----------+\n",
      "|visit_high|visit_low|visit_num|event_list|hit_source|post_visit_high|post_visit_low| ds|exclude_hit|prop70|prop58|prop46|visit_hi_id_new|visit_low_id_new|session_cnt|\n",
      "+----------+---------+---------+----------+----------+---------------+--------------+---+-----------+------+------+------+---------------+----------------+-----------+\n",
      "+----------+---------+---------+----------+----------+---------------+--------------+---+-----------+------+------+------+---------------+----------------+-----------+\n",
      "\n"
     ]
    }
   ],
   "source": [
    "df2=df_new1.where((df_new1.ds).between('01-07-2023','31-07-2023')&(df_new1.exclude_hit=='0')&(df_new1.event_list=='12'))\n",
    "df2.show()"
   ]
  },
  {
   "cell_type": "code",
   "execution_count": 457,
   "id": "5b89e638",
   "metadata": {},
   "outputs": [
    {
     "name": "stdout",
     "output_type": "stream",
     "text": [
      "+----------+\n",
      "|        ds|\n",
      "+----------+\n",
      "|01-07-2023|\n",
      "|02-07-2023|\n",
      "|03-07-2023|\n",
      "|04-07-2023|\n",
      "|05-07-2023|\n",
      "|01-08-2023|\n",
      "|02-08-2023|\n",
      "|03-08-2023|\n",
      "|04-08-2023|\n",
      "|01-09-2023|\n",
      "|02-09-2023|\n",
      "|03-09-2023|\n",
      "|04-09-2023|\n",
      "|01-10-2023|\n",
      "|02-10-2023|\n",
      "|03-10-2023|\n",
      "|04-10-2023|\n",
      "+----------+\n",
      "\n"
     ]
    }
   ],
   "source": [
    "df2=df_new1.where(col(\"ds\").between('01-07-2023','05-07-2023')).select(\"ds\")\n",
    "df2.show()"
   ]
  },
  {
   "cell_type": "code",
   "execution_count": null,
   "id": "8eb754c7",
   "metadata": {},
   "outputs": [],
   "source": []
  },
  {
   "cell_type": "code",
   "execution_count": 458,
   "id": "cfdb1da3",
   "metadata": {},
   "outputs": [],
   "source": [
    "df_new=df.withColumn(\"visit_hi_id_new\",expr(\"CASE WHEN visit_high='0' or visit_high IS NULL THEN post_visit_high ELSE Visit_high END\"))\\\n",
    "         .withColumn(\"visit_low_id_new\",expr(\"CASE WHEN visit_low='0' or visit_low IS NULL THEN post_visit_low ELSE Visit_low END\"))\n",
    "df_new1=df_new.withColumn(\"session_cnt\", expr(\"CASE WHEN hit_source NOT IN ('5','7','8','9') then concat(visit_hi_id_new,'-',visit_low_id_new,'-',visit_num) ELSE NULL END\")) \n",
    "#df22=df_new1.withColumn(\"ATC_RATE\",col(\"event_list\")==11).filter(col(\"ATC_RATE\")==True)\n",
    "#df22=df_new1.withColumn(\"ATC_RATE\",df_new1.ds.between('01-07-2023','31-07-2023')&(df_new1.exclude_hit=='0')&(df_new1.event_list=='11'))  \n",
    "#df22=df2.withColumn(\"ATC_RATE\",col(\"event_list\")==12)\n",
    "#df3=df22.select(countDistinct(col(\"session_cnt\")).alias(\"distn_cnt\"))\n",
    "#df3.show(truncate=False)\n"
   ]
  },
  {
   "cell_type": "code",
   "execution_count": 557,
   "id": "bf846185",
   "metadata": {},
   "outputs": [
    {
     "ename": "Py4JError",
     "evalue": "An error occurred while calling o4952.and. Trace:\npy4j.Py4JException: Method and([class java.lang.String]) does not exist\r\n\tat py4j.reflection.ReflectionEngine.getMethod(ReflectionEngine.java:318)\r\n\tat py4j.reflection.ReflectionEngine.getMethod(ReflectionEngine.java:326)\r\n\tat py4j.Gateway.invoke(Gateway.java:274)\r\n\tat py4j.commands.AbstractCommand.invokeMethod(AbstractCommand.java:132)\r\n\tat py4j.commands.CallCommand.execute(CallCommand.java:79)\r\n\tat py4j.ClientServerConnection.waitForCommands(ClientServerConnection.java:182)\r\n\tat py4j.ClientServerConnection.run(ClientServerConnection.java:106)\r\n\tat java.base/java.lang.Thread.run(Thread.java:1589)\r\n\n",
     "output_type": "error",
     "traceback": [
      "\u001b[1;31m---------------------------------------------------------------------------\u001b[0m",
      "\u001b[1;31mPy4JError\u001b[0m                                 Traceback (most recent call last)",
      "\u001b[1;32m~\\AppData\\Local\\Temp\\ipykernel_12944\\2460924054.py\u001b[0m in \u001b[0;36m<module>\u001b[1;34m\u001b[0m\n\u001b[1;32m----> 1\u001b[1;33m \u001b[0mdf22\u001b[0m\u001b[1;33m=\u001b[0m\u001b[0mdf_new1\u001b[0m\u001b[1;33m.\u001b[0m\u001b[0mfilter\u001b[0m\u001b[1;33m(\u001b[0m\u001b[0mcol\u001b[0m\u001b[1;33m(\u001b[0m\u001b[1;34m\"ds\"\u001b[0m\u001b[1;33m)\u001b[0m\u001b[1;33m>=\u001b[0m\u001b[1;34m\"01-07-2023\"\u001b[0m \u001b[1;33m&\u001b[0m \u001b[0mcol\u001b[0m\u001b[1;33m(\u001b[0m\u001b[1;34m\"ds\"\u001b[0m\u001b[1;33m)\u001b[0m\u001b[1;33m<=\u001b[0m\u001b[1;34m\"31-07-2023\"\u001b[0m\u001b[1;33m)\u001b[0m\u001b[1;33m\u001b[0m\u001b[1;33m\u001b[0m\u001b[0m\n\u001b[0m\u001b[0;32m      2\u001b[0m \u001b[1;31m#df33=df22.groupby(\"visit_date\").agg(countDistinct(col(\"session_cnt\")))\u001b[0m\u001b[1;33m\u001b[0m\u001b[1;33m\u001b[0m\u001b[0m\n\u001b[0;32m      3\u001b[0m \u001b[0mdf22\u001b[0m\u001b[1;33m.\u001b[0m\u001b[0mshow\u001b[0m\u001b[1;33m(\u001b[0m\u001b[1;33m)\u001b[0m\u001b[1;33m\u001b[0m\u001b[1;33m\u001b[0m\u001b[0m\n",
      "\u001b[1;32mD:\\juypitor\\lib\\site-packages\\pyspark\\sql\\column.py\u001b[0m in \u001b[0;36m_\u001b[1;34m(self, other)\u001b[0m\n\u001b[0;32m    161\u001b[0m     ) -> \"Column\":\n\u001b[0;32m    162\u001b[0m         \u001b[0mjc\u001b[0m \u001b[1;33m=\u001b[0m \u001b[0mother\u001b[0m\u001b[1;33m.\u001b[0m\u001b[0m_jc\u001b[0m \u001b[1;32mif\u001b[0m \u001b[0misinstance\u001b[0m\u001b[1;33m(\u001b[0m\u001b[0mother\u001b[0m\u001b[1;33m,\u001b[0m \u001b[0mColumn\u001b[0m\u001b[1;33m)\u001b[0m \u001b[1;32melse\u001b[0m \u001b[0mother\u001b[0m\u001b[1;33m\u001b[0m\u001b[1;33m\u001b[0m\u001b[0m\n\u001b[1;32m--> 163\u001b[1;33m         \u001b[0mnjc\u001b[0m \u001b[1;33m=\u001b[0m \u001b[0mgetattr\u001b[0m\u001b[1;33m(\u001b[0m\u001b[0mself\u001b[0m\u001b[1;33m.\u001b[0m\u001b[0m_jc\u001b[0m\u001b[1;33m,\u001b[0m \u001b[0mname\u001b[0m\u001b[1;33m)\u001b[0m\u001b[1;33m(\u001b[0m\u001b[0mjc\u001b[0m\u001b[1;33m)\u001b[0m\u001b[1;33m\u001b[0m\u001b[1;33m\u001b[0m\u001b[0m\n\u001b[0m\u001b[0;32m    164\u001b[0m         \u001b[1;32mreturn\u001b[0m \u001b[0mColumn\u001b[0m\u001b[1;33m(\u001b[0m\u001b[0mnjc\u001b[0m\u001b[1;33m)\u001b[0m\u001b[1;33m\u001b[0m\u001b[1;33m\u001b[0m\u001b[0m\n\u001b[0;32m    165\u001b[0m \u001b[1;33m\u001b[0m\u001b[0m\n",
      "\u001b[1;32mD:\\juypitor\\lib\\site-packages\\py4j\\java_gateway.py\u001b[0m in \u001b[0;36m__call__\u001b[1;34m(self, *args)\u001b[0m\n\u001b[0;32m   1319\u001b[0m \u001b[1;33m\u001b[0m\u001b[0m\n\u001b[0;32m   1320\u001b[0m         \u001b[0manswer\u001b[0m \u001b[1;33m=\u001b[0m \u001b[0mself\u001b[0m\u001b[1;33m.\u001b[0m\u001b[0mgateway_client\u001b[0m\u001b[1;33m.\u001b[0m\u001b[0msend_command\u001b[0m\u001b[1;33m(\u001b[0m\u001b[0mcommand\u001b[0m\u001b[1;33m)\u001b[0m\u001b[1;33m\u001b[0m\u001b[1;33m\u001b[0m\u001b[0m\n\u001b[1;32m-> 1321\u001b[1;33m         return_value = get_return_value(\n\u001b[0m\u001b[0;32m   1322\u001b[0m             answer, self.gateway_client, self.target_id, self.name)\n\u001b[0;32m   1323\u001b[0m \u001b[1;33m\u001b[0m\u001b[0m\n",
      "\u001b[1;32mD:\\juypitor\\lib\\site-packages\\pyspark\\sql\\utils.py\u001b[0m in \u001b[0;36mdeco\u001b[1;34m(*a, **kw)\u001b[0m\n\u001b[0;32m    188\u001b[0m     \u001b[1;32mdef\u001b[0m \u001b[0mdeco\u001b[0m\u001b[1;33m(\u001b[0m\u001b[1;33m*\u001b[0m\u001b[0ma\u001b[0m\u001b[1;33m:\u001b[0m \u001b[0mAny\u001b[0m\u001b[1;33m,\u001b[0m \u001b[1;33m**\u001b[0m\u001b[0mkw\u001b[0m\u001b[1;33m:\u001b[0m \u001b[0mAny\u001b[0m\u001b[1;33m)\u001b[0m \u001b[1;33m->\u001b[0m \u001b[0mAny\u001b[0m\u001b[1;33m:\u001b[0m\u001b[1;33m\u001b[0m\u001b[1;33m\u001b[0m\u001b[0m\n\u001b[0;32m    189\u001b[0m         \u001b[1;32mtry\u001b[0m\u001b[1;33m:\u001b[0m\u001b[1;33m\u001b[0m\u001b[1;33m\u001b[0m\u001b[0m\n\u001b[1;32m--> 190\u001b[1;33m             \u001b[1;32mreturn\u001b[0m \u001b[0mf\u001b[0m\u001b[1;33m(\u001b[0m\u001b[1;33m*\u001b[0m\u001b[0ma\u001b[0m\u001b[1;33m,\u001b[0m \u001b[1;33m**\u001b[0m\u001b[0mkw\u001b[0m\u001b[1;33m)\u001b[0m\u001b[1;33m\u001b[0m\u001b[1;33m\u001b[0m\u001b[0m\n\u001b[0m\u001b[0;32m    191\u001b[0m         \u001b[1;32mexcept\u001b[0m \u001b[0mPy4JJavaError\u001b[0m \u001b[1;32mas\u001b[0m \u001b[0me\u001b[0m\u001b[1;33m:\u001b[0m\u001b[1;33m\u001b[0m\u001b[1;33m\u001b[0m\u001b[0m\n\u001b[0;32m    192\u001b[0m             \u001b[0mconverted\u001b[0m \u001b[1;33m=\u001b[0m \u001b[0mconvert_exception\u001b[0m\u001b[1;33m(\u001b[0m\u001b[0me\u001b[0m\u001b[1;33m.\u001b[0m\u001b[0mjava_exception\u001b[0m\u001b[1;33m)\u001b[0m\u001b[1;33m\u001b[0m\u001b[1;33m\u001b[0m\u001b[0m\n",
      "\u001b[1;32mD:\\juypitor\\lib\\site-packages\\py4j\\protocol.py\u001b[0m in \u001b[0;36mget_return_value\u001b[1;34m(answer, gateway_client, target_id, name)\u001b[0m\n\u001b[0;32m    328\u001b[0m                     format(target_id, \".\", name), value)\n\u001b[0;32m    329\u001b[0m             \u001b[1;32melse\u001b[0m\u001b[1;33m:\u001b[0m\u001b[1;33m\u001b[0m\u001b[1;33m\u001b[0m\u001b[0m\n\u001b[1;32m--> 330\u001b[1;33m                 raise Py4JError(\n\u001b[0m\u001b[0;32m    331\u001b[0m                     \u001b[1;34m\"An error occurred while calling {0}{1}{2}. Trace:\\n{3}\\n\"\u001b[0m\u001b[1;33m.\u001b[0m\u001b[1;33m\u001b[0m\u001b[1;33m\u001b[0m\u001b[0m\n\u001b[0;32m    332\u001b[0m                     format(target_id, \".\", name, value))\n",
      "\u001b[1;31mPy4JError\u001b[0m: An error occurred while calling o4952.and. Trace:\npy4j.Py4JException: Method and([class java.lang.String]) does not exist\r\n\tat py4j.reflection.ReflectionEngine.getMethod(ReflectionEngine.java:318)\r\n\tat py4j.reflection.ReflectionEngine.getMethod(ReflectionEngine.java:326)\r\n\tat py4j.Gateway.invoke(Gateway.java:274)\r\n\tat py4j.commands.AbstractCommand.invokeMethod(AbstractCommand.java:132)\r\n\tat py4j.commands.CallCommand.execute(CallCommand.java:79)\r\n\tat py4j.ClientServerConnection.waitForCommands(ClientServerConnection.java:182)\r\n\tat py4j.ClientServerConnection.run(ClientServerConnection.java:106)\r\n\tat java.base/java.lang.Thread.run(Thread.java:1589)\r\n\n"
     ]
    }
   ],
   "source": [
    "df22=df_new1.filter(col(\"ds\")>=\"01-07-2023\" & col(\"ds\")<=\"31-07-2023\")\n",
    "#df33=df22.groupby(\"visit_date\").agg(countDistinct(col(\"session_cnt\")))\n",
    "df22.show()"
   ]
  },
  {
   "cell_type": "code",
   "execution_count": 539,
   "id": "50dcb685",
   "metadata": {},
   "outputs": [
    {
     "name": "stdout",
     "output_type": "stream",
     "text": [
      "+--------+\n",
      "|dsnt_cnt|\n",
      "+--------+\n",
      "|       3|\n",
      "+--------+\n",
      "\n"
     ]
    }
   ],
   "source": [
    "from pyspark.sql import functions as F\n",
    "df_new=df.withColumn(\"visit_hi_id_new\",expr(\"CASE WHEN visit_high='0' or visit_high IS NULL THEN post_visit_high ELSE Visit_high END\"))\\\n",
    "         .withColumn(\"visit_low_id_new\",expr(\"CASE WHEN visit_low='0' or visit_low IS NULL THEN post_visit_low ELSE Visit_low END\"))\\\n",
    "        .withColumn(\"session_cnt\", expr(\"CASE WHEN hit_source NOT IN ('5','7','8','9') then concat(visit_hi_id_new,'-',visit_low_id_new,'-',visit_num) ELSE NULL END\"))\n",
    "df3=df_new.where(\"ds between '01-07-2023' and '31-07-2023' and array_contains(split(event_list,','),'108')\") \\\n",
    "           .agg(countDistinct(col(\"session_cnt\")).alias(\"dsnt_cnt\")) \\\n",
    "                   \n",
    "df3.show()"
   ]
  },
  {
   "cell_type": "code",
   "execution_count": 540,
   "id": "64710af9",
   "metadata": {},
   "outputs": [
    {
     "name": "stdout",
     "output_type": "stream",
     "text": [
      "+--------+\n",
      "|dsnt_cnt|\n",
      "+--------+\n",
      "|       3|\n",
      "+--------+\n",
      "\n"
     ]
    }
   ],
   "source": [
    "from pyspark.sql import functions as F\n",
    "df_new=df.withColumn(\"visit_hi_id_new\",expr(\"CASE WHEN visit_high='0' or visit_high IS NULL THEN post_visit_high ELSE Visit_high END\"))\\\n",
    "         .withColumn(\"visit_low_id_new\",expr(\"CASE WHEN visit_low='0' or visit_low IS NULL THEN post_visit_low ELSE Visit_low END\"))\n",
    "df_new1=df_new.withColumn(\"session_cnt\", expr(\"CASE WHEN hit_source NOT IN ('5','7','8','9') then concat(visit_hi_id_new,'-',visit_low_id_new,'-',visit_num) ELSE NULL END\"))\n",
    "df6=df_new1.where(\"ds between '01-07-2023' and '31-07-2023'\")\n",
    "      \n",
    "df7 =df6.withColumn(\"ATC_RATE\",array_contains(split(\"event_list\",\",\"),'108')).filter(col(\"ATC_RATE\")=='true')\n",
    "df8=df7.agg(countDistinct(col(\"session_cnt\")).alias(\"dsnt_cnt\"))\n",
    "                   \n",
    "df8.select(\"dsnt_cnt\").show()"
   ]
  },
  {
   "cell_type": "code",
   "execution_count": 460,
   "id": "49a81424",
   "metadata": {},
   "outputs": [
    {
     "name": "stdout",
     "output_type": "stream",
     "text": [
      "+-----------+-----+\n",
      "|       pp58|count|\n",
      "+-----------+-----+\n",
      "|productPage|    1|\n",
      "+-----------+-----+\n",
      "\n"
     ]
    }
   ],
   "source": [
    "dff=df.withColumn(\"pp58\", substring('prop58',0,11)).where(col(\"pp58\")==\"productPage\").groupBy('pp58').count()\n",
    "df11=dff.where(col(\"pp58\")==\"productPage\").groupBy('pp58').count()\n",
    "df11.show()"
   ]
  },
  {
   "cell_type": "code",
   "execution_count": 461,
   "id": "b3473370",
   "metadata": {},
   "outputs": [
    {
     "name": "stdout",
     "output_type": "stream",
     "text": [
      "+--------+-----+\n",
      "|ATC_RATE|ATC_R|\n",
      "+--------+-----+\n",
      "|    true|  108|\n",
      "|    true|  108|\n",
      "|    true|  108|\n",
      "|    true|  108|\n",
      "|    true|  108|\n",
      "|    true|  108|\n",
      "|    true|  108|\n",
      "|    true|  108|\n",
      "|    true|  108|\n",
      "|    true|  108|\n",
      "|    true|  108|\n",
      "|    true|  108|\n",
      "|    true|  108|\n",
      "|    true|  108|\n",
      "|    true|  108|\n",
      "|    true|  108|\n",
      "|    true|  108|\n",
      "|    true|  108|\n",
      "|    true|  108|\n",
      "|    true|  108|\n",
      "+--------+-----+\n",
      "only showing top 20 rows\n",
      "\n"
     ]
    }
   ],
   "source": [
    "df7 =df6.withColumn(\"ATC_RATE\",array_contains(split(\"event_list\",\",\"),'108')) \\\n",
    "        .withColumn(\"ATC_R\",split(\"event_list\",',').getItem(0))\n",
    "df7.select(\"ATC_RATE\",\"ATC_R\").show()"
   ]
  },
  {
   "cell_type": "code",
   "execution_count": 462,
   "id": "1e0b7716",
   "metadata": {},
   "outputs": [
    {
     "name": "stdout",
     "output_type": "stream",
     "text": [
      "+-----------+\n",
      "|       pp58|\n",
      "+-----------+\n",
      "|productPage|\n",
      "|productPage|\n",
      "|productPage|\n",
      "|productPage|\n",
      "|productPage|\n",
      "|productPage|\n",
      "|productPage|\n",
      "|productPage|\n",
      "|productPage|\n",
      "|productPage|\n",
      "|productPage|\n",
      "|productPage|\n",
      "|productPage|\n",
      "|productPage|\n",
      "|productPage|\n",
      "|productPage|\n",
      "|productPage|\n",
      "|productPage|\n",
      "|productPage|\n",
      "|productPage|\n",
      "+-----------+\n",
      "only showing top 20 rows\n",
      "\n"
     ]
    }
   ],
   "source": [
    "dff=df.withColumn(\"pp58\", substring('prop58',0,11))\n",
    "dff.select('pp58').show()"
   ]
  },
  {
   "cell_type": "code",
   "execution_count": 482,
   "id": "8adbd4f8",
   "metadata": {},
   "outputs": [
    {
     "name": "stdout",
     "output_type": "stream",
     "text": [
      "+--------------------+\n",
      "|              prop58|\n",
      "+--------------------+\n",
      "|productPage|pageV...|\n",
      "|productPage|pageV...|\n",
      "|productPage|pageV...|\n",
      "|productPage|pageV...|\n",
      "|productPage|pageV...|\n",
      "|productPage|pageV...|\n",
      "|productPage|pageV...|\n",
      "|productPage|pageV...|\n",
      "|productPage|pageV...|\n",
      "|productPage|pageV...|\n",
      "|productPage|pageV...|\n",
      "|productPage|pageV...|\n",
      "|productPage|pageV...|\n",
      "|productPage|pageV...|\n",
      "|productPage|pageV...|\n",
      "|productPage|pageV...|\n",
      "|productPage|pageV...|\n",
      "|productPage|pageV...|\n",
      "|productPage|pageV...|\n",
      "|productPage|pageV...|\n",
      "+--------------------+\n",
      "only showing top 20 rows\n",
      "\n"
     ]
    }
   ],
   "source": [
    "df12=dff.filter(col(\"prop58\").contains(\"productPage\"))\n",
    "df12.select(\"prop58\").show()"
   ]
  },
  {
   "cell_type": "code",
   "execution_count": 485,
   "id": "1df3f78d",
   "metadata": {},
   "outputs": [],
   "source": [
    "df13=dff.filter(col(\"prop58\").like(\"%productPage%\"))\n"
   ]
  },
  {
   "cell_type": "code",
   "execution_count": 524,
   "id": "c6b26db6",
   "metadata": {},
   "outputs": [
    {
     "name": "stdout",
     "output_type": "stream",
     "text": [
      "+----------+---------+------+----------------------------+\n",
      "|visit_high|visit_low|prop70|prop58                      |\n",
      "+----------+---------+------+----------------------------+\n",
      "|0         |0        |web   |productPage|pageView|onClick|\n",
      "|0         |0        |web   |productPage|pageView|onClick|\n",
      "|0         |0        |web   |productPage|pageView|onClick|\n",
      "|0         |0        |web   |productPage|pageView|onClick|\n",
      "|0         |0        |web   |productPage|pageView|onClick|\n",
      "|0         |0        |web   |productPage|pageView|onClick|\n",
      "|0         |0        |web   |productPage|pageView|onClick|\n",
      "|0         |0        |web   |productPage|pageView|onClick|\n",
      "|0         |0        |web   |productPage|pageView|onClick|\n",
      "|0         |0        |web   |productPage|pageView|onClick|\n",
      "|0         |0        |web   |productPage|pageView|onClick|\n",
      "|0         |0        |web   |productPage|pageView|onClick|\n",
      "|0         |0        |web   |productPage|pageView|onClick|\n",
      "|0         |0        |web   |productPage|pageView|onClick|\n",
      "|0         |0        |web   |productPage|pageView|onClick|\n",
      "|0         |0        |web   |productPage|pageView|onClick|\n",
      "|0         |0        |web   |productPage|pageView|onClick|\n",
      "|0         |0        |web   |productPage|pageView|onClick|\n",
      "|0         |0        |web   |productPage|pageView|onClick|\n",
      "|0         |0        |web   |productPage|pageView|onClick|\n",
      "+----------+---------+------+----------------------------+\n",
      "only showing top 20 rows\n",
      "\n"
     ]
    }
   ],
   "source": [
    "#dff.filter(\"prop58 like '%productPage%'\")\n",
    "dff.select(\"visit_high\",\"visit_low\",\"prop70\",\"prop58\").where(col(\"prop58\").contains(\"productPage\")).where(col(\"prop70\").like(\"%web%\")).show(truncate=False)"
   ]
  },
  {
   "cell_type": "code",
   "execution_count": 532,
   "id": "de904289",
   "metadata": {},
   "outputs": [
    {
     "name": "stdout",
     "output_type": "stream",
     "text": [
      "+-----------+\n",
      "|       pp59|\n",
      "+-----------+\n",
      "|productPage|\n",
      "|productPage|\n",
      "|productPage|\n",
      "|productPage|\n",
      "|productPage|\n",
      "|productPage|\n",
      "|productPage|\n",
      "|productPage|\n",
      "|productPage|\n",
      "|productPage|\n",
      "|productPage|\n",
      "|productPage|\n",
      "|productPage|\n",
      "|productPage|\n",
      "|productPage|\n",
      "|productPage|\n",
      "|productPage|\n",
      "|productPage|\n",
      "|productPage|\n",
      "|productPage|\n",
      "+-----------+\n",
      "only showing top 20 rows\n",
      "\n"
     ]
    }
   ],
   "source": [
    "df14=dff.withColumn(\"pp59\",explode(split(col(\"prop58\"),'\\\\|'))).filter(col(\"pp59\")==\"productPage\")\n",
    "df14.select(\"pp59\").show()"
   ]
  },
  {
   "cell_type": "code",
   "execution_count": 538,
   "id": "fe470957",
   "metadata": {},
   "outputs": [
    {
     "name": "stdout",
     "output_type": "stream",
     "text": [
      "+---+\n",
      "|evn|\n",
      "+---+\n",
      "|108|\n",
      "|108|\n",
      "|108|\n",
      "|108|\n",
      "|108|\n",
      "|108|\n",
      "|108|\n",
      "|108|\n",
      "|108|\n",
      "|108|\n",
      "|108|\n",
      "|108|\n",
      "|108|\n",
      "|108|\n",
      "|108|\n",
      "|108|\n",
      "|108|\n",
      "|108|\n",
      "|108|\n",
      "|108|\n",
      "+---+\n",
      "only showing top 20 rows\n",
      "\n"
     ]
    }
   ],
   "source": [
    "df15=dff.withColumn(\"evn\",explode(split(col(\"event_list\"),','))).filter(col(\"evn\")==\"108\")\n",
    "df15.select(\"evn\").show()"
   ]
  },
  {
   "cell_type": "code",
   "execution_count": 567,
   "id": "c7afa72b",
   "metadata": {},
   "outputs": [
    {
     "name": "stdout",
     "output_type": "stream",
     "text": [
      "+----------------+----------------+----------------+\n",
      "|ATC_RATE_CNT_num|Site_bounce_rate|ATC_RATE_CNT_DEN|\n",
      "+----------------+----------------+----------------+\n",
      "|1               |3               |3               |\n",
      "+----------------+----------------+----------------+\n",
      "\n"
     ]
    }
   ],
   "source": [
    "from pyspark.sql import functions as F\n",
    "df_new=df.withColumn(\"visit_hi_id_new\",expr(\"CASE WHEN visit_high='0' or visit_high IS NULL THEN post_visit_high ELSE Visit_high END\"))\\\n",
    "         .withColumn(\"visit_low_id_new\",expr(\"CASE WHEN visit_low='0' or visit_low IS NULL THEN post_visit_low ELSE Visit_low END\"))\n",
    "df_new1=df_new.withColumn(\"session_cnt\", expr(\"CASE WHEN hit_source NOT IN ('5','7','8','9') then concat(visit_hi_id_new,'-',visit_low_id_new,'-',visit_num) ELSE NULL END\"))\n",
    "df6=df_new1.where(\"ds between '01-07-2023' and '31-07-2023'\")\n",
    "      \n",
    "ATC_RATE_CNT_num =df6.withColumn(\"ATC_RATE_CNT\",explode(split(col(\"event_list\"),','))).filter((col(\"ATC_RATE_CNT\")==\"10\") & (col(\"prop70\")==\"web\"))\n",
    "df8=ATC_RATE_CNT_num.agg(countDistinct(\"session_cnt\").alias(\"ATC_RATE_CNT_num\"))\n",
    "df10=df6.agg(countDistinct(\"session_cnt\").alias(\"ATC_RATE_CNT_DEN\"))\n",
    "\n",
    "Site_bounce_rate=df6.withColumn(\"Site_bounce_rate\",explode(split(col(\"prop58\"),'\\\\|'))).filter(col(\"Site_bounce_rate\")==\"productPage\")\n",
    "df9=Site_bounce_rate.agg(countDistinct(\"session_cnt\").alias(\"Site_bounce_rate\"))\n",
    "\n",
    "df11=df8.join(df9).join(df10).show(truncate=False)"
   ]
  },
  {
   "cell_type": "code",
   "execution_count": null,
   "id": "a172800e",
   "metadata": {},
   "outputs": [],
   "source": []
  },
  {
   "cell_type": "code",
   "execution_count": null,
   "id": "ea6d4181",
   "metadata": {},
   "outputs": [],
   "source": []
  },
  {
   "cell_type": "code",
   "execution_count": null,
   "id": "dc29ebea",
   "metadata": {},
   "outputs": [],
   "source": []
  }
 ],
 "metadata": {
  "kernelspec": {
   "display_name": "Python 3 (ipykernel)",
   "language": "python",
   "name": "python3"
  },
  "language_info": {
   "codemirror_mode": {
    "name": "ipython",
    "version": 3
   },
   "file_extension": ".py",
   "mimetype": "text/x-python",
   "name": "python",
   "nbconvert_exporter": "python",
   "pygments_lexer": "ipython3",
   "version": "3.9.13"
  }
 },
 "nbformat": 4,
 "nbformat_minor": 5
}
