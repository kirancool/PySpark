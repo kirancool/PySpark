{
 "cells": [
  {
   "cell_type": "code",
   "execution_count": 449,
   "id": "d3fc1d72",
   "metadata": {},
   "outputs": [],
   "source": [
    "from pyspark.sql import SparkSession, Row\n",
    "from pyspark.sql.window import *\n",
    "from pyspark.sql.types import *\n",
    "from pyspark.sql.functions import *\n",
    "import json"
   ]
  },
  {
   "cell_type": "code",
   "execution_count": 450,
   "id": "e7403348",
   "metadata": {},
   "outputs": [],
   "source": [
    "spark= SparkSession \\\n",
    "       .builder \\\n",
    "       .appName(\"JsonPyspark\") \\\n",
    "       .master(\"local[*]\") \\\n",
    "       .config(\"spark.dynamicAllocation.enabled\", \"true\") \\\n",
    "       .config(\"spark.executor.memory\", \"512mb\") \\\n",
    "       .getOrCreate()"
   ]
  },
  {
   "cell_type": "code",
   "execution_count": 451,
   "id": "5e3d2a47",
   "metadata": {},
   "outputs": [
    {
     "name": "stdout",
     "output_type": "stream",
     "text": [
      "root\n",
      " |-- @context: string (nullable = true)\n",
      " |-- @id: string (nullable = true)\n",
      " |-- @type: string (nullable = true)\n",
      " |-- conformsTo: string (nullable = true)\n",
      " |-- dataset: array (nullable = true)\n",
      " |    |-- element: struct (containsNull = true)\n",
      " |    |    |-- @type: string (nullable = true)\n",
      " |    |    |-- accessLevel: string (nullable = true)\n",
      " |    |    |-- accrualPeriodicity: string (nullable = true)\n",
      " |    |    |-- bureauCode: array (nullable = true)\n",
      " |    |    |    |-- element: string (containsNull = true)\n",
      " |    |    |-- contactPoint: struct (nullable = true)\n",
      " |    |    |    |-- fn: string (nullable = true)\n",
      " |    |    |    |-- hasEmail: string (nullable = true)\n",
      " |    |    |-- describedBy: string (nullable = true)\n",
      " |    |    |-- description: string (nullable = true)\n",
      " |    |    |-- distribution: array (nullable = true)\n",
      " |    |    |    |-- element: struct (containsNull = true)\n",
      " |    |    |    |    |-- @type: string (nullable = true)\n",
      " |    |    |    |    |-- accessURL: string (nullable = true)\n",
      " |    |    |    |    |-- description: string (nullable = true)\n",
      " |    |    |    |    |-- downloadURL: string (nullable = true)\n",
      " |    |    |    |    |-- format: string (nullable = true)\n",
      " |    |    |    |    |-- mediaType: string (nullable = true)\n",
      " |    |    |    |    |-- title: string (nullable = true)\n",
      " |    |    |-- identifier: string (nullable = true)\n",
      " |    |    |-- issued: string (nullable = true)\n",
      " |    |    |-- keyword: array (nullable = true)\n",
      " |    |    |    |-- element: string (containsNull = true)\n",
      " |    |    |-- landingPage: string (nullable = true)\n",
      " |    |    |-- modified: string (nullable = true)\n",
      " |    |    |-- programCode: array (nullable = true)\n",
      " |    |    |    |-- element: string (containsNull = true)\n",
      " |    |    |-- publisher: struct (nullable = true)\n",
      " |    |    |    |-- @type: string (nullable = true)\n",
      " |    |    |    |-- name: string (nullable = true)\n",
      " |    |    |-- spatial: string (nullable = true)\n",
      " |    |    |-- temporal: string (nullable = true)\n",
      " |    |    |-- title: string (nullable = true)\n",
      " |-- describedBy: string (nullable = true)\n",
      "\n"
     ]
    }
   ],
   "source": [
    "df=spark.read.option(\"mode\",\"DROPMALFORMED\").json(\"datasets/data.json\")\n",
    "df.printSchema()"
   ]
  },
  {
   "cell_type": "code",
   "execution_count": 452,
   "id": "173f9813",
   "metadata": {},
   "outputs": [
    {
     "name": "stdout",
     "output_type": "stream",
     "text": [
      "+------------+-----------+------------------+----------+--------------------+--------------------+--------------------+\n",
      "|       @type|accesslevel|accrualPeriodicity|bureauCode|                  fn|               @type|         describedBy|\n",
      "+------------+-----------+------------------+----------+--------------------+--------------------+--------------------+\n",
      "|dcat:Dataset|     public|              null|  [000:00]|Marine Scotland S...| [dcat:Distribution]|https://project-o...|\n",
      "|dcat:Dataset|     public|              null|  [000:00]|Marine Scotland S...|[dcat:Distributio...|https://project-o...|\n",
      "|dcat:Dataset|     public|              null|  [000:00]|Marine Scotland S...|[dcat:Distributio...|https://project-o...|\n",
      "|dcat:Dataset|     public|              null|  [000:00]|Marine Scotland S...| [dcat:Distribution]|https://project-o...|\n",
      "|dcat:Dataset|     public|              null|  [000:00]|Marine Scotland S...| [dcat:Distribution]|https://project-o...|\n",
      "|dcat:Dataset|     public|              null|  [000:00]|Marine Scotland S...| [dcat:Distribution]|https://project-o...|\n",
      "|dcat:Dataset|     public|              null|  [000:00]|Marine Scotland S...| [dcat:Distribution]|https://project-o...|\n",
      "|dcat:Dataset|     public|              null|  [000:00]|Marine Scotland S...| [dcat:Distribution]|https://project-o...|\n",
      "|dcat:Dataset|     public|              null|  [000:00]|Marine Scotland S...| [dcat:Distribution]|https://project-o...|\n",
      "|dcat:Dataset|     public|              null|  [000:00]|Marine Scotland S...|[dcat:Distributio...|https://project-o...|\n",
      "|dcat:Dataset|     public|              null|  [000:00]|     Marine Scotland|[dcat:Distributio...|https://project-o...|\n",
      "|dcat:Dataset|     public|              null|  [000:00]|Marine Scotland S...|[dcat:Distributio...|https://project-o...|\n",
      "|dcat:Dataset|     public|              null|  [000:00]|     Marine Scotland|[dcat:Distributio...|https://project-o...|\n",
      "|dcat:Dataset|     public|              null|  [000:00]|               admin| [dcat:Distribution]|https://project-o...|\n",
      "|dcat:Dataset|     public|              null|  [000:00]|     Marine Scotland|[dcat:Distributio...|https://project-o...|\n",
      "|dcat:Dataset|     public|              null|  [000:00]|     Marine Scotland|[dcat:Distributio...|https://project-o...|\n",
      "|dcat:Dataset|     public|              null|  [000:00]|     Marine Scotland|[dcat:Distributio...|https://project-o...|\n",
      "|dcat:Dataset|     public|              null|  [000:00]|     Marine Scotland| [dcat:Distribution]|https://project-o...|\n",
      "|dcat:Dataset|     public|              null|  [000:00]|     Marine Scotland| [dcat:Distribution]|https://project-o...|\n",
      "|dcat:Dataset|     public|              null|  [000:00]|    Marine Scotland | [dcat:Distribution]|https://project-o...|\n",
      "+------------+-----------+------------------+----------+--------------------+--------------------+--------------------+\n",
      "only showing top 20 rows\n",
      "\n"
     ]
    }
   ],
   "source": [
    "updatedDF = df.withColumn(\"dataset\",explode(col(\"dataset\"))).select(\"dataset.@type\",\"dataset.accesslevel\",\"dataset.accrualPeriodicity\",\"dataset.bureauCode\",\"dataset.contactPoint.fn\",\"dataset.distribution.@type\",\"describedBy\")\n",
    "updatedDF.show()"
   ]
  },
  {
   "cell_type": "code",
   "execution_count": 453,
   "id": "8883ae7a",
   "metadata": {},
   "outputs": [],
   "source": [
    "filter_df=updatedDF.filter(updatedDF.accesslevel==\"public\")\n"
   ]
  },
  {
   "cell_type": "code",
   "execution_count": 454,
   "id": "0db8f454",
   "metadata": {},
   "outputs": [
    {
     "name": "stdout",
     "output_type": "stream",
     "text": [
      "+------------+-----------+------------------+----------+--------------------+--------------------+--------------------+\n",
      "|       @type|accesslevel|accrualPeriodicity|bureauCode|                  fn|               @type|         describedBy|\n",
      "+------------+-----------+------------------+----------+--------------------+--------------------+--------------------+\n",
      "|dcat:Dataset|     public|              null|  [000:00]|Marine Scotland S...| [dcat:Distribution]|https://project-o...|\n",
      "|dcat:Dataset|     public|              null|  [000:00]|Marine Scotland S...|[dcat:Distributio...|https://project-o...|\n",
      "|dcat:Dataset|     public|              null|  [000:00]|Marine Scotland S...|[dcat:Distributio...|https://project-o...|\n",
      "|dcat:Dataset|     public|              null|  [000:00]|Marine Scotland S...| [dcat:Distribution]|https://project-o...|\n",
      "|dcat:Dataset|     public|              null|  [000:00]|Marine Scotland S...| [dcat:Distribution]|https://project-o...|\n",
      "|dcat:Dataset|     public|              null|  [000:00]|Marine Scotland S...| [dcat:Distribution]|https://project-o...|\n",
      "|dcat:Dataset|     public|              null|  [000:00]|Marine Scotland S...| [dcat:Distribution]|https://project-o...|\n",
      "|dcat:Dataset|     public|              null|  [000:00]|Marine Scotland S...| [dcat:Distribution]|https://project-o...|\n",
      "|dcat:Dataset|     public|              null|  [000:00]|Marine Scotland S...| [dcat:Distribution]|https://project-o...|\n",
      "|dcat:Dataset|     public|              null|  [000:00]|Marine Scotland S...|[dcat:Distributio...|https://project-o...|\n",
      "|dcat:Dataset|     public|              null|  [000:00]|     Marine Scotland|[dcat:Distributio...|https://project-o...|\n",
      "|dcat:Dataset|     public|              null|  [000:00]|Marine Scotland S...|[dcat:Distributio...|https://project-o...|\n",
      "|dcat:Dataset|     public|              null|  [000:00]|     Marine Scotland|[dcat:Distributio...|https://project-o...|\n",
      "|dcat:Dataset|     public|              null|  [000:00]|               admin| [dcat:Distribution]|https://project-o...|\n",
      "|dcat:Dataset|     public|              null|  [000:00]|     Marine Scotland|[dcat:Distributio...|https://project-o...|\n",
      "|dcat:Dataset|     public|              null|  [000:00]|     Marine Scotland|[dcat:Distributio...|https://project-o...|\n",
      "|dcat:Dataset|     public|              null|  [000:00]|     Marine Scotland|[dcat:Distributio...|https://project-o...|\n",
      "|dcat:Dataset|     public|              null|  [000:00]|     Marine Scotland| [dcat:Distribution]|https://project-o...|\n",
      "|dcat:Dataset|     public|              null|  [000:00]|     Marine Scotland| [dcat:Distribution]|https://project-o...|\n",
      "|dcat:Dataset|     public|              null|  [000:00]|    Marine Scotland | [dcat:Distribution]|https://project-o...|\n",
      "+------------+-----------+------------------+----------+--------------------+--------------------+--------------------+\n",
      "only showing top 20 rows\n",
      "\n"
     ]
    }
   ],
   "source": [
    "sort_filter=filter_df.sort(filter_df.bureauCode)\n",
    "sort_filter.show()"
   ]
  },
  {
   "cell_type": "code",
   "execution_count": 455,
   "id": "ec6e198c",
   "metadata": {},
   "outputs": [
    {
     "data": {
      "text/plain": [
       "DataFrame[@context: string, @id: string, @type: string, conformsTo: string, dataset: array<struct<@type:string,accessLevel:string,accrualPeriodicity:string,bureauCode:array<string>,contactPoint:struct<fn:string,hasEmail:string>,describedBy:string,description:string,distribution:array<struct<@type:string,accessURL:string,description:string,downloadURL:string,format:string,mediaType:string,title:string>>,identifier:string,issued:string,keyword:array<string>,landingPage:string,modified:string,programCode:array<string>,publisher:struct<@type:string,name:string>,spatial:string,temporal:string,title:string>>, describedBy: string, type: string, name: string]"
      ]
     },
     "metadata": {},
     "output_type": "display_data"
    }
   ],
   "source": [
    "df_final=df.withColumn(\"publisher\",explode(\"dataset.publisher\"))\\\n",
    "           .withColumn(\"type\",col(\"publisher.@type\"))\\\n",
    "           .withColumn(\"name\",col(\"publisher.name\")) \\\n",
    "           .drop(\"dataset.publisher\",\"publisher\")\n",
    "display(df_final)"
   ]
  },
  {
   "cell_type": "code",
   "execution_count": null,
   "id": "614d8dc9",
   "metadata": {},
   "outputs": [],
   "source": []
  },
  {
   "cell_type": "code",
   "execution_count": null,
   "id": "38f02ac8",
   "metadata": {},
   "outputs": [],
   "source": []
  },
  {
   "cell_type": "code",
   "execution_count": 456,
   "id": "b3cc3007",
   "metadata": {},
   "outputs": [],
   "source": [
    "# from tweepy.models import Status\n",
    "# import pymongo\n",
    "# from pymongo import MongoClient\n",
    "# import tweepy\n",
    "# import json\n",
    "# import pandas as pd\n",
    "\n",
    "\n",
    "# auth = tweepy.OAuthHandler(\"t0S3HCeFVjL0kG7wsm43rzS3h\", \"hcxdoNZQTk5sW3dp8HQuZYrL6SFbgtlkzkcdFrBn00k2c2eA4Z\")\n",
    "# auth.set_access_token(\"2418628328-MwtI3x7wSTKXVvc82VKr3mAouk9JO9BJ3JA35Wf\", \"hE8OC7cisnM54XcnrSChQeCA6DWZosP85crH8XdQ7Gju0\")\n",
    "# api = tweepy.API(auth,wait_on_rate_limit=True)\n",
    "\n",
    "# client=MongoClient()\n",
    "# db=client.tweet_db\n",
    "# tweet_collection=db.tweet_collection\n",
    "# tweet_collection.create_index([(\"id\",pymongo.ASCENDING)],unique=True)\n",
    "# MAX_TWEETS = 50\n",
    "# df=tweepy.Cursor(api.search_tweets, q='#walmart').items(MAX_TWEETS)\n",
    "# dff=[]\n",
    "# for tweet in df:\n",
    "#     text = tweet._json\n",
    "# print(text)"
   ]
  },
  {
   "cell_type": "code",
   "execution_count": 457,
   "id": "49ead75f",
   "metadata": {},
   "outputs": [],
   "source": [
    "# schema= StructType([StructField(\"eb_id\", StringType(),True),\n",
    "#                    StructField(\"Zipcode\",IntegerType(),True),\n",
    "#                    StructField(\"City\",StringType(),True),\n",
    "#                    StructField(\"State\", StringType(),True),\n",
    "#                    StructField(\"Location\",StringType(),True)])"
   ]
  },
  {
   "cell_type": "code",
   "execution_count": 458,
   "id": "6d7a1841",
   "metadata": {},
   "outputs": [
    {
     "name": "stdout",
     "output_type": "stream",
     "text": [
      "root\n",
      " |-- detail: string (nullable = true)\n",
      " |-- eb_id: string (nullable = true)\n",
      "\n"
     ]
    }
   ],
   "source": [
    "df_covid=spark.read.option('multiline','true').json('datasets/BP_Optimum_Johor_15092021.json')\n",
    "df_covid.printSchema()\n"
   ]
  },
  {
   "cell_type": "code",
   "execution_count": 459,
   "id": "8833310a",
   "metadata": {},
   "outputs": [
    {
     "name": "stdout",
     "output_type": "stream",
     "text": [
      "root\n",
      " |-- detail: map (nullable = true)\n",
      " |    |-- key: string\n",
      " |    |-- value: string (valueContainsNull = true)\n",
      " |-- eb_id: string (nullable = true)\n",
      "\n"
     ]
    }
   ],
   "source": [
    "from pyspark.sql.types import MapType,StringType\n",
    "Mapschema=MapType(StringType(),StringType())\n",
    "\n",
    "df1=df_covid.withColumn('detail',from_json(df_covid.detail,Mapschema))\n",
    "df1.printSchema()\n"
   ]
  },
  {
   "cell_type": "code",
   "execution_count": 551,
   "id": "c4b19d30",
   "metadata": {},
   "outputs": [
    {
     "name": "stdout",
     "output_type": "stream",
     "text": [
      "+----------+--------------------+---------------------+\n",
      "|     eb_id|   parentInformation|listOfHouseholdMember|\n",
      "+----------+--------------------+---------------------+\n",
      "|0101029071|{\"A1\":\"NOH YERENE...| [{\"id\":\"1\",\"flag\"...|\n",
      "|0101029071|{\"B6\":\"PARIT AMAT...|                 null|\n",
      "|0101029071|{\"B6\":\"PARIT AMAT...|                 null|\n",
      "|0101029071|{\"B6\":\"PARIT AMAT...|                 null|\n",
      "|0101029071|{\"A1\":\"KAMARUZAMA...| [{\"id\":\"1\",\"flag\"...|\n",
      "|0101029071|{\"B1\":\"T/L KAL 15...|                 null|\n",
      "|0101029071|{\"B1\":\"T/L KAL 15...|                 null|\n",
      "|0101029071|{\"A1\":\"KAMARUDIN ...| [{\"id\":\"1\",\"flag\"...|\n",
      "|0101029071|{\"B1\":\"T/L KAL 15...|                 null|\n",
      "|0101029071|{\"A1\":\"SALIHAH BI...| [{\"id\":\"1\",\"flag\"...|\n",
      "|0101029071|{\"A1\":\"ASMAH BINT...| [{\"id\":\"1\",\"flag\"...|\n",
      "|0101029071|{\"A1\":\"MADEK BIN ...| [{\"id\":\"1\",\"flag\"...|\n",
      "|0101029071|{\"A1\":\"RAIS BIN A...| [{\"id\":\"1\",\"flag\"...|\n",
      "|0101029071|{\"A1\":\"ISMAIL BIN...| [{\"id\":\"1\",\"flag\"...|\n",
      "|0101029071|{\"A1\":\"KHAMIS BIN...| [{\"id\":\"1\",\"flag\"...|\n",
      "|0101029071|{\"A1\":\"AMIR BIN H...| [{\"id\":\"1\",\"flag\"...|\n",
      "|0101029071|{\"A1\":\"ROKIAH BIN...| [{\"id\":\"1\",\"flag\"...|\n",
      "|0101029071|{\"A1\":\"JELANI BIN...| [{\"id\":\"1\",\"flag\"...|\n",
      "|0101029071|{\"A1\":\"ZAHARAH BI...| [{\"id\":\"1\",\"flag\"...|\n",
      "|0101029071|{\"A1\":\"MOHD ANAFH...| [{\"id\":\"1\",\"flag\"...|\n",
      "+----------+--------------------+---------------------+\n",
      "only showing top 20 rows\n",
      "\n"
     ]
    }
   ],
   "source": [
    "from pyspark.sql import functions as F\n",
    "\n",
    "df2=df1.withColumn(\"parentInformation\",df1.detail.parentInformation) \\\n",
    "       .withColumn(\"listOfHouseholdMember\",df1.detail.listOfHouseholdMember) \\\n",
    "       .drop(\"detail\")\n",
    "df2.show()\n",
    "\n",
    "# schema=StructType([StructField(\"parentInformation\",StringType(),True)])\n",
    "\n",
    "# df_final=df_covid.select(from_json(col(\"detail\"),schema)).select(\"eb_id\",\"detail.*\").show()"
   ]
  },
  {
   "cell_type": "code",
   "execution_count": 552,
   "id": "d5f50eec",
   "metadata": {},
   "outputs": [],
   "source": [
    "# convertUDF=udf(lambda x:api_call(str(x)))\n",
    "# schema=StructType([StructField(\"parentInformation\",StringType(),True)])\n",
    "# df_final=df_covid.withColumn(\"detail\",from_json(convertUDF(col(\"detail\")),schema))\n",
    "# df_final.show()"
   ]
  },
  {
   "cell_type": "code",
   "execution_count": 553,
   "id": "e2f3184f",
   "metadata": {},
   "outputs": [
    {
     "name": "stdout",
     "output_type": "stream",
     "text": [
      "+--------------------+--------------------+----------+--------------------+---------------------+\n",
      "|   parentInformation|                  A1|        B1|                  B6|listOfHouseholdMember|\n",
      "+--------------------+--------------------+----------+--------------------+---------------------+\n",
      "|{\"A1\":\"NOH YERENE...|NOH YERENEES BIN ...|      null|   PARIT AMAT RENGIT| [{\"id\":\"1\",\"flag\"...|\n",
      "|{\"B6\":\"PARIT AMAT...|                null|      null|   PARIT AMAT RENGIT|                 null|\n",
      "|{\"B6\":\"PARIT AMAT...|                null|      null|   PARIT AMAT RENGIT|                 null|\n",
      "|{\"B6\":\"PARIT AMAT...|                null|      null|   PARIT AMAT RENGIT|                 null|\n",
      "|{\"A1\":\"KAMARUZAMA...|KAMARUZAMAN BIN K...|      null|KAMPUNG PARIT AMA...| [{\"id\":\"1\",\"flag\"...|\n",
      "|{\"B1\":\"T/L KAL 15...|                null|T/L KAL 15|   PARIT AMAT RENGIT|                 null|\n",
      "|{\"B1\":\"T/L KAL 15...|                null|T/L KAL 15|   PARIT AMAT RENGIT|                 null|\n",
      "|{\"A1\":\"KAMARUDIN ...|     KAMARUDIN SAWAL|      null|KAMPUNG PARIT AMA...| [{\"id\":\"1\",\"flag\"...|\n",
      "|{\"B1\":\"T/L KAL 15...|                null|T/L KAL 15|   PARIT AMAT RENGIT|                 null|\n",
      "|{\"A1\":\"SALIHAH BI...|SALIHAH BINTI MAHPUL|     TL 14|KAMPUNG PARIT AMA...| [{\"id\":\"1\",\"flag\"...|\n",
      "|{\"A1\":\"ASMAH BINT...|   ASMAH BINTI OSMAN|       N/N|   PARIT AMAT RENGIT| [{\"id\":\"1\",\"flag\"...|\n",
      "|{\"A1\":\"MADEK BIN ...|      MADEK BIN MEDU|    T/L 15|  KAMPUNG PARIT AMAT| [{\"id\":\"1\",\"flag\"...|\n",
      "|{\"A1\":\"RAIS BIN A...|RAIS BIN ABDUL SAMAD|T/L KAL 16|   PARIT AMAT RENGIT| [{\"id\":\"1\",\"flag\"...|\n",
      "|{\"A1\":\"ISMAIL BIN...|    ISMAIL BIN TALOK|       21B|  KAMPUNG PARIT AMAT| [{\"id\":\"1\",\"flag\"...|\n",
      "|{\"A1\":\"KHAMIS BIN...|    KHAMIS BIN SALIM|    T/L 17|KAMPUNG PARIT AMA...| [{\"id\":\"1\",\"flag\"...|\n",
      "|{\"A1\":\"AMIR BIN H...|      AMIR BIN HASIM|T/L KAL 18|   PARIT AMAT RENGIT| [{\"id\":\"1\",\"flag\"...|\n",
      "|{\"A1\":\"ROKIAH BIN...|ROKIAH BINTI MUHA...|T/L KAL 18|KAMPUNG PARIT AMA...| [{\"id\":\"1\",\"flag\"...|\n",
      "|{\"A1\":\"JELANI BIN...|   JELANI BIN BELANI|T/L KAL 19|KAMPUNG PARIT AMA...| [{\"id\":\"1\",\"flag\"...|\n",
      "|{\"A1\":\"ZAHARAH BI...| ZAHARAH BINTI AHMAD|      null|   PARIT AMAT RENGIT| [{\"id\":\"1\",\"flag\"...|\n",
      "|{\"A1\":\"MOHD ANAFH...|MOHD ANAFHI BIN J...|      null|KAMPUNG PARIT AMA...| [{\"id\":\"1\",\"flag\"...|\n",
      "+--------------------+--------------------+----------+--------------------+---------------------+\n",
      "only showing top 20 rows\n",
      "\n"
     ]
    }
   ],
   "source": [
    "import pyspark.sql.functions as F\n",
    "\n",
    "df3 = df_covid.select(F.get_json_object(F.col(\"detail\"), \"$.parentInformation\").alias(\"parentInformation\"),\n",
    "                      F.get_json_object(F.col(\"detail\"), \"$.parentInformation.A1\").alias(\"A1\"),\n",
    "                      F.get_json_object(F.col(\"detail\"), \"$.parentInformation.B1\").alias(\"B1\"),\n",
    "                      F.get_json_object(F.col(\"detail\"), \"$.parentInformation.B6\").alias(\"B6\"),\n",
    "                      F.get_json_object(F.col(\"detail\"), \"$.listOfHouseholdMember\").alias(\"listOfHouseholdMember\"))\n",
    "df3.show()"
   ]
  },
  {
   "cell_type": "code",
   "execution_count": null,
   "id": "d432c362",
   "metadata": {},
   "outputs": [],
   "source": []
  },
  {
   "cell_type": "code",
   "execution_count": 554,
   "id": "97aedb3c",
   "metadata": {},
   "outputs": [],
   "source": [
    "# from pyspark.sql.types import *\n",
    "# import pyspark.sql.functions as F\n",
    "\n",
    "# aSchema = StructType([\n",
    "#     StructField(\"c\", StructType([\n",
    "#         StructField(\"60\", DoubleType(), True)\n",
    "#     ]), True),\n",
    "#     StructField(\"n\", StructType([\n",
    "#         StructField(\"60\", DoubleType(), True)\n",
    "#     ]), True),\n",
    "#     StructField(\"d\", DoubleType(), True),\n",
    "# ])\n",
    "# gSchema = StructType([\n",
    "#     StructField(\"h\", DoubleType(), True)\n",
    "# ])\n",
    "\n",
    "# schema = StructType([\n",
    "#     StructField(\"a\", aSchema, True),\n",
    "#     StructField(\"g\", gSchema, True)\n",
    "# ])\n",
    "\n",
    "# df = spark.createDataFrame(['{\"a\":{\"b\":0,\"c\":{\"50\":0.005,\"60\":0,\"100\":0},\"d\":0.01,\"e\":0,\"f\":2}}',\n",
    "#                             '{\"a\":{\"m\":0,\"n\":{\"50\":0.005,\"60\":0,\"100\":0},\"d\":0.01,\"e\":0,\"f\":2}}',\n",
    "#                             '{\"g\":{\"h\":0,\"j\":{\"50\":0.005,\"80\":0,\"100\":0},\"d\":0.02}}'],\n",
    "#                            StringType())\n",
    "\n",
    "# df2 = df.select(F.from_json(\"value\", schema=schema).alias('data')).select('data.*')\n",
    "# df2.select(df2.a.c['60'], df2.a.n['60'], df2.a.d, df2.g.h).show()"
   ]
  },
  {
   "cell_type": "code",
   "execution_count": 555,
   "id": "c3495106",
   "metadata": {},
   "outputs": [],
   "source": [
    "# df_details =  df_covid.select(col(\"eb_id\"), \\\n",
    "#      from_json(col(\"detail\"),schema).alias(\"detail\")) \\\n",
    "#        .select(\"eb_id\",\"detail.*\")\n",
    "# df_details.show()"
   ]
  },
  {
   "cell_type": "code",
   "execution_count": 556,
   "id": "167ddcfe",
   "metadata": {},
   "outputs": [],
   "source": [
    "\n",
    "# import pyspark.sql.functions as F\n",
    " \n",
    "# parsed_df = df_covid.select(F.col('eb_id'), F.col(\"detail.parentInformation\"))\n",
    "# parsed_df.show(truncate=False)\n",
    "# parsed_df.printSchema()"
   ]
  },
  {
   "cell_type": "code",
   "execution_count": 557,
   "id": "9b4eda28",
   "metadata": {},
   "outputs": [
    {
     "ename": "SyntaxError",
     "evalue": "invalid syntax (2294310390.py, line 1)",
     "output_type": "error",
     "traceback": [
      "\u001b[1;36m  File \u001b[1;32m\"C:\\Users\\Kiran Adhav\\AppData\\Local\\Temp\\ipykernel_18540\\2294310390.py\"\u001b[1;36m, line \u001b[1;32m1\u001b[0m\n\u001b[1;33m    df_location=df_covid.select(df_covid.detail.[0])\u001b[0m\n\u001b[1;37m                                                ^\u001b[0m\n\u001b[1;31mSyntaxError\u001b[0m\u001b[1;31m:\u001b[0m invalid syntax\n"
     ]
    }
   ],
   "source": [
    "df_location=df_covid.select(df_covid.detail.[0])\n",
    "df_location.show()"
   ]
  },
  {
   "cell_type": "code",
   "execution_count": 501,
   "id": "98ffd1d3",
   "metadata": {},
   "outputs": [],
   "source": [
    "#aa=df_covid.select(col('detail')).rdd.map(lambda x: json.loads(x.detail))"
   ]
  },
  {
   "cell_type": "code",
   "execution_count": 502,
   "id": "c9762a2c",
   "metadata": {},
   "outputs": [
    {
     "ename": "AttributeError",
     "evalue": "'DataFrame' object has no attribute 'Location'",
     "output_type": "error",
     "traceback": [
      "\u001b[1;31m---------------------------------------------------------------------------\u001b[0m",
      "\u001b[1;31mAttributeError\u001b[0m                            Traceback (most recent call last)",
      "\u001b[1;32m~\\AppData\\Local\\Temp\\ipykernel_18540\\468347444.py\u001b[0m in \u001b[0;36m<module>\u001b[1;34m\u001b[0m\n\u001b[1;32m----> 1\u001b[1;33m \u001b[0mdf_null\u001b[0m\u001b[1;33m=\u001b[0m\u001b[0mdf_covid\u001b[0m\u001b[1;33m.\u001b[0m\u001b[0mfilter\u001b[0m\u001b[1;33m(\u001b[0m\u001b[1;33m(\u001b[0m\u001b[0mdf_covid\u001b[0m\u001b[1;33m.\u001b[0m\u001b[0mLocation\u001b[0m\u001b[1;33m.\u001b[0m\u001b[0misNull\u001b[0m\u001b[1;33m(\u001b[0m\u001b[1;33m)\u001b[0m\u001b[1;33m)\u001b[0m \u001b[1;33m&\u001b[0m \u001b[1;33m(\u001b[0m\u001b[0mdf_covid\u001b[0m\u001b[1;33m.\u001b[0m\u001b[0meb_id\u001b[0m\u001b[1;33m.\u001b[0m\u001b[0misNotNull\u001b[0m\u001b[1;33m(\u001b[0m\u001b[1;33m)\u001b[0m\u001b[1;33m)\u001b[0m\u001b[1;33m)\u001b[0m\u001b[1;33m\u001b[0m\u001b[1;33m\u001b[0m\u001b[0m\n\u001b[0m\u001b[0;32m      2\u001b[0m \u001b[0mdf_null\u001b[0m\u001b[1;33m.\u001b[0m\u001b[0mshow\u001b[0m\u001b[1;33m(\u001b[0m\u001b[1;33m)\u001b[0m\u001b[1;33m\u001b[0m\u001b[1;33m\u001b[0m\u001b[0m\n",
      "\u001b[1;32mD:\\juypitor\\lib\\site-packages\\pyspark\\sql\\dataframe.py\u001b[0m in \u001b[0;36m__getattr__\u001b[1;34m(self, name)\u001b[0m\n\u001b[0;32m   1986\u001b[0m         \"\"\"\n\u001b[0;32m   1987\u001b[0m         \u001b[1;32mif\u001b[0m \u001b[0mname\u001b[0m \u001b[1;32mnot\u001b[0m \u001b[1;32min\u001b[0m \u001b[0mself\u001b[0m\u001b[1;33m.\u001b[0m\u001b[0mcolumns\u001b[0m\u001b[1;33m:\u001b[0m\u001b[1;33m\u001b[0m\u001b[1;33m\u001b[0m\u001b[0m\n\u001b[1;32m-> 1988\u001b[1;33m             raise AttributeError(\n\u001b[0m\u001b[0;32m   1989\u001b[0m                 \u001b[1;34m\"'%s' object has no attribute '%s'\"\u001b[0m \u001b[1;33m%\u001b[0m \u001b[1;33m(\u001b[0m\u001b[0mself\u001b[0m\u001b[1;33m.\u001b[0m\u001b[0m__class__\u001b[0m\u001b[1;33m.\u001b[0m\u001b[0m__name__\u001b[0m\u001b[1;33m,\u001b[0m \u001b[0mname\u001b[0m\u001b[1;33m)\u001b[0m\u001b[1;33m\u001b[0m\u001b[1;33m\u001b[0m\u001b[0m\n\u001b[0;32m   1990\u001b[0m             )\n",
      "\u001b[1;31mAttributeError\u001b[0m: 'DataFrame' object has no attribute 'Location'"
     ]
    }
   ],
   "source": [
    "df_null=df_covid.filter((df_covid.Location.isNull()) & (df_covid.eb_id.isNotNull()))\n",
    "df_null.show()"
   ]
  },
  {
   "cell_type": "code",
   "execution_count": null,
   "id": "1d8000f2",
   "metadata": {},
   "outputs": [],
   "source": []
  },
  {
   "cell_type": "code",
   "execution_count": null,
   "id": "a61fe81d",
   "metadata": {},
   "outputs": [],
   "source": []
  },
  {
   "cell_type": "code",
   "execution_count": null,
   "id": "9f0bfb83",
   "metadata": {},
   "outputs": [],
   "source": []
  },
  {
   "cell_type": "code",
   "execution_count": null,
   "id": "429f4454",
   "metadata": {},
   "outputs": [],
   "source": []
  },
  {
   "cell_type": "code",
   "execution_count": null,
   "id": "33d414ec",
   "metadata": {},
   "outputs": [],
   "source": []
  },
  {
   "cell_type": "code",
   "execution_count": null,
   "id": "7f0dde3c",
   "metadata": {},
   "outputs": [],
   "source": []
  },
  {
   "cell_type": "code",
   "execution_count": null,
   "id": "58d2f652",
   "metadata": {},
   "outputs": [],
   "source": []
  },
  {
   "cell_type": "code",
   "execution_count": null,
   "id": "78c97e34",
   "metadata": {},
   "outputs": [],
   "source": []
  },
  {
   "cell_type": "code",
   "execution_count": null,
   "id": "b7680a7d",
   "metadata": {},
   "outputs": [],
   "source": []
  },
  {
   "cell_type": "code",
   "execution_count": null,
   "id": "f2728b2f",
   "metadata": {},
   "outputs": [],
   "source": []
  },
  {
   "cell_type": "code",
   "execution_count": null,
   "id": "6f29d221",
   "metadata": {},
   "outputs": [],
   "source": []
  },
  {
   "cell_type": "code",
   "execution_count": null,
   "id": "cb68fc53",
   "metadata": {},
   "outputs": [],
   "source": []
  },
  {
   "cell_type": "code",
   "execution_count": null,
   "id": "0642d6b2",
   "metadata": {},
   "outputs": [],
   "source": []
  },
  {
   "cell_type": "code",
   "execution_count": null,
   "id": "76b0b20f",
   "metadata": {},
   "outputs": [],
   "source": []
  },
  {
   "cell_type": "code",
   "execution_count": null,
   "id": "f04eec3a",
   "metadata": {},
   "outputs": [],
   "source": []
  },
  {
   "cell_type": "code",
   "execution_count": null,
   "id": "c7cd2ae4",
   "metadata": {},
   "outputs": [],
   "source": []
  },
  {
   "cell_type": "code",
   "execution_count": null,
   "id": "d6f391a0",
   "metadata": {},
   "outputs": [],
   "source": []
  },
  {
   "cell_type": "code",
   "execution_count": null,
   "id": "e618a9d5",
   "metadata": {},
   "outputs": [],
   "source": []
  },
  {
   "cell_type": "code",
   "execution_count": null,
   "id": "90b73882",
   "metadata": {},
   "outputs": [],
   "source": []
  },
  {
   "cell_type": "code",
   "execution_count": null,
   "id": "b54bd986",
   "metadata": {},
   "outputs": [],
   "source": []
  }
 ],
 "metadata": {
  "kernelspec": {
   "display_name": "Python 3 (ipykernel)",
   "language": "python",
   "name": "python3"
  },
  "language_info": {
   "codemirror_mode": {
    "name": "ipython",
    "version": 3
   },
   "file_extension": ".py",
   "mimetype": "text/x-python",
   "name": "python",
   "nbconvert_exporter": "python",
   "pygments_lexer": "ipython3",
   "version": "3.9.13"
  }
 },
 "nbformat": 4,
 "nbformat_minor": 5
}
