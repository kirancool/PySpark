{
 "cells": [
  {
   "cell_type": "code",
   "execution_count": 3,
   "metadata": {},
   "outputs": [],
   "source": [
    "my_str='Kiran23'"
   ]
  },
  {
   "cell_type": "code",
   "execution_count": 4,
   "metadata": {},
   "outputs": [
    {
     "name": "stdout",
     "output_type": "stream",
     "text": [
      "True\n"
     ]
    }
   ],
   "source": [
    "print(my_str.isalnum())"
   ]
  },
  {
   "cell_type": "code",
   "execution_count": 5,
   "metadata": {},
   "outputs": [
    {
     "name": "stdout",
     "output_type": "stream",
     "text": [
      "True\n"
     ]
    }
   ],
   "source": [
    "print(my_str.istitle()) # first letter is capital then true otherwise false \n"
   ]
  },
  {
   "cell_type": "markdown",
   "metadata": {},
   "source": [
    "# Lists\n"
   ]
  },
  {
   "cell_type": "code",
   "execution_count": 7,
   "metadata": {},
   "outputs": [
    {
     "name": "stdout",
     "output_type": "stream",
     "text": [
      "[1, 4]\n",
      "2\n",
      "4\n",
      "[1, 2, 3]\n"
     ]
    }
   ],
   "source": [
    "lst_exp=[1,2,4,3]\n",
    "print(lst_exp[0:3:2])\n",
    "print(lst_exp[1])\n",
    "print(lst_exp.pop(2))\n",
    "print(lst_exp)"
   ]
  },
  {
   "cell_type": "code",
   "execution_count": 3,
   "metadata": {},
   "outputs": [
    {
     "name": "stdout",
     "output_type": "stream",
     "text": [
      "[1, 2, 4, 3]\n"
     ]
    }
   ],
   "source": [
    "print(lst_exp)"
   ]
  },
  {
   "cell_type": "code",
   "execution_count": 13,
   "metadata": {},
   "outputs": [],
   "source": [
    "sq_list=[x**2 for x in lst_exp if x%2!=0] # single * is multiplication and ** is square of numbers "
   ]
  },
  {
   "cell_type": "code",
   "execution_count": 14,
   "metadata": {},
   "outputs": [
    {
     "data": {
      "text/plain": [
       "[1, 9]"
      ]
     },
     "execution_count": 14,
     "metadata": {},
     "output_type": "execute_result"
    }
   ],
   "source": [
    "sq_list"
   ]
  },
  {
   "cell_type": "code",
   "execution_count": 15,
   "metadata": {},
   "outputs": [],
   "source": [
    "sq_lst={x:x**2 for x in lst_exp}"
   ]
  },
  {
   "cell_type": "code",
   "execution_count": 16,
   "metadata": {},
   "outputs": [
    {
     "data": {
      "text/plain": [
       "{1: 1, 2: 4, 4: 16, 3: 9}"
      ]
     },
     "execution_count": 16,
     "metadata": {},
     "output_type": "execute_result"
    }
   ],
   "source": [
    "sq_lst"
   ]
  },
  {
   "cell_type": "code",
   "execution_count": 12,
   "metadata": {},
   "outputs": [],
   "source": [
    "my_list = [[10,20,30],[40,50,60],[70,80,90]]\n"
   ]
  },
  {
   "cell_type": "code",
   "execution_count": 13,
   "metadata": {},
   "outputs": [],
   "source": [
    "flattend=[x for temp in my_list for x in temp]"
   ]
  },
  {
   "cell_type": "code",
   "execution_count": 14,
   "metadata": {},
   "outputs": [
    {
     "data": {
      "text/plain": [
       "[10, 20, 30, 40, 50, 60, 70, 80, 90]"
      ]
     },
     "execution_count": 14,
     "metadata": {},
     "output_type": "execute_result"
    }
   ],
   "source": [
    "flattend"
   ]
  },
  {
   "cell_type": "code",
   "execution_count": 15,
   "metadata": {},
   "outputs": [
    {
     "name": "stdout",
     "output_type": "stream",
     "text": [
      "hello\n"
     ]
    }
   ],
   "source": [
    "def aa():\n",
    "    pass\n",
    "    print(\"hello\")  \n",
    "aa()"
   ]
  },
  {
   "cell_type": "code",
   "execution_count": 16,
   "metadata": {},
   "outputs": [],
   "source": [
    "name=['A','B','C','D']"
   ]
  },
  {
   "cell_type": "code",
   "execution_count": 17,
   "metadata": {},
   "outputs": [],
   "source": [
    "name.append('E')"
   ]
  },
  {
   "cell_type": "code",
   "execution_count": 18,
   "metadata": {},
   "outputs": [],
   "source": [
    "del name[1]"
   ]
  },
  {
   "cell_type": "code",
   "execution_count": 19,
   "metadata": {},
   "outputs": [],
   "source": [
    "name.sort(reverse=True)"
   ]
  },
  {
   "cell_type": "code",
   "execution_count": 20,
   "metadata": {},
   "outputs": [
    {
     "data": {
      "text/plain": [
       "['E', 'D', 'C', 'A']"
      ]
     },
     "execution_count": 20,
     "metadata": {},
     "output_type": "execute_result"
    }
   ],
   "source": [
    "name"
   ]
  },
  {
   "cell_type": "code",
   "execution_count": 21,
   "metadata": {},
   "outputs": [
    {
     "name": "stdout",
     "output_type": "stream",
     "text": [
      "Enter the name\n",
      "aa\n",
      "Enter the name\n",
      "a\n",
      "Enter the name\n",
      "\n",
      "Enter the name\n",
      "quit\n",
      "aa\n",
      "a\n",
      "\n"
     ]
    }
   ],
   "source": [
    "name=[]\n",
    "while True:\n",
    "    print(\"Enter the name\")\n",
    "    n1=input()\n",
    "    if n1== 'quit':\n",
    "        break\n",
    "    name.append(n1)  \n",
    "for n2 in name:\n",
    "    print(n2)"
   ]
  },
  {
   "cell_type": "code",
   "execution_count": 22,
   "metadata": {},
   "outputs": [],
   "source": [
    "num ='1,2,3,4,5'"
   ]
  },
  {
   "cell_type": "code",
   "execution_count": 23,
   "metadata": {},
   "outputs": [
    {
     "name": "stdout",
     "output_type": "stream",
     "text": [
      "1,4\n"
     ]
    }
   ],
   "source": [
    "print(num[0::3])"
   ]
  },
  {
   "cell_type": "code",
   "execution_count": 24,
   "metadata": {},
   "outputs": [
    {
     "name": "stdout",
     "output_type": "stream",
     "text": [
      "Enter the age22\n",
      "my age is 22 year\n",
      "My age is 22 year\n"
     ]
    }
   ],
   "source": [
    "age=int(input(\"Enter the age\"))\n",
    "print(f\"my age is {age} year\")\n",
    "print(\"My age is {} year\".format(age))"
   ]
  },
  {
   "cell_type": "code",
   "execution_count": 25,
   "metadata": {},
   "outputs": [
    {
     "name": "stdout",
     "output_type": "stream",
     "text": [
      "Enter the nameaa\n",
      "How old you are,aaaa\n"
     ]
    },
    {
     "ename": "ValueError",
     "evalue": "invalid literal for int() with base 10: 'aa'",
     "output_type": "error",
     "traceback": [
      "\u001b[1;31m---------------------------------------------------------------------------\u001b[0m",
      "\u001b[1;31mValueError\u001b[0m                                Traceback (most recent call last)",
      "\u001b[1;32m~\\AppData\\Local\\Temp\\ipykernel_8836\\981278405.py\u001b[0m in \u001b[0;36m<module>\u001b[1;34m\u001b[0m\n\u001b[0;32m      1\u001b[0m \u001b[0mname\u001b[0m\u001b[1;33m=\u001b[0m\u001b[0minput\u001b[0m\u001b[1;33m(\u001b[0m\u001b[1;34m\"Enter the name\"\u001b[0m\u001b[1;33m)\u001b[0m\u001b[1;33m\u001b[0m\u001b[1;33m\u001b[0m\u001b[0m\n\u001b[1;32m----> 2\u001b[1;33m \u001b[0mage\u001b[0m\u001b[1;33m=\u001b[0m\u001b[0mint\u001b[0m\u001b[1;33m(\u001b[0m\u001b[0minput\u001b[0m\u001b[1;33m(\u001b[0m\u001b[1;34m\"How old you are,{}\"\u001b[0m\u001b[1;33m.\u001b[0m\u001b[0mformat\u001b[0m\u001b[1;33m(\u001b[0m\u001b[0mname\u001b[0m\u001b[1;33m)\u001b[0m\u001b[1;33m)\u001b[0m\u001b[1;33m)\u001b[0m\u001b[1;33m\u001b[0m\u001b[1;33m\u001b[0m\u001b[0m\n\u001b[0m\u001b[0;32m      3\u001b[0m \u001b[1;33m\u001b[0m\u001b[0m\n\u001b[0;32m      4\u001b[0m \u001b[0mprint\u001b[0m\u001b[1;33m(\u001b[0m\u001b[1;34m\"My age is {} year\"\u001b[0m\u001b[1;33m.\u001b[0m\u001b[0mformat\u001b[0m\u001b[1;33m(\u001b[0m\u001b[0mage\u001b[0m\u001b[1;33m)\u001b[0m\u001b[1;33m)\u001b[0m\u001b[1;33m\u001b[0m\u001b[1;33m\u001b[0m\u001b[0m\n\u001b[0;32m      5\u001b[0m \u001b[1;33m\u001b[0m\u001b[0m\n",
      "\u001b[1;31mValueError\u001b[0m: invalid literal for int() with base 10: 'aa'"
     ]
    }
   ],
   "source": [
    "name=input(\"Enter the name\")\n",
    "age=int(input(\"How old you are,{}\".format(name)))\n",
    "\n",
    "print(\"My age is {} year\".format(age))\n",
    "\n",
    "if age>18:\n",
    "    print(\"vote allowed\")\n",
    "    print(\"Go for vote\")\n",
    "else:\n",
    "    print(\"Age is low\")"
   ]
  },
  {
   "cell_type": "code",
   "execution_count": 26,
   "metadata": {},
   "outputs": [
    {
     "name": "stdout",
     "output_type": "stream",
     "text": [
      "[0, 1, 4, 9, 16, 25, 36, 49, 64, 81, 100]\n"
     ]
    }
   ],
   "source": [
    "lst=[x*x for x in range(0,11)]\n",
    "print(lst)\n"
   ]
  },
  {
   "cell_type": "code",
   "execution_count": 27,
   "metadata": {},
   "outputs": [
    {
     "data": {
      "text/plain": [
       "[0, 2, 4, 6, 8, 10, 12, 14, 16, 18, 20]"
      ]
     },
     "execution_count": 27,
     "metadata": {},
     "output_type": "execute_result"
    }
   ],
   "source": [
    "lst=[ x for x in range(0,21)  if x%2==0]\n",
    "lst"
   ]
  },
  {
   "cell_type": "code",
   "execution_count": 5,
   "metadata": {},
   "outputs": [
    {
     "name": "stdout",
     "output_type": "stream",
     "text": [
      "['apple', 'banana']\n"
     ]
    }
   ],
   "source": [
    "#List Constructor list()\n",
    "thislist = list((\"apple\", \"banana\", \"cherry\")) # note the double round-brackets\n",
    "print(thislist[0:2])"
   ]
  },
  {
   "cell_type": "code",
   "execution_count": null,
   "metadata": {},
   "outputs": [],
   "source": []
  },
  {
   "cell_type": "code",
   "execution_count": null,
   "metadata": {},
   "outputs": [],
   "source": []
  },
  {
   "cell_type": "code",
   "execution_count": null,
   "metadata": {},
   "outputs": [],
   "source": []
  },
  {
   "cell_type": "code",
   "execution_count": null,
   "metadata": {},
   "outputs": [],
   "source": []
  },
  {
   "cell_type": "code",
   "execution_count": 28,
   "metadata": {},
   "outputs": [
    {
     "data": {
      "text/plain": [
       "[2, 4, 3]"
      ]
     },
     "execution_count": 28,
     "metadata": {},
     "output_type": "execute_result"
    }
   ],
   "source": [
    "lst_exp[1:]"
   ]
  },
  {
   "cell_type": "code",
   "execution_count": 29,
   "metadata": {},
   "outputs": [
    {
     "name": "stdout",
     "output_type": "stream",
     "text": [
      "Name:A,ID:123,Last:B\n"
     ]
    }
   ],
   "source": [
    "emp=[\"A\",123,\"B\"]\n",
    "print(\"Name:%s,ID:%d,Last:%s\"%(emp[0],emp[1],emp[2]))"
   ]
  },
  {
   "cell_type": "code",
   "execution_count": 30,
   "metadata": {},
   "outputs": [
    {
     "name": "stdout",
     "output_type": "stream",
     "text": [
      "Enter the number :10\n",
      "Enter the item10\n",
      "Enter the item10\n",
      "Enter the item\n",
      "Enter the item\n",
      "Enter the item\n",
      "Enter the item\n",
      "Enter the item\n",
      "Enter the item\n",
      "Enter the item\n",
      "Enter the item\n",
      "Printing the item\n",
      "1010"
     ]
    }
   ],
   "source": [
    "\n",
    "I=[]\n",
    "n=int(input(\"Enter the number :\"))\n",
    "for i in range(0,n):\n",
    "    I.append(input(\"Enter the item\"))\n",
    "print(\"Printing the item\")\n",
    "for i in I:\n",
    "    print(i,end=\"\")\n",
    "    "
   ]
  },
  {
   "cell_type": "code",
   "execution_count": 33,
   "metadata": {},
   "outputs": [
    {
     "name": "stdout",
     "output_type": "stream",
     "text": [
      "[1, 2, 4, 3]\n"
     ]
    }
   ],
   "source": [
    "lis=[]\n",
    "for i in lst_exp:\n",
    "    if i not in lis:\n",
    "        lis.append(i)\n",
    "print(lis)        "
   ]
  },
  {
   "cell_type": "code",
   "execution_count": 34,
   "metadata": {},
   "outputs": [
    {
     "name": "stdout",
     "output_type": "stream",
     "text": [
      "10\n"
     ]
    }
   ],
   "source": [
    "lst_exp=[1,2,4,3]\n",
    "sum=0\n",
    "for i in lst_exp:\n",
    "    sum=sum+i\n",
    "print(sum)"
   ]
  },
  {
   "cell_type": "code",
   "execution_count": null,
   "metadata": {},
   "outputs": [],
   "source": []
  },
  {
   "cell_type": "code",
   "execution_count": null,
   "metadata": {},
   "outputs": [],
   "source": []
  },
  {
   "cell_type": "markdown",
   "metadata": {},
   "source": [
    "# Append"
   ]
  },
  {
   "cell_type": "code",
   "execution_count": 35,
   "metadata": {},
   "outputs": [],
   "source": [
    "lst_exp.append(5)"
   ]
  },
  {
   "cell_type": "markdown",
   "metadata": {},
   "source": [
    "# Insert"
   ]
  },
  {
   "cell_type": "code",
   "execution_count": 36,
   "metadata": {},
   "outputs": [],
   "source": [
    "lst_exp.insert(1,\"ABC\")"
   ]
  },
  {
   "cell_type": "code",
   "execution_count": 37,
   "metadata": {},
   "outputs": [
    {
     "name": "stdout",
     "output_type": "stream",
     "text": [
      "[1, 'ABC', 2, 4, 3, 5]\n"
     ]
    }
   ],
   "source": [
    "print(lst_exp)"
   ]
  },
  {
   "cell_type": "markdown",
   "metadata": {
    "collapsed": true
   },
   "source": [
    "# Dictionaries"
   ]
  },
  {
   "cell_type": "code",
   "execution_count": 38,
   "metadata": {},
   "outputs": [],
   "source": [
    "my_dict={1:'a',2:'b'}"
   ]
  },
  {
   "cell_type": "code",
   "execution_count": 39,
   "metadata": {},
   "outputs": [
    {
     "data": {
      "text/plain": [
       "'a'"
      ]
     },
     "execution_count": 39,
     "metadata": {},
     "output_type": "execute_result"
    }
   ],
   "source": [
    "my_dict[1]"
   ]
  },
  {
   "cell_type": "code",
   "execution_count": 40,
   "metadata": {},
   "outputs": [
    {
     "name": "stdout",
     "output_type": "stream",
     "text": [
      "a\n",
      "b\n"
     ]
    }
   ],
   "source": [
    "for x in my_dict.values():\n",
    "    print(x)"
   ]
  },
  {
   "cell_type": "code",
   "execution_count": 41,
   "metadata": {},
   "outputs": [
    {
     "name": "stdout",
     "output_type": "stream",
     "text": [
      "(1, 'a')\n",
      "(2, 'b')\n"
     ]
    }
   ],
   "source": [
    "for x in my_dict.items():\n",
    "    print(x)"
   ]
  },
  {
   "cell_type": "code",
   "execution_count": 42,
   "metadata": {},
   "outputs": [],
   "source": [
    "my_dict[3]='C'"
   ]
  },
  {
   "cell_type": "code",
   "execution_count": 43,
   "metadata": {},
   "outputs": [],
   "source": [
    "d2={\"ABC\":\"XYZ\",\"Kiran\":{\"A\":\"B\"}}"
   ]
  },
  {
   "cell_type": "code",
   "execution_count": 44,
   "metadata": {},
   "outputs": [
    {
     "data": {
      "text/plain": [
       "{'ABC': 'XYZ', 'Kiran': {'A': 'B'}}"
      ]
     },
     "execution_count": 44,
     "metadata": {},
     "output_type": "execute_result"
    }
   ],
   "source": [
    "d2"
   ]
  },
  {
   "cell_type": "code",
   "execution_count": 45,
   "metadata": {},
   "outputs": [],
   "source": [
    "d2[420]=\"ASD\""
   ]
  },
  {
   "cell_type": "code",
   "execution_count": 46,
   "metadata": {},
   "outputs": [
    {
     "name": "stdout",
     "output_type": "stream",
     "text": [
      "Name :John\n"
     ]
    }
   ],
   "source": [
    "Employee = {\"Name\": \"John\", \"Age\": 29, \"salary\":25000,\"Company\":\"GOOGLE\"}  \n",
    "print(\"Name :%s\"%Employee[\"Name\"])"
   ]
  },
  {
   "cell_type": "code",
   "execution_count": 47,
   "metadata": {},
   "outputs": [],
   "source": [
    "delll=Employee.pop(\"Company\")"
   ]
  },
  {
   "cell_type": "code",
   "execution_count": 48,
   "metadata": {},
   "outputs": [
    {
     "name": "stdout",
     "output_type": "stream",
     "text": [
      "GOOGLE\n"
     ]
    }
   ],
   "source": [
    "print(delll)"
   ]
  },
  {
   "cell_type": "code",
   "execution_count": 49,
   "metadata": {},
   "outputs": [
    {
     "name": "stdout",
     "output_type": "stream",
     "text": [
      "John\n",
      "29\n",
      "25000\n"
     ]
    }
   ],
   "source": [
    "for x in Employee:\n",
    "    print(Employee[x])"
   ]
  },
  {
   "cell_type": "code",
   "execution_count": 50,
   "metadata": {},
   "outputs": [
    {
     "name": "stdout",
     "output_type": "stream",
     "text": [
      "John\n",
      "29\n",
      "25000\n"
     ]
    }
   ],
   "source": [
    "for x in Employee.values():\n",
    "    print(x)"
   ]
  },
  {
   "cell_type": "code",
   "execution_count": 51,
   "metadata": {},
   "outputs": [
    {
     "name": "stdout",
     "output_type": "stream",
     "text": [
      "('Name', 'John')\n",
      "('Age', 29)\n",
      "('salary', 25000)\n"
     ]
    }
   ],
   "source": [
    "for x in Employee.items():\n",
    "    print(x)"
   ]
  },
  {
   "cell_type": "code",
   "execution_count": 52,
   "metadata": {},
   "outputs": [
    {
     "name": "stdout",
     "output_type": "stream",
     "text": [
      "John\n",
      "29\n",
      "25000\n"
     ]
    }
   ],
   "source": [
    "for x,y in Employee.items():\n",
    "    print(y)"
   ]
  },
  {
   "cell_type": "code",
   "execution_count": 53,
   "metadata": {},
   "outputs": [
    {
     "name": "stdout",
     "output_type": "stream",
     "text": [
      "A\n",
      "20 is birthdate A\n",
      "quit\n"
     ]
    }
   ],
   "source": [
    "birthday={'A':20,'B':30,'C':40}\n",
    "while True:\n",
    "    name=input()\n",
    "    if name == 'quit':\n",
    "        break\n",
    "    if name in birthday:\n",
    "        print(birthday[name],'is birthdate',name)"
   ]
  },
  {
   "cell_type": "code",
   "execution_count": null,
   "metadata": {},
   "outputs": [],
   "source": []
  },
  {
   "cell_type": "code",
   "execution_count": null,
   "metadata": {},
   "outputs": [],
   "source": []
  },
  {
   "cell_type": "code",
   "execution_count": null,
   "metadata": {},
   "outputs": [],
   "source": []
  },
  {
   "cell_type": "code",
   "execution_count": null,
   "metadata": {},
   "outputs": [],
   "source": []
  },
  {
   "cell_type": "code",
   "execution_count": 54,
   "metadata": {},
   "outputs": [],
   "source": [
    "age = 30\n",
    "greeting=\"Hello\""
   ]
  },
  {
   "cell_type": "code",
   "execution_count": 55,
   "metadata": {},
   "outputs": [
    {
     "name": "stdout",
     "output_type": "stream",
     "text": [
      "Hello 30\n",
      "Hello 30\n"
     ]
    }
   ],
   "source": [
    "print(greeting +\" \"+ str(age))\n",
    "print(greeting ,age)"
   ]
  },
  {
   "cell_type": "code",
   "execution_count": 56,
   "metadata": {},
   "outputs": [
    {
     "name": "stdout",
     "output_type": "stream",
     "text": [
      "my age is 30\n"
     ]
    }
   ],
   "source": [
    "print(\"my age is {}\".format(age))"
   ]
  },
  {
   "cell_type": "code",
   "execution_count": 57,
   "metadata": {},
   "outputs": [
    {
     "name": "stdout",
     "output_type": "stream",
     "text": [
      "0\n",
      "1\n",
      "2\n",
      "3\n",
      "4\n",
      "5\n",
      "6\n",
      "7\n",
      "8\n",
      "9\n",
      "10\n",
      "11\n",
      "12\n",
      "13\n",
      "14\n",
      "15\n",
      "16\n",
      "17\n",
      "18\n",
      "19\n"
     ]
    }
   ],
   "source": [
    "var=0\n",
    "while(var<20):\n",
    "    print(var)\n",
    "    var+=1\n"
   ]
  },
  {
   "cell_type": "code",
   "execution_count": 58,
   "metadata": {},
   "outputs": [
    {
     "name": "stdout",
     "output_type": "stream",
     "text": [
      "Enter the values :\n"
     ]
    },
    {
     "ename": "ValueError",
     "evalue": "invalid literal for int() with base 10: ''",
     "output_type": "error",
     "traceback": [
      "\u001b[1;31m---------------------------------------------------------------------------\u001b[0m",
      "\u001b[1;31mValueError\u001b[0m                                Traceback (most recent call last)",
      "\u001b[1;32m~\\AppData\\Local\\Temp\\ipykernel_8836\\963515589.py\u001b[0m in \u001b[0;36m<module>\u001b[1;34m\u001b[0m\n\u001b[0;32m      1\u001b[0m \u001b[1;32mwhile\u001b[0m \u001b[1;32mTrue\u001b[0m\u001b[1;33m:\u001b[0m\u001b[1;33m\u001b[0m\u001b[1;33m\u001b[0m\u001b[0m\n\u001b[0;32m      2\u001b[0m     \u001b[0mvar\u001b[0m\u001b[1;33m=\u001b[0m\u001b[1;36m1\u001b[0m\u001b[1;33m\u001b[0m\u001b[1;33m\u001b[0m\u001b[0m\n\u001b[1;32m----> 3\u001b[1;33m     \u001b[0mnum\u001b[0m\u001b[1;33m=\u001b[0m\u001b[0mint\u001b[0m\u001b[1;33m(\u001b[0m\u001b[0minput\u001b[0m\u001b[1;33m(\u001b[0m\u001b[1;34m\"Enter the values :\"\u001b[0m\u001b[1;33m)\u001b[0m\u001b[1;33m)\u001b[0m\u001b[1;33m\u001b[0m\u001b[1;33m\u001b[0m\u001b[0m\n\u001b[0m\u001b[0;32m      4\u001b[0m     \u001b[1;32mif\u001b[0m \u001b[0mnum\u001b[0m\u001b[1;33m==\u001b[0m\u001b[1;36m0\u001b[0m\u001b[1;33m:\u001b[0m\u001b[1;33m\u001b[0m\u001b[1;33m\u001b[0m\u001b[0m\n\u001b[0;32m      5\u001b[0m         \u001b[1;32mbreak\u001b[0m\u001b[1;33m\u001b[0m\u001b[1;33m\u001b[0m\u001b[0m\n",
      "\u001b[1;31mValueError\u001b[0m: invalid literal for int() with base 10: ''"
     ]
    }
   ],
   "source": [
    "while True:\n",
    "    var=1\n",
    "    num=int(input(\"Enter the values :\"))\n",
    "    if num==0:\n",
    "        break\n",
    "    while(var<=10):\n",
    "        var1= var*num\n",
    "        print(f\"{num}*{var}={var1}\")\n",
    "        var+=1"
   ]
  },
  {
   "cell_type": "code",
   "execution_count": 59,
   "metadata": {},
   "outputs": [
    {
     "name": "stdout",
     "output_type": "stream",
     "text": [
      "value of i : 0\n",
      "value of i : 2\n",
      "value of i : 4\n",
      "value of i : 6\n",
      "value of i : 8\n",
      "value of i : 10\n",
      "value of i : 12\n",
      "value of i : 14\n",
      "value of i : 16\n",
      "value of i : 18\n"
     ]
    }
   ],
   "source": [
    "for i in range(0,20,2):\n",
    "    print(\"value of i :\",i)"
   ]
  },
  {
   "cell_type": "code",
   "execution_count": 60,
   "metadata": {},
   "outputs": [
    {
     "name": "stdout",
     "output_type": "stream",
     "text": [
      "Enter the number 1\n",
      "1*1=1\n",
      "1*2=2\n",
      "1*3=3\n",
      "1*4=4\n",
      "1*5=5\n",
      "1*6=6\n",
      "1*7=7\n",
      "1*8=8\n",
      "1*9=9\n",
      "1*10=10\n"
     ]
    }
   ],
   "source": [
    "num = int(input(\"Enter the number \"))\n",
    "for i in range(1,11):\n",
    "    var=i*num\n",
    "    print(f\"{num}*{i}={var}\")\n",
    "    "
   ]
  },
  {
   "cell_type": "code",
   "execution_count": 61,
   "metadata": {},
   "outputs": [
    {
     "name": "stdout",
     "output_type": "stream",
     "text": [
      "Enter the values :1\n",
      "1*1=1\n",
      "1*2=2\n",
      "1*3=3\n",
      "1*4=4\n",
      "1*5=5\n",
      "1*6=6\n",
      "1*7=7\n",
      "1*8=8\n",
      "1*9=9\n",
      "1*10=10\n",
      "Enter the values :\n"
     ]
    },
    {
     "ename": "ValueError",
     "evalue": "invalid literal for int() with base 10: ''",
     "output_type": "error",
     "traceback": [
      "\u001b[1;31m---------------------------------------------------------------------------\u001b[0m",
      "\u001b[1;31mValueError\u001b[0m                                Traceback (most recent call last)",
      "\u001b[1;32m~\\AppData\\Local\\Temp\\ipykernel_8836\\3382286677.py\u001b[0m in \u001b[0;36m<module>\u001b[1;34m\u001b[0m\n\u001b[0;32m      1\u001b[0m \u001b[1;32mwhile\u001b[0m \u001b[1;32mTrue\u001b[0m\u001b[1;33m:\u001b[0m\u001b[1;33m\u001b[0m\u001b[1;33m\u001b[0m\u001b[0m\n\u001b[0;32m      2\u001b[0m     \u001b[0mvar\u001b[0m\u001b[1;33m=\u001b[0m\u001b[1;36m1\u001b[0m\u001b[1;33m\u001b[0m\u001b[1;33m\u001b[0m\u001b[0m\n\u001b[1;32m----> 3\u001b[1;33m     \u001b[0mnum\u001b[0m\u001b[1;33m=\u001b[0m\u001b[0mint\u001b[0m\u001b[1;33m(\u001b[0m\u001b[0minput\u001b[0m\u001b[1;33m(\u001b[0m\u001b[1;34m\"Enter the values :\"\u001b[0m\u001b[1;33m)\u001b[0m\u001b[1;33m)\u001b[0m\u001b[1;33m\u001b[0m\u001b[1;33m\u001b[0m\u001b[0m\n\u001b[0m\u001b[0;32m      4\u001b[0m     \u001b[1;32mif\u001b[0m \u001b[0mnum\u001b[0m\u001b[1;33m==\u001b[0m\u001b[1;36m0\u001b[0m\u001b[1;33m:\u001b[0m\u001b[1;33m\u001b[0m\u001b[1;33m\u001b[0m\u001b[0m\n\u001b[0;32m      5\u001b[0m         \u001b[1;32mbreak\u001b[0m\u001b[1;33m\u001b[0m\u001b[1;33m\u001b[0m\u001b[0m\n",
      "\u001b[1;31mValueError\u001b[0m: invalid literal for int() with base 10: ''"
     ]
    }
   ],
   "source": [
    "while True:\n",
    "    var=1\n",
    "    num=int(input(\"Enter the values :\"))\n",
    "    if num==0:\n",
    "        break\n",
    "    for i in range(1,11):\n",
    "        var=i*num\n",
    "        print(f\"{num}*{i}={var}\")"
   ]
  },
  {
   "cell_type": "code",
   "execution_count": null,
   "metadata": {},
   "outputs": [],
   "source": [
    "while True:\n",
    "    n=int(input(\"enter the value :\"))\n",
    "    if n==0:\n",
    "        break\n",
    "    fact=1\n",
    "    for i in range(n,1,-1):\n",
    "        fact=i*fact\n",
    "        print(\"Factorial is:\",fact)"
   ]
  },
  {
   "cell_type": "markdown",
   "metadata": {},
   "source": [
    "# Function"
   ]
  },
  {
   "cell_type": "code",
   "execution_count": null,
   "metadata": {},
   "outputs": [],
   "source": [
    "def func():\n",
    "    a=int(input(\"Enter the values :\"))\n",
    "    b=int(input(\"Enter the values :\"))\n",
    "    return a*b"
   ]
  },
  {
   "cell_type": "code",
   "execution_count": null,
   "metadata": {},
   "outputs": [],
   "source": [
    "func()"
   ]
  },
  {
   "cell_type": "code",
   "execution_count": null,
   "metadata": {},
   "outputs": [],
   "source": [
    "def table(num):\n",
    "    for i in range(1,11):\n",
    "        c=i*num\n",
    "        print(f\"{num}*{i}={c}\")"
   ]
  },
  {
   "cell_type": "code",
   "execution_count": null,
   "metadata": {},
   "outputs": [],
   "source": [
    "table(10)"
   ]
  },
  {
   "cell_type": "code",
   "execution_count": null,
   "metadata": {},
   "outputs": [],
   "source": [
    "def func():\n",
    "    a=int(input(\"Enter the no\"))\n",
    "    b=int(input(\"Enter the no\"))\n",
    "    c=pow(a,b)\n",
    "    return c"
   ]
  },
  {
   "cell_type": "code",
   "execution_count": null,
   "metadata": {},
   "outputs": [],
   "source": [
    "func()"
   ]
  },
  {
   "cell_type": "code",
   "execution_count": null,
   "metadata": {},
   "outputs": [],
   "source": [
    "def func(a,b):\n",
    "    c= a/b\n",
    "    return c"
   ]
  },
  {
   "cell_type": "code",
   "execution_count": null,
   "metadata": {},
   "outputs": [],
   "source": [
    "func(20,2)"
   ]
  },
  {
   "cell_type": "code",
   "execution_count": null,
   "metadata": {},
   "outputs": [],
   "source": [
    "def sum():\n",
    "    a=10\n",
    "    b=20\n",
    "    c=a+b\n",
    "    return c\n",
    "print(sum())"
   ]
  },
  {
   "cell_type": "code",
   "execution_count": null,
   "metadata": {},
   "outputs": [],
   "source": [
    "def change_list(list1):\n",
    "    list1.append(20)\n",
    "    list1.append(30)\n",
    "    print(\"list inside the function\",list1)\n",
    "list1=[10,30,40,50]\n",
    "change_list(list1)\n",
    "print(\"list outside the function\",list1)"
   ]
  },
  {
   "cell_type": "code",
   "execution_count": null,
   "metadata": {},
   "outputs": [],
   "source": [
    "def func(name):\n",
    "    message=\"Hi\"+name\n",
    "    return message\n",
    "name=input(\"Enter the name\")\n",
    "print(func(name))"
   ]
  },
  {
   "cell_type": "code",
   "execution_count": null,
   "metadata": {},
   "outputs": [],
   "source": [
    "def printme(name,age=20):\n",
    "    print(\"My name is\",name,\"and Age is\",age)\n",
    "printme(name=\"Kiran\")    "
   ]
  },
  {
   "cell_type": "code",
   "execution_count": null,
   "metadata": {},
   "outputs": [],
   "source": [
    "def printme(*names):\n",
    "    for name in names:\n",
    "        print(name)\n",
    "printme(\"A\",\"B\",\"C\")        "
   ]
  },
  {
   "cell_type": "code",
   "execution_count": null,
   "metadata": {},
   "outputs": [],
   "source": []
  },
  {
   "cell_type": "code",
   "execution_count": null,
   "metadata": {},
   "outputs": [],
   "source": []
  },
  {
   "cell_type": "markdown",
   "metadata": {},
   "source": [
    "# Exercise "
   ]
  },
  {
   "cell_type": "code",
   "execution_count": null,
   "metadata": {},
   "outputs": [],
   "source": [
    "person =[]\n",
    "\n",
    "while True:\n",
    "    print(\"Person number \",len(person)+1)\n",
    "    name=input()\n",
    "    if name=='quit':\n",
    "        break\n",
    "    person.append(name)\n",
    "\n",
    "for name in person:\n",
    "    print(name)\n"
   ]
  },
  {
   "cell_type": "code",
   "execution_count": null,
   "metadata": {},
   "outputs": [],
   "source": [
    "lst=[x for x in range(0,10) if x%2==0]"
   ]
  },
  {
   "cell_type": "code",
   "execution_count": null,
   "metadata": {},
   "outputs": [],
   "source": [
    "lst"
   ]
  },
  {
   "cell_type": "code",
   "execution_count": null,
   "metadata": {},
   "outputs": [],
   "source": [
    "msg= \" I am good and you are good\""
   ]
  },
  {
   "cell_type": "code",
   "execution_count": null,
   "metadata": {},
   "outputs": [],
   "source": [
    "dict={}\n",
    "for i in msg:\n",
    "    if i not in dict:\n",
    "        dict[i]=1\n",
    "    else:\n",
    "        dict[i]+=1\n",
    "print(dict)        "
   ]
  },
  {
   "cell_type": "code",
   "execution_count": null,
   "metadata": {},
   "outputs": [],
   "source": [
    "class Account():\n",
    "    def __init__(self,name,balance):\n",
    "        self.name=name\n",
    "        self.balance=balance\n",
    "    def deposite(self,amount):\n",
    "        if amount > 0:\n",
    "            self.balance+=amount\n",
    "    def withdraw(self,amount):\n",
    "        if 0 < amount <self.balance:\n",
    "            self.balance-=amount\n",
    "        else:\n",
    "            print(\" insufficient balance\")\n",
    "        self.show_balance()    \n",
    "        \n",
    "    def show_balance(self):\n",
    "        print(\"Your Current balance {}\".format(self.balance))"
   ]
  },
  {
   "cell_type": "code",
   "execution_count": null,
   "metadata": {},
   "outputs": [],
   "source": [
    "a = Account('Kiran',122000)"
   ]
  },
  {
   "cell_type": "code",
   "execution_count": null,
   "metadata": {},
   "outputs": [],
   "source": [
    "a.deposite(10000)"
   ]
  },
  {
   "cell_type": "code",
   "execution_count": null,
   "metadata": {},
   "outputs": [],
   "source": [
    "print(a.name)\n",
    "print(a.balance)\n"
   ]
  },
  {
   "cell_type": "code",
   "execution_count": null,
   "metadata": {},
   "outputs": [],
   "source": [
    "a.show_balance()"
   ]
  },
  {
   "cell_type": "code",
   "execution_count": null,
   "metadata": {},
   "outputs": [],
   "source": [
    "a.withdraw(1400000)"
   ]
  },
  {
   "cell_type": "markdown",
   "metadata": {},
   "source": [
    "# Inheritance "
   ]
  },
  {
   "cell_type": "code",
   "execution_count": null,
   "metadata": {},
   "outputs": [],
   "source": [
    "class Body:\n",
    "    def __init__(self,name,age,gender):\n",
    "        self.name=name\n",
    "        self.age=age\n",
    "        self.gender='Male','Female'\n",
    "    \n",
    "    def eyes(self):\n",
    "        print(\"{} can see with help of eyes\".format(self.name))\n",
    "    \n",
    "    def ears(self):\n",
    "        print(\"{} can hear music\".format(self.name))\n",
    "    \n",
    "    def nose(self):\n",
    "        print(\"{} can smell\".format(self.name))\n",
    "\n",
    "        \n",
    "class Man(Body):\n",
    "    def __init__(self,*args):\n",
    "        super(Man,self).__init__(*args)\n",
    "    #    Body.__init__(self):\n",
    "    def eyes(self):\n",
    "        print(\"{} has brown eyes\".format(self.name))"
   ]
  },
  {
   "cell_type": "code",
   "execution_count": null,
   "metadata": {},
   "outputs": [],
   "source": [
    "man= Body('Kiran',30,'Male')"
   ]
  },
  {
   "cell_type": "code",
   "execution_count": null,
   "metadata": {},
   "outputs": [],
   "source": [
    "man.name"
   ]
  },
  {
   "cell_type": "markdown",
   "metadata": {},
   "source": [
    "# Encapsulation "
   ]
  },
  {
   "cell_type": "code",
   "execution_count": null,
   "metadata": {},
   "outputs": [],
   "source": [
    "class Account:\n",
    "    def __init__(self,salary,expenses):\n",
    "        self.salary=salary\n",
    "        self.expenses=expenses\n",
    "    def __str__(self):\n",
    "        return (\"Salary\"+ str(self.salary)+ \"Expenses\"+str(self.expenses))\n",
    "    \n",
    "class Sales:\n",
    "    def __init__(self,sales):\n",
    "        self.sales=sales\n",
    "    def __str__(self):\n",
    "        return (\"Sales\"+str(self.sales))\n",
    "    \n",
    "class Purches:\n",
    "    def __init__(self,purches):\n",
    "        self.purches=purches\n",
    "    def __str__(self):\n",
    "        return(\"Purches\"+str(self.purches))\n",
    "    \n",
    "class HumanResources:\n",
    "    def __init__(self,hiring):\n",
    "        self.hiring=hiring\n",
    "    def __str__(self):\n",
    "        return(\"Hiring\"+str(self.hiring))\n",
    "\n",
    "class Company:\n",
    "    def __init__(self,account,sales,purches,hr):\n",
    "        self.account=account\n",
    "        self.sales=sales\n",
    "        self.purches=purches\n",
    "        self.hr=hr\n",
    "    \n",
    "    def __str__(self):\n",
    "        return(str(self.account)+\"\\n\"+str(self.sales)+\"\\n\"+str(self.purches)+\"\\n\"+str(self.hr))\n",
    "    "
   ]
  },
  {
   "cell_type": "code",
   "execution_count": null,
   "metadata": {},
   "outputs": [],
   "source": [
    "acc =Account(120000,5000)\n",
    "sales = Sales(1000)\n",
    "purches =Purches(2000)\n",
    "hr = HumanResources(\"Employee\")"
   ]
  },
  {
   "cell_type": "code",
   "execution_count": null,
   "metadata": {},
   "outputs": [],
   "source": [
    "company =Company(acc,sales,purches,hr)"
   ]
  },
  {
   "cell_type": "code",
   "execution_count": null,
   "metadata": {},
   "outputs": [],
   "source": [
    "print(company)"
   ]
  },
  {
   "cell_type": "markdown",
   "metadata": {},
   "source": [
    "# Polymorphism"
   ]
  },
  {
   "cell_type": "code",
   "execution_count": null,
   "metadata": {},
   "outputs": [],
   "source": [
    "class Man:\n",
    "    def __init__(self,name):\n",
    "        self.name=name\n",
    "    \n",
    "    def clothing(self):\n",
    "        return self.name+\" likes wear shirts\"\n",
    "    \n",
    "class Women:\n",
    "    def __init__(self,name):\n",
    "        self.name = name\n",
    "    \n",
    "    def clothing(self):\n",
    "        return self.name +\" like wear jeans\""
   ]
  },
  {
   "cell_type": "code",
   "execution_count": null,
   "metadata": {},
   "outputs": [],
   "source": [
    "man = Man(\"Kiran\")\n",
    "wo= Women(\"ABC\")"
   ]
  },
  {
   "cell_type": "code",
   "execution_count": null,
   "metadata": {},
   "outputs": [],
   "source": [
    "print(man.clothing())\n",
    "print(wo.clothing())"
   ]
  },
  {
   "cell_type": "code",
   "execution_count": null,
   "metadata": {},
   "outputs": [],
   "source": [
    "test=\" I am kiran\"\n",
    "count=0\n",
    "for i in test:\n",
    "    if i =='a':\n",
    "        count+=1\n",
    "print(str(count))"
   ]
  },
  {
   "cell_type": "code",
   "execution_count": null,
   "metadata": {},
   "outputs": [],
   "source": [
    "test=\" I am kiran\"\n",
    "counter=test.count('a')\n",
    "print(str(counter))"
   ]
  },
  {
   "cell_type": "code",
   "execution_count": null,
   "metadata": {},
   "outputs": [],
   "source": [
    "n=int(input(\"enter the numbers\"))\n",
    "for i in range(1,n+1):\n",
    "    for j in range(1,i+1):\n",
    "        print(j,end=\"\")\n",
    "        \n",
    "    print()    "
   ]
  },
  {
   "cell_type": "code",
   "execution_count": null,
   "metadata": {},
   "outputs": [],
   "source": [
    "n=int(input(\"enter the numbers\"))\n",
    "for i in range(n,0,-1):\n",
    "    for j in range(1,i+1):\n",
    "        print(j,end=\"\")\n",
    "        \n",
    "    print()"
   ]
  },
  {
   "cell_type": "code",
   "execution_count": null,
   "metadata": {},
   "outputs": [],
   "source": [
    "n=int(input(\"enter the numbers\"))\n",
    "row=0\n",
    "while row<n:\n",
    "    star=row+1\n",
    "    while star>0:\n",
    "        print(\"*\",end=\"\")\n",
    "        star=star-1\n",
    "    row=row+1\n",
    "    print()\n",
    "    "
   ]
  },
  {
   "cell_type": "code",
   "execution_count": null,
   "metadata": {},
   "outputs": [],
   "source": [
    "list1=[\"These\",\"are\",\"a\",[\"Few\",\"words\"],\"that\",\"we\",\"will\",\"use\"]\n",
    "print(list1[3:4])\n",
    "print(list1[3:4][0])\n",
    "print(list1[3:4][0][1][2])"
   ]
  },
  {
   "cell_type": "code",
   "execution_count": null,
   "metadata": {},
   "outputs": [],
   "source": [
    "sens=input(\"enter the sentense\")\n",
    "string=sens.lower()\n",
    "print(string)\n",
    "count=0\n",
    "list1=[\"a\",\"e\",\"i\",\"o\",\"u\"]\n",
    "for char in string:\n",
    "    if char in list1:\n",
    "        count = count+1 \n",
    "print(count)        "
   ]
  },
  {
   "cell_type": "code",
   "execution_count": null,
   "metadata": {},
   "outputs": [],
   "source": [
    "def common_letter():\n",
    "    str1=input('enter the string')\n",
    "    str2=input('enter the string')\n",
    "    s1= set(str1)\n",
    "    s2=set(str2)\n",
    "    lst= s1 & s2\n",
    "    print(lst)\n",
    "common_letter()  "
   ]
  },
  {
   "cell_type": "code",
   "execution_count": null,
   "metadata": {},
   "outputs": [],
   "source": [
    "def freq_words():\n",
    "    str=input('enter the string')\n",
    "    li=str.split()\n",
    "    d={}\n",
    "    \n",
    "    for i in li:\n",
    "       # if i not in d.keys():\n",
    "       #     d[i]=0\n",
    "       # d[i]=d[i]+1 \n",
    "         d[i]=d.get(i,0)+1\n",
    "    print(d)\n",
    "freq_words()    \n",
    "            "
   ]
  },
  {
   "cell_type": "code",
   "execution_count": null,
   "metadata": {},
   "outputs": [],
   "source": [
    "def list_to_dict():\n",
    "    lst=[1,2,3]\n",
    "    lst1=['one','two','three']\n",
    "    result=dict(zip(lst,lst1))\n",
    "    print(result)\n",
    "list_to_dict()    \n",
    "\n",
    "def dict_to_tuple():\n",
    "    x={1: 'one', 2: 'two', 3: 'three'}\n",
    "    for i in x.items():\n",
    "        print(i)\n",
    "dict_to_tuple()        "
   ]
  },
  {
   "cell_type": "code",
   "execution_count": null,
   "metadata": {},
   "outputs": [],
   "source": [
    "def min_diff_ele(arr):\n",
    "    arr=sorted(arr)\n",
    "    size=len(arr)\n",
    "    min_diff=9999*999\n",
    "    \n",
    "    for i in range(size-1):\n",
    "        if(arr[i+1]-arr[i]<min_diff):\n",
    "            min_diff=arr[i+1]-arr[i]\n",
    "        return min_diff\n",
    "    \n",
    "arr=[5,32,45,4,12,18,25]\n",
    "print(min_diff_ele(arr))"
   ]
  },
  {
   "cell_type": "code",
   "execution_count": null,
   "metadata": {},
   "outputs": [],
   "source": [
    "arr=[1,2,3,4,2,1,3]\n",
    "arr2=[]\n",
    "for i in arr:\n",
    "    if(i not in arr2):\n",
    "        arr2.append(i)\n",
    "print(arr2)        \n",
    "\n",
    "dup_fun=lambda arr:set(arr)\n",
    "print(dup_fun(arr))"
   ]
  },
  {
   "cell_type": "code",
   "execution_count": null,
   "metadata": {},
   "outputs": [],
   "source": [
    "def Sort_unsort(arr):\n",
    "    n = len(arr)\n",
    "    if n == 1 or n == 0:\n",
    "        return True\n",
    "    return arr[0] <= arr[1] and Sort_unsort(arr[1:])\n",
    " \n",
    "arr = [2,10,5,20]\n",
    "if Sort_unsort(arr):\n",
    "    print(\"sorted\")\n",
    "else:\n",
    "    print(\"unsorted\")"
   ]
  },
  {
   "cell_type": "code",
   "execution_count": null,
   "metadata": {},
   "outputs": [],
   "source": [
    "import numpy\n",
    "speed = [99,86,87,88,111,86,103,87,94,78,77,85,86]"
   ]
  },
  {
   "cell_type": "code",
   "execution_count": null,
   "metadata": {},
   "outputs": [],
   "source": [
    "x = numpy.mean(speed)  #Mean - The average value\n",
    "print(x)"
   ]
  },
  {
   "cell_type": "code",
   "execution_count": null,
   "metadata": {},
   "outputs": [],
   "source": [
    "x = numpy.median(speed) #Median - The mid point value\n",
    "print(x)"
   ]
  },
  {
   "cell_type": "code",
   "execution_count": null,
   "metadata": {},
   "outputs": [],
   "source": [
    "from scipy import stats\n",
    "\n",
    "x = stats.mode(speed) #Mode - The most common value\n",
    "print(x)"
   ]
  },
  {
   "cell_type": "code",
   "execution_count": null,
   "metadata": {},
   "outputs": [],
   "source": [
    "import numpy\n",
    "\n",
    "speed = [86,87,88,86,87,85,86]\n",
    "\n",
    "x = numpy.std(speed)\n",
    "\n",
    "print(x)"
   ]
  },
  {
   "cell_type": "code",
   "execution_count": null,
   "metadata": {},
   "outputs": [],
   "source": [
    "import numpy\n",
    "\n",
    "speed = [32,111,138,28,59,77,97]\n",
    "\n",
    "x = numpy.std(speed)\n",
    "\n",
    "print(x)"
   ]
  },
  {
   "cell_type": "code",
   "execution_count": null,
   "metadata": {},
   "outputs": [],
   "source": [
    "import numpy\n",
    "\n",
    "ages = [5,31,43,48,50,41,7,11,15,39,80,82,32,2,8,6,25,36,27,61,31]\n",
    "\n",
    "x = numpy.percentile(ages, 80)\n",
    "\n",
    "print(x)"
   ]
  },
  {
   "cell_type": "code",
   "execution_count": null,
   "metadata": {},
   "outputs": [],
   "source": [
    "str = \"python\"\n",
    "for i in str:\n",
    "    if i=='y':\n",
    "        break\n",
    "    print(i)    \n",
    "    "
   ]
  },
  {
   "cell_type": "code",
   "execution_count": null,
   "metadata": {},
   "outputs": [],
   "source": [
    "i=0\n",
    "while 1:\n",
    "    print(i,\"\",end=\"\")\n",
    "    i=i+1\n",
    "    if i==10:\n",
    "        break\n",
    "print(\"come out from while loop\")        \n",
    "    "
   ]
  },
  {
   "cell_type": "code",
   "execution_count": null,
   "metadata": {},
   "outputs": [],
   "source": [
    "n=2\n",
    "while 1:\n",
    "    i=1\n",
    "    while i<=10:\n",
    "        print(\"%d X %d = %d\\n\"%(n,i,n*i)); \n",
    "        i=i+1\n",
    "    choice = int(input(\"Do you want to continue printing the table, press 0 for no?\"))  \n",
    "    if choice == 0:  \n",
    "        break;      \n",
    "    n=n+1  "
   ]
  },
  {
   "cell_type": "code",
   "execution_count": null,
   "metadata": {},
   "outputs": [],
   "source": [
    "str = \"HELLO\"  \n",
    "print(str[:4])\n",
    "print(str[2:-1])\n",
    "print('H' in str)\n",
    "str[0]='H'\n",
    "print(str)"
   ]
  },
  {
   "cell_type": "code",
   "execution_count": null,
   "metadata": {},
   "outputs": [],
   "source": [
    "print(\"{} and {} are best frnds\".format(\"A\",\"B\"))\n",
    "print(\"{1} and {0} best players \".format(\"a\",\"b\"))  \n",
    "print(\"{a},{b},{c}\".format(a = \"James\", b = \"Peter\", c = \"Ricky\"))  "
   ]
  },
  {
   "cell_type": "code",
   "execution_count": null,
   "metadata": {},
   "outputs": [],
   "source": [
    "Integer= 10;\n",
    "Float= 1.20;\n",
    "String =\"Kiran\"\n",
    "print(\"my value is %d,%f,%s\"%(Integer,Float,String))"
   ]
  },
  {
   "cell_type": "markdown",
   "metadata": {},
   "source": [
    "# Tuple"
   ]
  },
  {
   "cell_type": "code",
   "execution_count": null,
   "metadata": {},
   "outputs": [],
   "source": [
    "t1=(1,2,3,4)\n",
    "t1\n",
    "t1[0]"
   ]
  },
  {
   "cell_type": "code",
   "execution_count": null,
   "metadata": {},
   "outputs": [],
   "source": []
  },
  {
   "cell_type": "code",
   "execution_count": null,
   "metadata": {},
   "outputs": [],
   "source": []
  },
  {
   "cell_type": "code",
   "execution_count": null,
   "metadata": {},
   "outputs": [],
   "source": []
  },
  {
   "cell_type": "code",
   "execution_count": null,
   "metadata": {},
   "outputs": [],
   "source": []
  },
  {
   "cell_type": "code",
   "execution_count": null,
   "metadata": {},
   "outputs": [],
   "source": []
  },
  {
   "cell_type": "code",
   "execution_count": null,
   "metadata": {},
   "outputs": [],
   "source": []
  },
  {
   "cell_type": "code",
   "execution_count": null,
   "metadata": {},
   "outputs": [],
   "source": []
  },
  {
   "cell_type": "code",
   "execution_count": null,
   "metadata": {},
   "outputs": [],
   "source": [
    "tup1=(\"kiran\")\n",
    "print(tup1)"
   ]
  },
  {
   "cell_type": "markdown",
   "metadata": {},
   "source": [
    "# Set"
   ]
  },
  {
   "cell_type": "code",
   "execution_count": null,
   "metadata": {},
   "outputs": [],
   "source": [
    "Days = {\"Monday\", \"Tuesday\", \"Wednesday\", \"Thursday\", \"Friday\", \"Saturday\", \"Sunday\"}\n",
    "print(Days)\n",
    "for i in Days:\n",
    "    print(i)\n",
    "Day=set([\"a\",\"a\"])    \n",
    "print(Day)"
   ]
  },
  {
   "cell_type": "code",
   "execution_count": null,
   "metadata": {},
   "outputs": [],
   "source": [
    "Months={\"a\"}\n",
    "Months.add(\"b\")\n",
    "print(Months)"
   ]
  },
  {
   "cell_type": "code",
   "execution_count": null,
   "metadata": {},
   "outputs": [],
   "source": [
    "Days = {\"Monday\", \"Tuesday\", \"Wednesday\", \"Thursday\", \"Friday\", \"Saturday\", \"Sunday\"}\n",
    "for i in range(1,5):\n",
    "    Days.add(i)\n",
    "print(Days)    "
   ]
  },
  {
   "cell_type": "code",
   "execution_count": null,
   "metadata": {},
   "outputs": [],
   "source": []
  },
  {
   "cell_type": "code",
   "execution_count": null,
   "metadata": {},
   "outputs": [],
   "source": []
  },
  {
   "cell_type": "code",
   "execution_count": null,
   "metadata": {},
   "outputs": [],
   "source": []
  },
  {
   "cell_type": "markdown",
   "metadata": {},
   "source": [
    "# Lambda"
   ]
  },
  {
   "cell_type": "code",
   "execution_count": null,
   "metadata": {},
   "outputs": [],
   "source": [
    "x= lambda a:a+10\n",
    "print(\"Sum =\",x(20))"
   ]
  },
  {
   "cell_type": "code",
   "execution_count": null,
   "metadata": {},
   "outputs": [],
   "source": [
    "lst=(10,20,30,40)\n",
    "sq_rt=list(map(lambda x:x**2,lst))\n",
    "print(sq_rt)"
   ]
  },
  {
   "cell_type": "markdown",
   "metadata": {},
   "source": [
    "# Exception Handling"
   ]
  },
  {
   "cell_type": "code",
   "execution_count": null,
   "metadata": {},
   "outputs": [],
   "source": [
    "try:\n",
    "    a=int(input(\"enter the value\"))\n",
    "    b=int(input(\"enter the value\"))\n",
    "    c=a/b\n",
    "except:\n",
    "    print(\"Can not devide by zero\")"
   ]
  },
  {
   "cell_type": "markdown",
   "metadata": {},
   "source": [
    "# Class\n"
   ]
  },
  {
   "cell_type": "code",
   "execution_count": null,
   "metadata": {},
   "outputs": [],
   "source": [
    "class Car:\n",
    "    def __init__(self,modelname,year):\n",
    "        self.modelname=modelname\n",
    "        self.year=year\n",
    "    def display(self):\n",
    "        print(self.modelname,self.year)\n",
    "c1= Car(\"Maruti\",2020)\n",
    "c1.display()"
   ]
  },
  {
   "cell_type": "code",
   "execution_count": null,
   "metadata": {},
   "outputs": [],
   "source": [
    "eval(input(\"Enter the element \"))"
   ]
  },
  {
   "cell_type": "code",
   "execution_count": null,
   "metadata": {},
   "outputs": [],
   "source": [
    "class Person():\n",
    "    def __init__(self,name,age):\n",
    "        self.name=name\n",
    "        self.age=age\n",
    "   \n",
    "p=Person('A',20)\n",
    "print(p.name)\n",
    "print(p.age)\n"
   ]
  },
  {
   "cell_type": "code",
   "execution_count": null,
   "metadata": {},
   "outputs": [],
   "source": [
    "class Body():\n",
    "    def __init__(self):\n",
    "        self.name=input(\"Enter the name\")\n",
    "        self.age=int(input(\"Enter the age\"))\n",
    "\n",
    "    def eyes(self):\n",
    "        print('{} can see anythings'.format(self.name))\n",
    "        \n",
    "    def ears(self):\n",
    "        print('{} hear anything'.format(self.name))\n",
    "        \n",
    "b=Body()\n",
    "print(b.name)\n",
    "print(b.age)\n",
    "print(b.eyes())\n",
    "print(b.ears())"
   ]
  },
  {
   "cell_type": "code",
   "execution_count": null,
   "metadata": {},
   "outputs": [],
   "source": []
  },
  {
   "cell_type": "code",
   "execution_count": null,
   "metadata": {},
   "outputs": [],
   "source": []
  },
  {
   "cell_type": "code",
   "execution_count": 11,
   "metadata": {},
   "outputs": [
    {
     "name": "stdout",
     "output_type": "stream",
     "text": [
      "{'H': 1, 'o': 2, 'w': 1, ' ': 2, 'a': 1, 'r': 1, 'e': 1, 'y': 1, 'u': 1, '?': 1}\n"
     ]
    }
   ],
   "source": [
    "msssg='How are you?'\n",
    "dict={}\n",
    "for i in msssg:\n",
    "    if i not in dict:\n",
    "        dict[i]=1\n",
    "    else:\n",
    "        dict[i]+=1\n",
    "        \n",
    "print(dict)        "
   ]
  },
  {
   "cell_type": "code",
   "execution_count": 1,
   "metadata": {},
   "outputs": [
    {
     "data": {
      "text/plain": [
       "10"
      ]
     },
     "execution_count": 1,
     "metadata": {},
     "output_type": "execute_result"
    }
   ],
   "source": [
    "def func(elements):\n",
    "    for x in elements:\n",
    "        return x\n",
    "func([10,20])\n"
   ]
  },
  {
   "cell_type": "code",
   "execution_count": 5,
   "metadata": {},
   "outputs": [
    {
     "name": "stdout",
     "output_type": "stream",
     "text": [
      "[[4, 5], [1, 2, 3], [6, 7, 8, 9]]\n"
     ]
    }
   ],
   "source": [
    "List=[[1,2,3],[4,5],[6,7,8,9]]\n",
    "result=sorted(List,key=len)\n",
    "print(result)"
   ]
  },
  {
   "cell_type": "code",
   "execution_count": 9,
   "metadata": {},
   "outputs": [
    {
     "name": "stdout",
     "output_type": "stream",
     "text": [
      "Hi\n",
      "Hi\n",
      "Hi\n",
      "bye\n"
     ]
    }
   ],
   "source": [
    "count=0\n",
    "while(count<3):\n",
    "    count+=1\n",
    "    print(\"Hi\")\n",
    "else:\n",
    "    print('bye')"
   ]
  },
  {
   "cell_type": "code",
   "execution_count": 10,
   "metadata": {},
   "outputs": [
    {
     "name": "stdout",
     "output_type": "stream",
     "text": [
      "0\n",
      "1\n",
      "2\n",
      "3\n"
     ]
    }
   ],
   "source": [
    "n=4\n",
    "\n",
    "for i in range(0,n):\n",
    "    print(i)"
   ]
  },
  {
   "cell_type": "code",
   "execution_count": 15,
   "metadata": {},
   "outputs": [
    {
     "name": "stdout",
     "output_type": "stream",
     "text": [
      "geeks\n",
      "for\n",
      "geeks\n",
      "0\n",
      "1\n",
      "2\n"
     ]
    }
   ],
   "source": [
    "l = [\"geeks\", \"for\", \"geeks\"]\n",
    "for i in range(len(l)):\n",
    "    print(l[i])\n",
    "    \n",
    "l = [\"geeks\", \"for\", \"geeks\"]\n",
    "for i in range(len(l)):\n",
    "    print(i)"
   ]
  },
  {
   "cell_type": "code",
   "execution_count": 17,
   "metadata": {},
   "outputs": [
    {
     "name": "stdout",
     "output_type": "stream",
     "text": [
      "1 \n",
      "2 2 \n",
      "3 3 3 \n",
      "4 4 4 4 \n"
     ]
    }
   ],
   "source": [
    "for i in range(1,5):\n",
    "    for  j in range(i):\n",
    "        print(i,end=' ')\n",
    "    print()    "
   ]
  },
  {
   "cell_type": "code",
   "execution_count": 18,
   "metadata": {},
   "outputs": [
    {
     "name": "stdout",
     "output_type": "stream",
     "text": [
      "Current Letter : g\n",
      "Current Letter : k\n",
      "Current Letter : f\n",
      "Current Letter : o\n",
      "Current Letter : r\n",
      "Current Letter : g\n",
      "Current Letter : k\n"
     ]
    }
   ],
   "source": [
    "# Prints all letters except 'e' and 's'\n",
    "for letter in 'geeksforgeeks':\n",
    "    if letter == 'e' or letter == 's':\n",
    "         continue\n",
    "    print ('Current Letter :', letter)"
   ]
  },
  {
   "cell_type": "code",
   "execution_count": 23,
   "metadata": {},
   "outputs": [
    {
     "name": "stdout",
     "output_type": "stream",
     "text": [
      "Current Letter : e\n"
     ]
    }
   ],
   "source": [
    "\n",
    "for letter in 'geeksforgeeks':\n",
    "    # break the loop as soon it sees 'e' or 's'\n",
    "    if letter == 'e' or letter == 's':\n",
    "         break\n",
    "print('Current Letter :', letter)"
   ]
  },
  {
   "cell_type": "code",
   "execution_count": 27,
   "metadata": {},
   "outputs": [
    {
     "data": {
      "text/plain": [
       "32"
      ]
     },
     "execution_count": 27,
     "metadata": {},
     "output_type": "execute_result"
    }
   ],
   "source": [
    "import statistics\n",
    "\n",
    "mode=[4, 6, 12, 14, 23, 28, 28, 32, 32, 32, 44, 44, 44, 48, 55, 55]\n",
    "\n",
    "a=statistics.mode(mode)\n",
    "a"
   ]
  },
  {
   "cell_type": "code",
   "execution_count": 3,
   "metadata": {},
   "outputs": [
    {
     "name": "stdout",
     "output_type": "stream",
     "text": [
      "1\n",
      "2\n",
      "3\n",
      "4\n"
     ]
    }
   ],
   "source": [
    "for i in range(1,5):\n",
    "    print(i)"
   ]
  },
  {
   "cell_type": "code",
   "execution_count": 12,
   "metadata": {},
   "outputs": [
    {
     "name": "stdout",
     "output_type": "stream",
     "text": [
      "* \r\n",
      "* * \r\n",
      "* * * \r\n",
      "* * * * \r\n",
      "* * * * * \r\n"
     ]
    }
   ],
   "source": [
    "n=5\n",
    "def pypart(n):\n",
    "    for i in range(0,n):\n",
    "        for j in range(0,i+1):\n",
    "            print(\"*\",end=\" \")\n",
    "        print(\"\\r\")\n",
    "pypart(n)"
   ]
  },
  {
   "cell_type": "code",
   "execution_count": 15,
   "metadata": {},
   "outputs": [
    {
     "name": "stdout",
     "output_type": "stream",
     "text": [
      "*\n",
      "*\n",
      "**\n",
      "*\n",
      "**\n",
      "***\n",
      "*\n",
      "**\n",
      "***\n",
      "****\n",
      "*\n",
      "**\n",
      "***\n",
      "****\n",
      "*****\n"
     ]
    }
   ],
   "source": [
    "n=5\n",
    "def pypart(n):\n",
    "    mylist=[]\n",
    "    for i in range(1,n+1):\n",
    "        mylist.append(\"*\"*i)\n",
    "        print(\"\\n\".join(mylist))\n",
    "pypart(n)"
   ]
  },
  {
   "cell_type": "code",
   "execution_count": 16,
   "metadata": {},
   "outputs": [
    {
     "name": "stdout",
     "output_type": "stream",
     "text": [
      "*\n",
      "**\n",
      "***\n",
      "****\n",
      "*****\n"
     ]
    }
   ],
   "source": [
    "n=5 #Recursive function\n",
    "def pypart(n):\n",
    "    if n==0:\n",
    "        return \n",
    "    else:\n",
    "        pypart(n-1)\n",
    "        print(\"*\"*n)\n",
    "pypart(n)"
   ]
  },
  {
   "cell_type": "code",
   "execution_count": 22,
   "metadata": {},
   "outputs": [
    {
     "name": "stdout",
     "output_type": "stream",
     "text": [
      "Aston\n",
      "Audi\n",
      "McLaren\n"
     ]
    }
   ],
   "source": [
    "cars = [\"Aston\", \"Audi\", \"McLaren\"]\n",
    "for i in range(len(cars)):\n",
    "    print(cars[i])"
   ]
  },
  {
   "cell_type": "code",
   "execution_count": 26,
   "metadata": {},
   "outputs": [
    {
     "name": "stdout",
     "output_type": "stream",
     "text": [
      "Aston\n",
      "Audi\n",
      "McLaren\n",
      "(0, 'Aston')\n",
      "(1, 'Audi')\n",
      "(2, 'McLaren')\n"
     ]
    }
   ],
   "source": [
    "cars = [\"Aston\", \"Audi\", \"McLaren\"]\n",
    "for i,x in enumerate(cars):\n",
    "    print(x)\n",
    "for i in enumerate(cars):\n",
    "    print(i)"
   ]
  },
  {
   "cell_type": "code",
   "execution_count": 52,
   "metadata": {},
   "outputs": [
    {
     "data": {
      "text/plain": [
       "30"
      ]
     },
     "execution_count": 52,
     "metadata": {},
     "output_type": "execute_result"
    }
   ],
   "source": [
    "num1=10\n",
    "num2=20\n",
    "\n",
    "def add(num1:int,num2:int)->int:\n",
    "    num3=num1+num2\n",
    "    return num3\n",
    "add(num1,num2)\n"
   ]
  },
  {
   "cell_type": "code",
   "execution_count": 33,
   "metadata": {},
   "outputs": [],
   "source": [
    "mutex=True\n",
    "if(mutex==True):\n",
    "    pass\n",
    "else:\n",
    "    print(\"False\")"
   ]
  },
  {
   "cell_type": "code",
   "execution_count": 51,
   "metadata": {},
   "outputs": [
    {
     "data": {
      "text/plain": [
       "<generator object squares at 0x000001D297A8A7B0>"
      ]
     },
     "execution_count": 51,
     "metadata": {},
     "output_type": "execute_result"
    }
   ],
   "source": [
    "def squares(num):\n",
    "    i=1\n",
    "    while True:\n",
    "        yield i*i\n",
    "    for num in squares():\n",
    "        if num<=100:\n",
    "            print(num)  \n",
    "num=1\n",
    "squares(num)"
   ]
  },
  {
   "cell_type": "code",
   "execution_count": 50,
   "metadata": {},
   "outputs": [
    {
     "name": "stdout",
     "output_type": "stream",
     "text": [
      "23\n"
     ]
    }
   ],
   "source": [
    "x=['1','2','3']\n",
    "y=x[1]+x[2]\n",
    "print(y)"
   ]
  },
  {
   "cell_type": "code",
   "execution_count": 5,
   "metadata": {},
   "outputs": [
    {
     "name": "stdout",
     "output_type": "stream",
     "text": [
      "['Kiran', 20]\n",
      "Kiran\n",
      "20\n"
     ]
    }
   ],
   "source": [
    "#Return multiple values \n",
    "class test:\n",
    "    def __init__(self):\n",
    "        self.str='Kiran'\n",
    "        self.x=20\n",
    "def fun():\n",
    "    return test()\n",
    "def fun_list():\n",
    "    str='Kiran'\n",
    "    x=20\n",
    "    return [str,x]\n",
    "t=fun()\n",
    "t1=fun_list()\n",
    "print(t1)\n",
    "print(t.str)\n",
    "print(t.x)"
   ]
  },
  {
   "cell_type": "code",
   "execution_count": 53,
   "metadata": {},
   "outputs": [
    {
     "name": "stdout",
     "output_type": "stream",
     "text": [
      "1 4 5 6\n"
     ]
    }
   ],
   "source": [
    "a,b,c='123'\n",
    "b,c,d='456'\n",
    "print(a,b,c,d)"
   ]
  },
  {
   "cell_type": "code",
   "execution_count": 63,
   "metadata": {},
   "outputs": [
    {
     "data": {
      "text/plain": [
       "(4, 33)"
      ]
     },
     "execution_count": 63,
     "metadata": {},
     "output_type": "execute_result"
    }
   ],
   "source": [
    "def upper_lower():\n",
    "    sample='Hello Mr. Rogers, how are you this fine Tuesday?'\n",
    "    count_upper=0\n",
    "    count_lower=0\n",
    "    for i in sample:\n",
    "        if (i.isupper()):\n",
    "            count_upper+=1\n",
    "        elif (i.islower()):\n",
    "            count_lower+=1\n",
    "    return count_upper,count_lower\n",
    "upper_lower()"
   ]
  },
  {
   "cell_type": "code",
   "execution_count": 69,
   "metadata": {},
   "outputs": [
    {
     "name": "stdout",
     "output_type": "stream",
     "text": [
      "No. of Upper case characters :  4\n",
      "No. of Lower case characters :  33\n"
     ]
    }
   ],
   "source": [
    "import re\n",
    "sample='Hello Mr. Rogers, how are you this fine Tuesday?'\n",
    "def func(sample):\n",
    "    print(\"No. of Upper case characters : \",len(re.findall(r'[A-Z]',sample)))\n",
    "    print(\"No. of Lower case characters : \",len(re.findall(r'[a-z]',sample)))\n",
    "func(sample)    "
   ]
  },
  {
   "cell_type": "code",
   "execution_count": 70,
   "metadata": {},
   "outputs": [
    {
     "name": "stdout",
     "output_type": "stream",
     "text": [
      "-16 -11\n"
     ]
    }
   ],
   "source": [
    "x,y=~15,5\n",
    "z=x+y\n",
    "print(x,z)"
   ]
  },
  {
   "cell_type": "code",
   "execution_count": 3,
   "metadata": {},
   "outputs": [],
   "source": [
    "# import pandas as pd\n",
    "\n",
    "# df=pd.read_json('datasets/spaceCompanies.json')\n"
   ]
  },
  {
   "cell_type": "code",
   "execution_count": 4,
   "metadata": {},
   "outputs": [
    {
     "name": "stdout",
     "output_type": "stream",
     "text": [
      "[[0, 1, 2, 3, 4, 5, 6, 7, 8]]\n"
     ]
    }
   ],
   "source": [
    "x=[]\n",
    "y=[[0,1,2],[3,4,5],[6,7,8]]\n",
    "x.append([row[i] for row in y for i in range(3)])\n",
    "print(x)"
   ]
  },
  {
   "cell_type": "code",
   "execution_count": 5,
   "metadata": {},
   "outputs": [],
   "source": [
    "#pip install pandas-profiling"
   ]
  },
  {
   "cell_type": "code",
   "execution_count": 1,
   "metadata": {},
   "outputs": [],
   "source": [
    "# from pandas_profiling import ProfileReport\n",
    "\n",
    "# profile=ProfileReport(df,explorative=True,dark_mode=True)\n",
    "# profile.to_file('datasets/output.html')"
   ]
  },
  {
   "cell_type": "code",
   "execution_count": 2,
   "metadata": {},
   "outputs": [],
   "source": [
    "#pip install autoviz"
   ]
  },
  {
   "cell_type": "code",
   "execution_count": 3,
   "metadata": {},
   "outputs": [
    {
     "name": "stdout",
     "output_type": "stream",
     "text": [
      "5\n",
      "10\n",
      "10\n",
      "50\n"
     ]
    }
   ],
   "source": [
    "a=10\n",
    "b=5\n",
    "\n",
    "temp=a\n",
    "a=b\n",
    "b=temp\n",
    "print(a)\n",
    "print(b)\n",
    "# swapning two elements\n",
    "x=50\n",
    "y=10\n",
    "x,y=y,x\n",
    "print(x)\n",
    "print(y)"
   ]
  },
  {
   "cell_type": "code",
   "execution_count": 4,
   "metadata": {},
   "outputs": [
    {
     "name": "stdout",
     "output_type": "stream",
     "text": [
      "{'a': 1, 'b': 2, 'c': 3, 'd': 4, 'e': 5}\n"
     ]
    }
   ],
   "source": [
    "l1=[1,2,3,4,5]\n",
    "l2=['a','b','c','d','e']\n",
    "\n",
    "ans=dict(zip(l2,l1))\n",
    "print(ans)"
   ]
  },
  {
   "cell_type": "code",
   "execution_count": 5,
   "metadata": {},
   "outputs": [
    {
     "name": "stdout",
     "output_type": "stream",
     "text": [
      "[['a', 'b'], ['c', 'd']]\n"
     ]
    }
   ],
   "source": [
    "x = ['ab','cd']\n",
    "print(list(map(list, x)))"
   ]
  },
  {
   "cell_type": "code",
   "execution_count": 40,
   "metadata": {},
   "outputs": [
    {
     "name": "stdout",
     "output_type": "stream",
     "text": [
      "Enter string:kiran\n",
      "String not palindrome\n"
     ]
    }
   ],
   "source": [
    "s=input(\"Enter string:\")\n",
    "revstr=s[::-1]\n",
    "if revstr==s:\n",
    "    print(\"string is palindrome\")\n",
    "else:\n",
    "    print('String not palindrome')"
   ]
  },
  {
   "cell_type": "code",
   "execution_count": 7,
   "metadata": {},
   "outputs": [
    {
     "name": "stdout",
     "output_type": "stream",
     "text": [
      "A B C\n"
     ]
    }
   ],
   "source": [
    "lis=['A','B','C']\n",
    "a=' '.join(lis)\n",
    "print(a)"
   ]
  },
  {
   "cell_type": "code",
   "execution_count": 8,
   "metadata": {},
   "outputs": [
    {
     "name": "stdout",
     "output_type": "stream",
     "text": [
      "{'A': 1, 'B': 1, 'C': 1}\n"
     ]
    }
   ],
   "source": [
    "string=\"ABC\"\n",
    "\n",
    "dict={}\n",
    "\n",
    "for i in string:\n",
    "    if i not in dict:\n",
    "        dict[i]=1\n",
    "    else:\n",
    "        dict[i]+=1\n",
    "print(dict)        \n",
    "        "
   ]
  },
  {
   "cell_type": "code",
   "execution_count": 9,
   "metadata": {},
   "outputs": [
    {
     "name": "stdout",
     "output_type": "stream",
     "text": [
      "['i', 'am', 'kiran']\n"
     ]
    }
   ],
   "source": [
    "word=\"i am kiran\"\n",
    "print(word.split())"
   ]
  },
  {
   "cell_type": "code",
   "execution_count": 11,
   "metadata": {},
   "outputs": [
    {
     "name": "stdout",
     "output_type": "stream",
     "text": [
      "7\n"
     ]
    }
   ],
   "source": [
    "#max count number\n",
    "\n",
    "num=[1,2,3,4,5,6,7,7,7,8,9]\n",
    "print(max(set(num),key=num.count))"
   ]
  },
  {
   "cell_type": "code",
   "execution_count": 12,
   "metadata": {},
   "outputs": [
    {
     "data": {
      "text/plain": [
       "True"
      ]
     },
     "execution_count": 12,
     "metadata": {},
     "output_type": "execute_result"
    }
   ],
   "source": [
    "s='anagram'\n",
    "s1='margana'\n",
    "def anagrams():\n",
    "    if (sorted(s)==sorted(s1)):\n",
    "        return True\n",
    "    else:\n",
    "        return False\n",
    "anagrams()    \n",
    "    "
   ]
  },
  {
   "cell_type": "code",
   "execution_count": 19,
   "metadata": {},
   "outputs": [
    {
     "name": "stdout",
     "output_type": "stream",
     "text": [
      "1\n"
     ]
    }
   ],
   "source": [
    "List=[1,0,2]\n",
    "a,b,c=List[::-1]\n",
    "print(List[b])"
   ]
  },
  {
   "cell_type": "code",
   "execution_count": 4,
   "metadata": {},
   "outputs": [
    {
     "name": "stdout",
     "output_type": "stream",
     "text": [
      "{'I': 1, 'am': 1, 'kiran': 1}\n"
     ]
    }
   ],
   "source": [
    "s='I am kiran'\n",
    "\n",
    "dict={}\n",
    "\n",
    "for i in s.split():\n",
    "    if i not in dict:\n",
    "        dict[i]=1\n",
    "    else:\n",
    "        dict[i]+=1\n",
    "print(dict)        "
   ]
  },
  {
   "cell_type": "code",
   "execution_count": 3,
   "metadata": {},
   "outputs": [
    {
     "name": "stdout",
     "output_type": "stream",
     "text": [
      "['I', 'am', 'kiran']\n"
     ]
    }
   ],
   "source": [
    "s='I am kiran'\n",
    "\n",
    "ans=s.split()\n",
    "print(ans)"
   ]
  },
  {
   "cell_type": "code",
   "execution_count": 39,
   "metadata": {},
   "outputs": [
    {
     "name": "stdout",
     "output_type": "stream",
     "text": [
      "enter the stringkiran \n",
      "enter the stringkiran kiran kiran kiran\n",
      "False\n"
     ]
    }
   ],
   "source": [
    "s=input(\"enter the string\")\n",
    "s1=input(\"enter the string\")\n",
    "if(s1.count(s)<=2):\n",
    "    print('True')\n",
    "else:\n",
    "    print('False')\n",
    "\n"
   ]
  },
  {
   "cell_type": "code",
   "execution_count": 41,
   "metadata": {},
   "outputs": [
    {
     "name": "stdout",
     "output_type": "stream",
     "text": [
      "True\n"
     ]
    }
   ],
   "source": [
    "def check(a,b):\n",
    "    if(a.count(b)>=2):\n",
    "        print('True')\n",
    "    else:\n",
    "        print('False')\n",
    "a='Kiran Kiran Kiran'\n",
    "b='Kiran'\n",
    "check(a,b)"
   ]
  },
  {
   "cell_type": "code",
   "execution_count": 9,
   "metadata": {},
   "outputs": [
    {
     "data": {
      "text/plain": [
       "datetime.datetime(2022, 11, 23, 16, 20, 29, 260129)"
      ]
     },
     "execution_count": 9,
     "metadata": {},
     "output_type": "execute_result"
    }
   ],
   "source": [
    "from datetime import datetime,timedelta\n",
    "two_days=datetime.now()-timedelta(days=2)\n",
    "two_days"
   ]
  },
  {
   "cell_type": "code",
   "execution_count": 31,
   "metadata": {},
   "outputs": [
    {
     "name": "stdout",
     "output_type": "stream",
     "text": [
      "2\n"
     ]
    }
   ],
   "source": [
    "def vowels_count(s):\n",
    "    count=0\n",
    "    vowel=set('aeiouAEIOU')\n",
    "    for a in s:\n",
    "        if a in vowel:\n",
    "            count+=1\n",
    "    print(count)\n",
    "s='Geeks'\n",
    "vowels_count(s)\n",
    "        \n",
    "    "
   ]
  },
  {
   "cell_type": "code",
   "execution_count": 34,
   "metadata": {},
   "outputs": [
    {
     "name": "stdout",
     "output_type": "stream",
     "text": [
      "3\n"
     ]
    }
   ],
   "source": [
    " #Count occurrences of a character in string\n",
    "    \n",
    "string='abcsddsd'\n",
    "count=0\n",
    "for i in string:\n",
    "    if i =='d':\n",
    "        count+=1\n",
    "print(count)"
   ]
  },
  {
   "cell_type": "code",
   "execution_count": 37,
   "metadata": {},
   "outputs": [
    {
     "name": "stdout",
     "output_type": "stream",
     "text": [
      "2\n"
     ]
    }
   ],
   "source": [
    "st=len('kiran adhav'.split())\n",
    "print(st)"
   ]
  },
  {
   "cell_type": "code",
   "execution_count": 39,
   "metadata": {},
   "outputs": [
    {
     "data": {
      "text/plain": [
       "11"
      ]
     },
     "execution_count": 39,
     "metadata": {},
     "output_type": "execute_result"
    }
   ],
   "source": [
    "# Count lenth of sentense \n",
    "input='hello world'\n",
    "\n",
    "def count_len(input):\n",
    "    count=0\n",
    "    for i in input:\n",
    "        count+=1\n",
    "    return count\n",
    "count_len(input)"
   ]
  },
  {
   "cell_type": "code",
   "execution_count": 43,
   "metadata": {},
   "outputs": [
    {
     "data": {
      "text/plain": [
       "'word'"
      ]
     },
     "execution_count": 43,
     "metadata": {},
     "output_type": "execute_result"
    }
   ],
   "source": [
    "# Even length words \n",
    "\n",
    "ss='Hello word'\n",
    "def even_length(ss):\n",
    "    for i in ss.split():\n",
    "        if len(i)%2==0:\n",
    "            return i\n",
    "even_length(ss)"
   ]
  },
  {
   "cell_type": "code",
   "execution_count": 5,
   "metadata": {},
   "outputs": [
    {
     "data": {
      "text/plain": [
       "[1, 1, 3, 2, 2, 3]"
      ]
     },
     "execution_count": 5,
     "metadata": {},
     "output_type": "execute_result"
    }
   ],
   "source": [
    "nums = [1,1,1,2,2,3]\n",
    "def remove_duplicate(nums):\n",
    "    l=2\n",
    "    for i in range(l,len(nums)):\n",
    "        if nums[l-2]!=nums[i]:\n",
    "            nums[l]=nums[i]\n",
    "            l+=1\n",
    "    return l\n",
    "remove_duplicate(nums)"
   ]
  },
  {
   "cell_type": "code",
   "execution_count": 8,
   "metadata": {},
   "outputs": [
    {
     "data": {
      "text/plain": [
       "[1, 1, 3, 2, 2, 3]"
      ]
     },
     "execution_count": 8,
     "metadata": {},
     "output_type": "execute_result"
    }
   ],
   "source": [
    "aa = [1,1,1,2,2,3]\n",
    "def removeDuplicates(aa):\n",
    "    l=2\n",
    "    for i in range(l,len(aa)):\n",
    "        if aa[l-2]!=aa[i]:\n",
    "            aa[l]=aa[i]\n",
    "            \n",
    "    return aa\n",
    "removeDuplicates(aa)"
   ]
  },
  {
   "cell_type": "code",
   "execution_count": 8,
   "metadata": {},
   "outputs": [
    {
     "data": {
      "text/plain": [
       "True"
      ]
     },
     "execution_count": 8,
     "metadata": {},
     "output_type": "execute_result"
    }
   ],
   "source": [
    "s='anagram'\n",
    "s1='margana'\n",
    "\n",
    "def ana(s,s1):\n",
    "    if sorted(s)==sorted(s1):\n",
    "        return True\n",
    "    return False\n",
    "ana(s,s1)"
   ]
  },
  {
   "cell_type": "code",
   "execution_count": 16,
   "metadata": {},
   "outputs": [
    {
     "data": {
      "text/plain": [
       "'ab'"
      ]
     },
     "execution_count": 16,
     "metadata": {},
     "output_type": "execute_result"
    }
   ],
   "source": [
    "# list words into string\n",
    "\n",
    "w=['a','b']\n",
    "\n",
    "def word_string(w):\n",
    "    new=\"\"\n",
    "    return new.join(w)\n",
    "#     for i in w:\n",
    "#         new+=i\n",
    "#     return new\n",
    "word_string(w)"
   ]
  },
  {
   "cell_type": "code",
   "execution_count": 20,
   "metadata": {},
   "outputs": [
    {
     "name": "stdout",
     "output_type": "stream",
     "text": [
      "Hello World\n"
     ]
    }
   ],
   "source": [
    "def hello_world():\n",
    "    print('Hello World')\n",
    "hello_world()"
   ]
  },
  {
   "cell_type": "code",
   "execution_count": 2,
   "metadata": {},
   "outputs": [
    {
     "ename": "AttributeError",
     "evalue": "'Test' object has no attribute '__id'",
     "output_type": "error",
     "traceback": [
      "\u001b[1;31m---------------------------------------------------------------------------\u001b[0m",
      "\u001b[1;31mAttributeError\u001b[0m                            Traceback (most recent call last)",
      "\u001b[1;32m~\\AppData\\Local\\Temp\\ipykernel_7540\\1214203439.py\u001b[0m in \u001b[0;36m<module>\u001b[1;34m\u001b[0m\n\u001b[0;32m      3\u001b[0m         \u001b[0mself\u001b[0m\u001b[1;33m.\u001b[0m\u001b[0m__id\u001b[0m\u001b[1;33m=\u001b[0m\u001b[1;36m101\u001b[0m\u001b[1;33m\u001b[0m\u001b[1;33m\u001b[0m\u001b[0m\n\u001b[0;32m      4\u001b[0m \u001b[0mtest\u001b[0m\u001b[1;33m=\u001b[0m\u001b[0mTest\u001b[0m\u001b[1;33m(\u001b[0m\u001b[1;36m102\u001b[0m\u001b[1;33m)\u001b[0m\u001b[1;33m\u001b[0m\u001b[1;33m\u001b[0m\u001b[0m\n\u001b[1;32m----> 5\u001b[1;33m \u001b[0mprint\u001b[0m\u001b[1;33m(\u001b[0m\u001b[0mtest\u001b[0m\u001b[1;33m.\u001b[0m\u001b[0m__id\u001b[0m\u001b[1;33m)\u001b[0m\u001b[1;33m\u001b[0m\u001b[1;33m\u001b[0m\u001b[0m\n\u001b[0m",
      "\u001b[1;31mAttributeError\u001b[0m: 'Test' object has no attribute '__id'"
     ]
    }
   ],
   "source": [
    "class Test:\n",
    "    def __init__(self,__id):\n",
    "        self.__id=101\n",
    "test=Test(102)\n",
    "print(test.__id)"
   ]
  },
  {
   "cell_type": "code",
   "execution_count": 12,
   "metadata": {},
   "outputs": [
    {
     "name": "stdout",
     "output_type": "stream",
     "text": [
      "* \r\n",
      "* * \r\n",
      "* * * \r\n",
      "* * * * \r\n",
      "* * * * * \r\n"
     ]
    }
   ],
   "source": [
    "n=5\n",
    "def star(n):\n",
    "    for i in range(0,n):\n",
    "        for j in range(0,i+1):\n",
    "            print('*',end=\" \")\n",
    "        print(\"\\r\")\n",
    "star(n)"
   ]
  },
  {
   "cell_type": "code",
   "execution_count": 6,
   "metadata": {},
   "outputs": [
    {
     "name": "stdout",
     "output_type": "stream",
     "text": [
      "{1: 'a', 2: 'b', 3: 'a', 4: 'b'}\n"
     ]
    }
   ],
   "source": [
    "a={1:'a',2:'b'}\n",
    "b={3:'a',4:'b'}\n",
    "\n",
    "ans={**a,**b}\n",
    "print(ans)"
   ]
  },
  {
   "cell_type": "code",
   "execution_count": 7,
   "metadata": {},
   "outputs": [
    {
     "name": "stdout",
     "output_type": "stream",
     "text": [
      "Collecting DALL-E\n",
      "  Downloading DALL_E-0.1-py3-none-any.whl (6.0 kB)\n",
      "Requirement already satisfied: Pillow in d:\\juypitor\\lib\\site-packages (from DALL-E) (9.2.0)\n",
      "Collecting torchvision\n",
      "  Downloading torchvision-0.14.0-cp39-cp39-win_amd64.whl (1.1 MB)\n",
      "     ---------------------------------------- 1.1/1.1 MB 104.2 kB/s eta 0:00:00\n",
      "Requirement already satisfied: numpy in d:\\juypitor\\lib\\site-packages (from DALL-E) (1.21.5)\n",
      "Requirement already satisfied: torch in d:\\juypitor\\lib\\site-packages (from DALL-E) (1.13.0)\n",
      "Requirement already satisfied: requests in d:\\juypitor\\lib\\site-packages (from DALL-E) (2.28.1)\n",
      "Requirement already satisfied: pytest in d:\\juypitor\\lib\\site-packages (from DALL-E) (7.1.2)\n",
      "Collecting blobfile\n",
      "  Downloading blobfile-2.0.0-py3-none-any.whl (73 kB)\n",
      "     -------------------------------------- 73.3/73.3 kB 183.4 kB/s eta 0:00:00\n",
      "Collecting mypy\n",
      "  Downloading mypy-0.991-cp39-cp39-win_amd64.whl (8.7 MB)\n",
      "     ---------------------------------------- 8.7/8.7 MB 178.1 kB/s eta 0:00:00\n",
      "Requirement already satisfied: lxml~=4.9 in d:\\juypitor\\lib\\site-packages (from blobfile->DALL-E) (4.9.1)\n",
      "Collecting pycryptodomex~=3.8\n",
      "  Downloading pycryptodomex-3.16.0-cp35-abi3-win_amd64.whl (1.7 MB)\n",
      "     ---------------------------------------- 1.7/1.7 MB 268.3 kB/s eta 0:00:00\n",
      "Requirement already satisfied: urllib3~=1.25 in d:\\juypitor\\lib\\site-packages (from blobfile->DALL-E) (1.26.11)\n",
      "Requirement already satisfied: filelock~=3.0 in d:\\juypitor\\lib\\site-packages (from blobfile->DALL-E) (3.6.0)\n",
      "Requirement already satisfied: typing-extensions>=3.10 in d:\\juypitor\\lib\\site-packages (from mypy->DALL-E) (4.3.0)\n",
      "Requirement already satisfied: tomli>=1.1.0 in d:\\juypitor\\lib\\site-packages (from mypy->DALL-E) (2.0.1)\n",
      "Requirement already satisfied: mypy-extensions>=0.4.3 in d:\\juypitor\\lib\\site-packages (from mypy->DALL-E) (0.4.3)\n",
      "Requirement already satisfied: attrs>=19.2.0 in d:\\juypitor\\lib\\site-packages (from pytest->DALL-E) (21.4.0)\n",
      "Requirement already satisfied: iniconfig in d:\\juypitor\\lib\\site-packages (from pytest->DALL-E) (1.1.1)\n",
      "Requirement already satisfied: packaging in d:\\juypitor\\lib\\site-packages (from pytest->DALL-E) (21.3)\n",
      "Requirement already satisfied: pluggy<2.0,>=0.12 in d:\\juypitor\\lib\\site-packages (from pytest->DALL-E) (1.0.0)\n",
      "Requirement already satisfied: py>=1.8.2 in d:\\juypitor\\lib\\site-packages (from pytest->DALL-E) (1.11.0)\n",
      "Requirement already satisfied: atomicwrites>=1.0 in d:\\juypitor\\lib\\site-packages (from pytest->DALL-E) (1.4.0)\n",
      "Requirement already satisfied: colorama in d:\\juypitor\\lib\\site-packages (from pytest->DALL-E) (0.4.5)\n",
      "Requirement already satisfied: certifi>=2017.4.17 in d:\\juypitor\\lib\\site-packages (from requests->DALL-E) (2022.9.14)\n",
      "Requirement already satisfied: idna<4,>=2.5 in d:\\juypitor\\lib\\site-packages (from requests->DALL-E) (3.3)\n",
      "Requirement already satisfied: charset-normalizer<3,>=2 in d:\\juypitor\\lib\\site-packages (from requests->DALL-E) (2.0.4)\n",
      "Requirement already satisfied: pyparsing!=3.0.5,>=2.0.2 in d:\\juypitor\\lib\\site-packages (from packaging->pytest->DALL-E) (3.0.9)\n",
      "Installing collected packages: pycryptodomex, mypy, torchvision, blobfile, DALL-E\n",
      "Successfully installed DALL-E-0.1 blobfile-2.0.0 mypy-0.991 pycryptodomex-3.16.0 torchvision-0.14.0\n",
      "Note: you may need to restart the kernel to use updated packages.\n"
     ]
    }
   ],
   "source": [
    "#pip install DALL-E"
   ]
  },
  {
   "cell_type": "code",
   "execution_count": null,
   "metadata": {},
   "outputs": [],
   "source": []
  },
  {
   "cell_type": "code",
   "execution_count": null,
   "metadata": {},
   "outputs": [],
   "source": []
  },
  {
   "cell_type": "code",
   "execution_count": 7,
   "metadata": {},
   "outputs": [
    {
     "name": "stdout",
     "output_type": "stream",
     "text": [
      "+----+-----+-----+---------+-----+\n",
      "| _c0|  _c1|  _c2|      _c3|  _c4|\n",
      "+----+-----+-----+---------+-----+\n",
      "|null|   TV|radio|newspaper|sales|\n",
      "|   1|230.1| 37.8|     69.2| 22.1|\n",
      "|   2| 44.5| 39.3|     45.1| 10.4|\n",
      "|   3| 17.2| 45.9|     69.3|  9.3|\n",
      "|   4|151.5| 41.3|     58.5| 18.5|\n",
      "|   5|180.8| 10.8|     58.4| 12.9|\n",
      "|   6|  8.7| 48.9|       75|  7.2|\n",
      "|   7| 57.5| 32.8|     23.5| 11.8|\n",
      "|   8|120.2| 19.6|     11.6| 13.2|\n",
      "|   9|  8.6|  2.1|        1|  4.8|\n",
      "|  10|199.8|  2.6|     21.2| 10.6|\n",
      "|  11| 66.1|  5.8|     24.2|  8.6|\n",
      "|  12|214.7|   24|        4| 17.4|\n",
      "|  13| 23.8| 35.1|     65.9|  9.2|\n",
      "|  14| 97.5|  7.6|      7.2|  9.7|\n",
      "|  15|204.1| 32.9|       46|   19|\n",
      "|  16|195.4| 47.7|     52.9| 22.4|\n",
      "|  17| 67.8| 36.6|      114| 12.5|\n",
      "|  18|281.4| 39.6|     55.8| 24.4|\n",
      "|  19| 69.2| 20.5|     18.3| 11.3|\n",
      "+----+-----+-----+---------+-----+\n",
      "only showing top 20 rows\n",
      "\n"
     ]
    },
    {
     "name": "stderr",
     "output_type": "stream",
     "text": [
      "D:\\juypitor\\lib\\site-packages\\pyspark\\sql\\dataframe.py:229: FutureWarning: Deprecated in 2.0, use createOrReplaceTempView instead.\n",
      "  warnings.warn(\"Deprecated in 2.0, use createOrReplaceTempView instead.\", FutureWarning)\n"
     ]
    }
   ],
   "source": [
    "from pyspark.sql import SparkSession\n",
    "\n",
    "spark=SparkSession.builder.master('local').appName(\"test\").getOrCreate()\n",
    "df=spark.read.csv(\"datasets/Advertising.csv\")\n",
    "df.show()\n",
    "\n",
    "df1=df.registerTempTable(\"test\")\n",
    "\n",
    "df_new=spark.sql(\"select * from test\")\n"
   ]
  },
  {
   "cell_type": "code",
   "execution_count": 8,
   "metadata": {},
   "outputs": [
    {
     "ename": "ModuleNotFoundError",
     "evalue": "No module named 'google.cloud'",
     "output_type": "error",
     "traceback": [
      "\u001b[1;31m---------------------------------------------------------------------------\u001b[0m",
      "\u001b[1;31mModuleNotFoundError\u001b[0m                       Traceback (most recent call last)",
      "\u001b[1;32m~\\AppData\\Local\\Temp\\ipykernel_1092\\3020135930.py\u001b[0m in \u001b[0;36m<module>\u001b[1;34m\u001b[0m\n\u001b[1;32m----> 1\u001b[1;33m \u001b[1;32mfrom\u001b[0m \u001b[0mgoogle\u001b[0m\u001b[1;33m.\u001b[0m\u001b[0mcloud\u001b[0m \u001b[1;32mimport\u001b[0m \u001b[0mstorage\u001b[0m\u001b[1;33m\u001b[0m\u001b[1;33m\u001b[0m\u001b[0m\n\u001b[0m\u001b[0;32m      2\u001b[0m \u001b[1;33m\u001b[0m\u001b[0m\n",
      "\u001b[1;31mModuleNotFoundError\u001b[0m: No module named 'google.cloud'"
     ]
    }
   ],
   "source": [
    "from google.cloud import storage\n",
    "\n",
    "storage_client=storage.client()\n",
    "buckets=storage_client.create_bucket(\"abc\")\n",
    "buckets.print()"
   ]
  },
  {
   "cell_type": "code",
   "execution_count": 10,
   "metadata": {},
   "outputs": [
    {
     "name": "stdout",
     "output_type": "stream",
     "text": [
      "[1, 4, 9]\n"
     ]
    }
   ],
   "source": [
    "x=[1,2,3]\n",
    "list_com=[ i**2 for i in x]\n",
    "print(list_com)"
   ]
  },
  {
   "cell_type": "code",
   "execution_count": null,
   "metadata": {},
   "outputs": [],
   "source": []
  },
  {
   "cell_type": "code",
   "execution_count": null,
   "metadata": {},
   "outputs": [],
   "source": []
  },
  {
   "cell_type": "code",
   "execution_count": null,
   "metadata": {},
   "outputs": [],
   "source": []
  },
  {
   "cell_type": "code",
   "execution_count": 62,
   "metadata": {},
   "outputs": [
    {
     "name": "stdout",
     "output_type": "stream",
     "text": [
      "['b']\n"
     ]
    }
   ],
   "source": [
    "lists=['1','a','.','b']\n",
    "\n",
    "vowels=['a','e','i','e','o','u','1','.']\n",
    "ans=[]\n",
    "for i in lists:\n",
    "    if i not in vowels:\n",
    "        ans.append(i)\n",
    "print(ans)"
   ]
  },
  {
   "cell_type": "code",
   "execution_count": 63,
   "metadata": {},
   "outputs": [
    {
     "name": "stdout",
     "output_type": "stream",
     "text": [
      "1 1 2 3 5 "
     ]
    }
   ],
   "source": [
    "num=5\n",
    "i=0\n",
    "j=1\n",
    "sum=0\n",
    "count=1\n",
    "while(count<=num):\n",
    "    count+=1\n",
    "    i=j\n",
    "    j=sum\n",
    "    sum=i+j\n",
    "    print(sum,end=\" \")  "
   ]
  },
  {
   "cell_type": "code",
   "execution_count": 5,
   "metadata": {},
   "outputs": [
    {
     "data": {
      "text/plain": [
       "3"
      ]
     },
     "execution_count": 5,
     "metadata": {},
     "output_type": "execute_result"
    }
   ],
   "source": [
    "nums = [1,1,1,2,2,3]\n",
    "\n",
    "def removeDuplicateII(nums):\n",
    "    l=2\n",
    "    for i in range(l,len(nums)):\n",
    "        if nums[l-2]==nums[i]:\n",
    "            nums[l]=nums[i]\n",
    "            l+=1\n",
    "    return l\n",
    "removeDuplicateII(nums)\n",
    "        "
   ]
  },
  {
   "cell_type": "code",
   "execution_count": 58,
   "metadata": {},
   "outputs": [
    {
     "name": "stdout",
     "output_type": "stream",
     "text": [
      "1\n"
     ]
    }
   ],
   "source": [
    "#Rotation values\n",
    "lists=[5,1,2,3,4]\n",
    "def countRotation(lists,n):\n",
    "    if(lists[0]>lists[n-1]):\n",
    "        for i in range(0,n):\n",
    "            if(lists[i]>lists[i+1]):\n",
    "                return i+1\n",
    "    return 0\n",
    "n=len(lists)\n",
    "print(countRotation(lists,n))"
   ]
  },
  {
   "cell_type": "code",
   "execution_count": 4,
   "metadata": {},
   "outputs": [
    {
     "name": "stdout",
     "output_type": "stream",
     "text": [
      "6\n",
      "Fibonacci series: 0 1 1 2 3 5 "
     ]
    }
   ],
   "source": [
    "def fibonacciSeries(Number):\n",
    "    if(Number == 0):\n",
    "        return 0\n",
    "    elif(Number == 1):\n",
    "        return 1\n",
    "    else:\n",
    "        return (fibonacciSeries(Number - 1) + fibonacciSeries(Number - 2))\n",
    "\n",
    "\n",
    "Number = int(input())\n",
    "print(\"Fibonacci series:\", end = ' ')\n",
    "for n in range(0, Number):\n",
    "    print(fibonacciSeries(n), end = ' ')"
   ]
  },
  {
   "cell_type": "code",
   "execution_count": 23,
   "metadata": {},
   "outputs": [
    {
     "name": "stdout",
     "output_type": "stream",
     "text": [
      "{'I': 1, 'am': 1, 'kiran': 1}\n"
     ]
    }
   ],
   "source": [
    "s='I am kiran'\n",
    "\n",
    "dict={}\n",
    "\n",
    "for i in s.split():\n",
    "    if i not in dict:\n",
    "        dict[i]=1\n",
    "    else:\n",
    "        dict[i]+=1\n",
    "print(dict)    "
   ]
  },
  {
   "cell_type": "code",
   "execution_count": 75,
   "metadata": {},
   "outputs": [
    {
     "name": "stdout",
     "output_type": "stream",
     "text": [
      "[1, 2, 3]\n",
      "[1, 2, 3]\n"
     ]
    }
   ],
   "source": [
    "#Print Duplicate\n",
    "\n",
    "nums=[1,1,2,1,2,3,4,5,6,3]\n",
    "\n",
    "x=[]\n",
    "y=[]\n",
    "\n",
    "for i in nums:\n",
    "    if i not in x:\n",
    "        x.append(i)\n",
    "for i in x:\n",
    "    if nums.count(i)>1:\n",
    "        y.append(i)\n",
    "print(y)\n",
    "print(list(set([x for i,x in enumerate(nums) if nums.count(x)>1])))"
   ]
  },
  {
   "cell_type": "code",
   "execution_count": 76,
   "metadata": {},
   "outputs": [
    {
     "name": "stdout",
     "output_type": "stream",
     "text": [
      "5\n"
     ]
    }
   ],
   "source": [
    "nums=[1,1,2,1,2,3,4,5,6,3]\n",
    "print(sorted(nums)[-2])"
   ]
  },
  {
   "cell_type": "code",
   "execution_count": 77,
   "metadata": {},
   "outputs": [
    {
     "data": {
      "text/plain": [
       "[1, 2, 4, 4, 5, 6, 8, 10]"
      ]
     },
     "execution_count": 77,
     "metadata": {},
     "output_type": "execute_result"
    }
   ],
   "source": [
    "def bubble_sort(nums):\n",
    "    for i in range(len(nums)-1):\n",
    "        for j in range(len(nums)-1):\n",
    "            if nums[j]>nums[j+1]:\n",
    "                nums[j],nums[j+1]=nums[j+1],nums[j]\n",
    "    return nums\n",
    "nums=[4,5,6,1,2,4,8,10]\n",
    "bubble_sort(nums)"
   ]
  },
  {
   "cell_type": "code",
   "execution_count": 83,
   "metadata": {},
   "outputs": [
    {
     "data": {
      "text/plain": [
       "'B'"
      ]
     },
     "execution_count": 83,
     "metadata": {},
     "output_type": "execute_result"
    }
   ],
   "source": [
    "#Recurssing Characters\n",
    "\n",
    "s=\"DBCABA\"\n",
    "\n",
    "def frc(s):\n",
    "    count={}\n",
    "    for i in s:\n",
    "        if i in count:\n",
    "            return i\n",
    "        else:\n",
    "            count[i]=1\n",
    "    return count\n",
    "frc(s)"
   ]
  },
  {
   "cell_type": "code",
   "execution_count": null,
   "metadata": {},
   "outputs": [],
   "source": []
  },
  {
   "cell_type": "code",
   "execution_count": 2,
   "metadata": {},
   "outputs": [
    {
     "name": "stdout",
     "output_type": "stream",
     "text": [
      "enter the number5\n",
      "\n",
      "*\n",
      "**\n",
      "***\n",
      "****\n",
      "*****\n"
     ]
    }
   ],
   "source": [
    "n=int(input(\"enter the number\"))\n",
    "for i in range(0,n+1):\n",
    "    print(i*\"*\",end=\"\\n\")"
   ]
  },
  {
   "cell_type": "code",
   "execution_count": 9,
   "metadata": {},
   "outputs": [
    {
     "name": "stdout",
     "output_type": "stream",
     "text": [
      "sdrawkcab ekil skool txet siht woh rednow I\n"
     ]
    }
   ],
   "source": [
    "def my_function(x):\n",
    "    return x[::-1]\n",
    "\n",
    "mytxt = my_function(\"I wonder how this text looks like backwards\")\n",
    "\n",
    "print(mytxt)"
   ]
  },
  {
   "cell_type": "code",
   "execution_count": 1,
   "metadata": {},
   "outputs": [
    {
     "name": "stdout",
     "output_type": "stream",
     "text": [
      "[10, 9, 8, 7, 6, 5, 4, 3, 2, 1]\n"
     ]
    }
   ],
   "source": [
    "l=[1,2,3,4,5,6,7,8,9,10]\n",
    "print(l[::-1])"
   ]
  },
  {
   "cell_type": "code",
   "execution_count": 31,
   "metadata": {},
   "outputs": [
    {
     "name": "stdout",
     "output_type": "stream",
     "text": [
      "The extracted domain name : gmail.com\n"
     ]
    }
   ],
   "source": [
    "test_str = 'kiran2adhav@gmail.com'\n",
    "#res = test_str[test_str.index('@') + 1:]\n",
    "res = test_str.split('@')[1]\n",
    "\n",
    "print(\"The extracted domain name : \" + str(res))\n"
   ]
  },
  {
   "cell_type": "code",
   "execution_count": 14,
   "metadata": {},
   "outputs": [
    {
     "name": "stdout",
     "output_type": "stream",
     "text": [
      "s\n"
     ]
    }
   ],
   "source": [
    "names = ['East', 'North', 'West', 'South']\n",
    "print(names[-2][-2])"
   ]
  },
  {
   "cell_type": "code",
   "execution_count": 15,
   "metadata": {},
   "outputs": [
    {
     "name": "stdout",
     "output_type": "stream",
     "text": [
      "North\n"
     ]
    }
   ],
   "source": [
    "names = ['East', 'North', 'West', 'South']\n",
    "print(names[1])"
   ]
  },
  {
   "cell_type": "code",
   "execution_count": 16,
   "metadata": {},
   "outputs": [
    {
     "name": "stdout",
     "output_type": "stream",
     "text": [
      "West\n"
     ]
    }
   ],
   "source": [
    "names = ['East', 'North', 'West', 'South']\n",
    "print(names[-2])"
   ]
  },
  {
   "cell_type": "code",
   "execution_count": 17,
   "metadata": {},
   "outputs": [
    {
     "name": "stdout",
     "output_type": "stream",
     "text": [
      "o\n"
     ]
    }
   ],
   "source": [
    "names = ['East', 'North', 'West', 'South']\n",
    "print(names[1][1])"
   ]
  },
  {
   "cell_type": "code",
   "execution_count": 29,
   "metadata": {},
   "outputs": [
    {
     "name": "stdout",
     "output_type": "stream",
     "text": [
      "dict_items([(1, 'Microsoft'), (2, 'Google'), (3, 'Facebook'), (4, 'Amazon'), (5, 'Flipkart')])\n"
     ]
    }
   ],
   "source": [
    "dict= {1: \"Microsoft\", 2: \"Google\", 3: \"Facebook\", 4: \"Amazon\", 5: \"Flipkart\"}  \n",
    "print(dict.items())"
   ]
  },
  {
   "cell_type": "code",
   "execution_count": 3,
   "metadata": {},
   "outputs": [
    {
     "name": "stdout",
     "output_type": "stream",
     "text": [
      "{'I': 1, 'am': 1, 'kiran': 1}\n"
     ]
    }
   ],
   "source": [
    "s='I am kiran'\n",
    "\n",
    "dict={}\n",
    "\n",
    "for i in s.split():\n",
    "    if i not in dict:\n",
    "        dict[i]=1\n",
    "    else:\n",
    "        dict[i]+=1\n",
    "print(dict)   "
   ]
  },
  {
   "cell_type": "code",
   "execution_count": 31,
   "metadata": {},
   "outputs": [],
   "source": [
    "#pip install jupyter-datatables"
   ]
  },
  {
   "cell_type": "code",
   "execution_count": 33,
   "metadata": {},
   "outputs": [
    {
     "name": "stdout",
     "output_type": "stream",
     "text": [
      "p\n",
      "y\n",
      "t\n",
      "h\n"
     ]
    }
   ],
   "source": [
    "strs='python'\n",
    "for i in strs:\n",
    "    if i=='o':\n",
    "        break\n",
    "    print(i)        "
   ]
  },
  {
   "cell_type": "code",
   "execution_count": 34,
   "metadata": {},
   "outputs": [
    {
     "name": "stdout",
     "output_type": "stream",
     "text": [
      "0\n",
      "1\n",
      "2\n",
      "3\n",
      "4\n",
      "6\n",
      "7\n",
      "8\n",
      "9\n"
     ]
    }
   ],
   "source": [
    "for i in range(0,10):\n",
    "    if i==5:\n",
    "        continue\n",
    "    print(i)    "
   ]
  },
  {
   "cell_type": "code",
   "execution_count": 38,
   "metadata": {},
   "outputs": [
    {
     "name": "stdout",
     "output_type": "stream",
     "text": [
      "1\n",
      "3\n",
      "4\n"
     ]
    }
   ],
   "source": [
    "lis=[1,2,3,4]\n",
    "\n",
    "for i in lis:\n",
    "    if i==2:\n",
    "        pass\n",
    "    else:\n",
    "        print(i)"
   ]
  },
  {
   "cell_type": "code",
   "execution_count": 39,
   "metadata": {},
   "outputs": [
    {
     "name": "stdout",
     "output_type": "stream",
     "text": [
      "0\n",
      "2\n",
      "4\n",
      "6\n",
      "8\n"
     ]
    }
   ],
   "source": [
    "def sample():\n",
    "    for i in range(10):\n",
    "        if(i%2==0):\n",
    "            yield i\n",
    "for i in sample():\n",
    "    print(i)\n",
    "            "
   ]
  },
  {
   "cell_type": "code",
   "execution_count": 4,
   "metadata": {},
   "outputs": [
    {
     "name": "stdout",
     "output_type": "stream",
     "text": [
      "[1, 2, 3, 4, 5, 6, 7, 8, 9, 10]\n"
     ]
    }
   ],
   "source": [
    "l=[1,2,[3,4,[5,6],7,8,[9,10]]]\n",
    "output=[]\n",
    "def nesting(l):\n",
    "    for i in l:\n",
    "        if type(i)==list:\n",
    "            nesting(i)\n",
    "        else:\n",
    "            output.append(i)    \n",
    "nesting(l)\n",
    "print(output)          "
   ]
  },
  {
   "cell_type": "code",
   "execution_count": null,
   "metadata": {},
   "outputs": [],
   "source": [
    "# Read partition State and City in csv file\n",
    "\n",
    "dfSinglePart=spark.read.option(\"header\",True) \\\n",
    "            .csv(\"c:/tmp/zipcodes-state/state=AL/city=SPRINGVILLE\")"
   ]
  },
  {
   "cell_type": "code",
   "execution_count": 12,
   "metadata": {},
   "outputs": [
    {
     "name": "stdout",
     "output_type": "stream",
     "text": [
      "enter number5\n",
      "120\n"
     ]
    }
   ],
   "source": [
    "n= int(input(\"enter number\"))\n",
    "fact=1\n",
    "for i in range(1,n+1):\n",
    "    fact=fact*i\n",
    "print(fact)"
   ]
  },
  {
   "cell_type": "code",
   "execution_count": 14,
   "metadata": {},
   "outputs": [
    {
     "name": "stdout",
     "output_type": "stream",
     "text": [
      "aaa aaa\n",
      "aaa\n"
     ]
    }
   ],
   "source": [
    "word = sorted(list(set(input().split())))\n",
    "print(\" \".join(word))"
   ]
  },
  {
   "cell_type": "code",
   "execution_count": 20,
   "metadata": {},
   "outputs": [
    {
     "name": "stdout",
     "output_type": "stream",
     "text": [
      "[1, 9, 25, 49, 81, 121, 169, 225, 289, 361]\n"
     ]
    }
   ],
   "source": [
    "def printList():\n",
    "    lst = [i ** 2 for i in range(1, 21)]\n",
    "    print(lst)\n",
    "printList()\n"
   ]
  },
  {
   "cell_type": "code",
   "execution_count": 22,
   "metadata": {},
   "outputs": [
    {
     "name": "stdout",
     "output_type": "stream",
     "text": [
      "12\n"
     ]
    }
   ],
   "source": [
    "r='C'\n",
    "print(int(r,16))"
   ]
  },
  {
   "cell_type": "code",
   "execution_count": 11,
   "metadata": {},
   "outputs": [
    {
     "name": "stdout",
     "output_type": "stream",
     "text": [
      "['e']\n",
      "['a', 'b', 'c', 'd']\n"
     ]
    }
   ],
   "source": [
    "list = ['a', 'b', 'c', 'd', 'e']\n",
    "print(list[-1:])\n",
    "\n",
    "print(list[:-1])"
   ]
  },
  {
   "cell_type": "code",
   "execution_count": 19,
   "metadata": {},
   "outputs": [
    {
     "name": "stdout",
     "output_type": "stream",
     "text": [
      "[2, 3]\n"
     ]
    }
   ],
   "source": [
    "mylist = [1, 2, 3]\n",
    "print(mylist[1:])"
   ]
  },
  {
   "cell_type": "code",
   "execution_count": 20,
   "metadata": {},
   "outputs": [
    {
     "name": "stdout",
     "output_type": "stream",
     "text": [
      "False\n"
     ]
    }
   ],
   "source": [
    "a = {'geeks' : 1, 'gfg' : 2}\n",
    "b = {'geeks' : 2, 'gfg' : 1}\n",
    "print (a == b)"
   ]
  },
  {
   "cell_type": "code",
   "execution_count": 23,
   "metadata": {},
   "outputs": [
    {
     "name": "stdout",
     "output_type": "stream",
     "text": [
      "48\n"
     ]
    }
   ],
   "source": [
    "y = 8\n",
    "z = lambda x : x * y\n",
    "print (z(6))"
   ]
  },
  {
   "cell_type": "code",
   "execution_count": 1,
   "metadata": {},
   "outputs": [
    {
     "name": "stdout",
     "output_type": "stream",
     "text": [
      "36\n"
     ]
    }
   ],
   "source": [
    "tup=(9)\n",
    "\n",
    "print(tup*4)"
   ]
  },
  {
   "cell_type": "code",
   "execution_count": 2,
   "metadata": {},
   "outputs": [
    {
     "name": "stdout",
     "output_type": "stream",
     "text": [
      "75\n"
     ]
    }
   ],
   "source": [
    "a =7\n",
    "b = 5\n",
    "print(str(a) + str(b))"
   ]
  },
  {
   "cell_type": "code",
   "execution_count": 1,
   "metadata": {},
   "outputs": [
    {
     "name": "stdout",
     "output_type": "stream",
     "text": [
      "101\n",
      "103\n",
      "107\n",
      "109\n",
      "113\n",
      "127\n",
      "131\n",
      "137\n",
      "139\n",
      "149\n",
      "151\n",
      "157\n",
      "163\n",
      "167\n",
      "173\n",
      "179\n",
      "181\n",
      "191\n",
      "193\n",
      "197\n",
      "199\n"
     ]
    }
   ],
   "source": [
    "#prime number\n",
    "for i in range(100,200):\n",
    "    if all(i%num!=0 for num in range(2,i)):\n",
    "        print(i)"
   ]
  },
  {
   "cell_type": "code",
   "execution_count": 6,
   "metadata": {},
   "outputs": [
    {
     "name": "stdout",
     "output_type": "stream",
     "text": [
      "enter string:madam\n"
     ]
    },
    {
     "data": {
      "text/plain": [
       "True"
      ]
     },
     "execution_count": 6,
     "metadata": {},
     "output_type": "execute_result"
    }
   ],
   "source": [
    "def isPalindrome(s):\n",
    "    rev=''.join(reversed(s))\n",
    "    if (s == rev):\n",
    "        return True\n",
    "    return False\n",
    "s=input(\"enter string:\")\n",
    "isPalindrome(s)"
   ]
  },
  {
   "cell_type": "code",
   "execution_count": 14,
   "metadata": {},
   "outputs": [
    {
     "name": "stdout",
     "output_type": "stream",
     "text": [
      "{1, 3, 4}\n"
     ]
    }
   ],
   "source": [
    "l=[1,1,2,3,6,4,3,5,4]\n",
    "print(set([x for x in l if l.count(x)>1]))"
   ]
  },
  {
   "cell_type": "code",
   "execution_count": 5,
   "metadata": {},
   "outputs": [
    {
     "data": {
      "text/plain": [
       "[1, 2, 5, 6, 7, 9]"
      ]
     },
     "execution_count": 5,
     "metadata": {},
     "output_type": "execute_result"
    }
   ],
   "source": [
    "nums=[5,6,1,7,2,9]\n",
    "\n",
    "def bub(nums):\n",
    "    for i in range(len(nums)-1):\n",
    "        for j in range(len(nums)-1):\n",
    "            if nums[j]>nums[j+1]:\n",
    "                nums[j],nums[j+1]=nums[j+1],nums[j]\n",
    "    return nums\n",
    "bub(nums)"
   ]
  },
  {
   "cell_type": "code",
   "execution_count": 7,
   "metadata": {},
   "outputs": [
    {
     "name": "stdout",
     "output_type": "stream",
     "text": [
      "enter stringmadam\n"
     ]
    },
    {
     "data": {
      "text/plain": [
       "True"
      ]
     },
     "execution_count": 7,
     "metadata": {},
     "output_type": "execute_result"
    }
   ],
   "source": [
    "def ispalindrome(s):\n",
    "    rev=''.join(reversed(s))\n",
    "    if (s == rev):\n",
    "        return True\n",
    "    return False\n",
    "s=input(\"enter string\")\n",
    "ispalindrome(s)\n",
    "        "
   ]
  },
  {
   "cell_type": "code",
   "execution_count": 18,
   "metadata": {},
   "outputs": [
    {
     "data": {
      "text/plain": [
       "'B'"
      ]
     },
     "execution_count": 18,
     "metadata": {},
     "output_type": "execute_result"
    }
   ],
   "source": [
    "s=\"ABDBAABA\"\n",
    "\n",
    "def frc(s):\n",
    "    count={}\n",
    "    for i in s:\n",
    "        if i in count:\n",
    "            return i\n",
    "        else:\n",
    "            count[i]=1\n",
    "    return count\n",
    "frc(s)"
   ]
  },
  {
   "cell_type": "code",
   "execution_count": 1,
   "metadata": {},
   "outputs": [
    {
     "name": "stdout",
     "output_type": "stream",
     "text": [
      "6\n",
      "0 1 1 2 3 5 "
     ]
    }
   ],
   "source": [
    "def fibbo(nums):\n",
    "    if(nums==0):\n",
    "        return 0\n",
    "    elif(nums==1):\n",
    "        return 1\n",
    "    else:\n",
    "        return(fibbo(nums-1)+fibbo(nums-2))\n",
    "no=int(input())\n",
    "for i in range(0,no):\n",
    "    print(fibbo(i),end=\" \")"
   ]
  },
  {
   "cell_type": "code",
   "execution_count": 4,
   "metadata": {},
   "outputs": [
    {
     "name": "stdout",
     "output_type": "stream",
     "text": [
      "[1, 2, 3, 4, 5, 6, 7, 8, 9, 10]\n"
     ]
    }
   ],
   "source": [
    "l=[1,2,[3,4,[5,6],7,8,[9,10]]]\n",
    "op=[]\n",
    "\n",
    "def nesting(l):\n",
    "    for i in l:\n",
    "        if type(i)==list:\n",
    "            nesting(i)\n",
    "        else:\n",
    "            op.append(i)\n",
    "nesting(l)\n",
    "print(op)"
   ]
  },
  {
   "cell_type": "code",
   "execution_count": 5,
   "metadata": {},
   "outputs": [
    {
     "name": "stdout",
     "output_type": "stream",
     "text": [
      "{1, 4, 5}\n"
     ]
    }
   ],
   "source": [
    "l=[1,2,3,4,4,5,4,5,6,1]\n",
    "print(set([x for x in l if l.count(x)>1]))"
   ]
  },
  {
   "cell_type": "code",
   "execution_count": 6,
   "metadata": {},
   "outputs": [
    {
     "name": "stdout",
     "output_type": "stream",
     "text": [
      "[1, 3, 4]\n"
     ]
    }
   ],
   "source": [
    "nums=[1,1,1,2,3,4,5,6,4,3]\n",
    "\n",
    "x=[]\n",
    "y=[]\n",
    "\n",
    "for i in nums:\n",
    "    if i not in x:\n",
    "        x.append(i)\n",
    "        \n",
    "for i in x:\n",
    "    if nums.count(i)>1:\n",
    "        y.append(i)\n",
    "print(y)"
   ]
  },
  {
   "cell_type": "code",
   "execution_count": 7,
   "metadata": {},
   "outputs": [
    {
     "name": "stdout",
     "output_type": "stream",
     "text": [
      "{'I': 1, 'am': 1, 'kiran': 1}\n"
     ]
    }
   ],
   "source": [
    "s='I am kiran'\n",
    "\n",
    "dict={}\n",
    "\n",
    "for i in s.split():\n",
    "    if i not in dict:\n",
    "        dict[i]=1\n",
    "    else:\n",
    "        dict[i]+=1\n",
    "print(dict) "
   ]
  },
  {
   "cell_type": "code",
   "execution_count": 2,
   "metadata": {},
   "outputs": [
    {
     "name": "stdout",
     "output_type": "stream",
     "text": [
      "{'I': 1, ' ': 2, 'a': 2, 'm': 1, 'k': 1, 'i': 1, 'r': 1, 'n': 1}\n"
     ]
    }
   ],
   "source": [
    "s='I am kiran'\n",
    "\n",
    "dict={}\n",
    "\n",
    "for i in s:\n",
    "    if i not in dict:\n",
    "        dict[i]=1\n",
    "    else:\n",
    "        dict[i]+=1\n",
    "print(dict) "
   ]
  },
  {
   "cell_type": "code",
   "execution_count": 4,
   "metadata": {},
   "outputs": [
    {
     "name": "stdout",
     "output_type": "stream",
     "text": [
      "enter the number5\n",
      "120\n"
     ]
    }
   ],
   "source": [
    "n=int(input(\"enter the number\"))\n",
    "fact=1\n",
    "\n",
    "for i in range(1,n+1):\n",
    "    fact=fact*i\n",
    "print(fact)"
   ]
  },
  {
   "cell_type": "code",
   "execution_count": 6,
   "metadata": {},
   "outputs": [
    {
     "data": {
      "text/plain": [
       "3"
      ]
     },
     "execution_count": 6,
     "metadata": {},
     "output_type": "execute_result"
    }
   ],
   "source": [
    "nums = [1,1,1,2,2,3]\n",
    "\n",
    "def removeDuplicateII(nums):\n",
    "    l=2\n",
    "    for i in range(l,len(nums)):\n",
    "        if nums[l-2]==nums[i]:\n",
    "            nums[l]=nums[i]\n",
    "            l+=1\n",
    "    return l\n",
    "removeDuplicateII(nums)"
   ]
  },
  {
   "cell_type": "code",
   "execution_count": 11,
   "metadata": {},
   "outputs": [
    {
     "name": "stdout",
     "output_type": "stream",
     "text": [
      "2\n",
      "4\n",
      "6\n",
      "8\n",
      "10\n",
      "12\n",
      "14\n",
      "16\n",
      "18\n",
      "20\n",
      "22\n",
      "24\n",
      "26\n",
      "28\n",
      "30\n",
      "32\n",
      "34\n",
      "36\n",
      "38\n",
      "40\n",
      "42\n",
      "44\n",
      "46\n",
      "48\n",
      "50\n",
      "52\n",
      "54\n",
      "56\n",
      "58\n",
      "60\n",
      "62\n",
      "64\n",
      "66\n",
      "68\n",
      "70\n",
      "72\n",
      "74\n",
      "76\n",
      "78\n",
      "80\n",
      "82\n",
      "84\n",
      "86\n",
      "88\n",
      "90\n",
      "92\n",
      "94\n",
      "96\n",
      "98\n"
     ]
    }
   ],
   "source": [
    "for i in range(1,100):\n",
    "    if (i%2==0):\n",
    "        print(i)"
   ]
  },
  {
   "cell_type": "code",
   "execution_count": null,
   "metadata": {},
   "outputs": [],
   "source": []
  },
  {
   "cell_type": "code",
   "execution_count": null,
   "metadata": {},
   "outputs": [],
   "source": []
  },
  {
   "cell_type": "code",
   "execution_count": null,
   "metadata": {},
   "outputs": [],
   "source": []
  },
  {
   "cell_type": "code",
   "execution_count": null,
   "metadata": {},
   "outputs": [],
   "source": []
  },
  {
   "cell_type": "code",
   "execution_count": null,
   "metadata": {},
   "outputs": [],
   "source": []
  },
  {
   "cell_type": "code",
   "execution_count": null,
   "metadata": {},
   "outputs": [],
   "source": []
  },
  {
   "cell_type": "code",
   "execution_count": null,
   "metadata": {},
   "outputs": [],
   "source": []
  }
 ],
 "metadata": {
  "kernelspec": {
   "display_name": "Python 3 (ipykernel)",
   "language": "python",
   "name": "python3"
  },
  "language_info": {
   "codemirror_mode": {
    "name": "ipython",
    "version": 3
   },
   "file_extension": ".py",
   "mimetype": "text/x-python",
   "name": "python",
   "nbconvert_exporter": "python",
   "pygments_lexer": "ipython3",
   "version": "3.9.13"
  }
 },
 "nbformat": 4,
 "nbformat_minor": 2
}
