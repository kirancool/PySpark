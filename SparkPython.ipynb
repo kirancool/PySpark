{
 "cells": [
  {
   "cell_type": "code",
   "execution_count": 1,
   "id": "69c49d4f",
   "metadata": {},
   "outputs": [],
   "source": [
    "from pyspark.sql import SparkSession\n",
    "from pyspark.sql.types import *\n",
    "from pyspark.sql.functions import *\n",
    "from pyspark.sql.window import *"
   ]
  },
  {
   "cell_type": "code",
   "execution_count": 2,
   "id": "b63e36b4",
   "metadata": {},
   "outputs": [],
   "source": [
    "spark=SparkSession.builder.master(\"local[*]\").appName('test').getOrCreate()"
   ]
  },
  {
   "cell_type": "code",
   "execution_count": 3,
   "id": "0f6a85e5",
   "metadata": {},
   "outputs": [],
   "source": [
    "# df=spark.read.csv(\"datasets/covid.csv\", header=True)\n",
    "# df.printSchema()"
   ]
  },
  {
   "cell_type": "code",
   "execution_count": 4,
   "id": "008f7f89",
   "metadata": {},
   "outputs": [],
   "source": [
    "# sch=StructType([StructField('Sno',StringType(),True),\n",
    "#                  StructField('Date',StringType(),True),\n",
    "#                 StructField('Time',StringType(),True),\n",
    "#                 StructField('State/UnionTerritory',StringType(),True),\n",
    "#                 StructField('ConfirmedIndianNational',StringType(),True),\n",
    "#                 StructField('ConfirmedForeignNational',StringType(),True),\n",
    "#                 StructField('Cured',StringType(),True),\n",
    "#                StructField('Deaths',StringType(),True),\n",
    "#                StructField('Confirmed',StringType(),True)])\n",
    "# df=spark.read.schema(sch).csv(\"datasets/covid.csv\",header=True)"
   ]
  },
  {
   "cell_type": "code",
   "execution_count": 5,
   "id": "2a0ddf51",
   "metadata": {},
   "outputs": [],
   "source": [
    "# df_date_time=df.withColumn(\"Date\",to_date(\"Date\",\"yy/mm/dd\")) \\\n",
    "#      .withColumn(\"Time\",to_timestamp(\"Time\",'HH:mm:ss'))"
   ]
  },
  {
   "cell_type": "code",
   "execution_count": 6,
   "id": "263b97c6",
   "metadata": {},
   "outputs": [],
   "source": [
    "# newdf = df_date_time.select(year(df_date_time.Date).alias('year'),month(df_date_time.Date).alias('month'),dayofmonth(df_date_time.Date).alias('day'))\n",
    "# newdf.show()"
   ]
  },
  {
   "cell_type": "code",
   "execution_count": 7,
   "id": "9f73739d",
   "metadata": {},
   "outputs": [],
   "source": [
    "# df=spark.read.option(\"multiline\",\"true\").json('datasets/data.json')\n"
   ]
  },
  {
   "cell_type": "code",
   "execution_count": 8,
   "id": "7562d206",
   "metadata": {},
   "outputs": [],
   "source": [
    "# updatedDF = df.withColumn(\"dataset\",explode(col(\"dataset\"))).select(\"@context\",\"@id\",\"conformsTo\",\"dataset.@type\",\"dataset.accesslevel\",\"dataset.accrualPeriodicity\",\"dataset.bureauCode\",\"dataset.contactPoint.fn\",\"dataset.distribution.@type\",\"describedBy\")\n",
    "# updatedDF.show()"
   ]
  },
  {
   "cell_type": "code",
   "execution_count": 9,
   "id": "9219bf08",
   "metadata": {},
   "outputs": [
    {
     "name": "stdout",
     "output_type": "stream",
     "text": [
      "+------+--------+---------+----------+----------+-------+------+------+---------+\n",
      "|emp_id|emp_name| job_name|manager_id| hire_date| salary|dep_id|dep_id| dep_name|\n",
      "+------+--------+---------+----------+----------+-------+------+------+---------+\n",
      "| 68319| KAYLING|PRESIDENT|          |1991-11-18|6000.00|  1001|  1001|Developer|\n",
      "| 68319| KAYLING|PRESIDENT|          |1991-11-18|6000.00|  1001|  1001|    CIVIL|\n",
      "| 68319| KAYLING|PRESIDENT|          |1991-11-18|6000.00|  1001|  1001|    Admin|\n",
      "| 68319| KAYLING|PRESIDENT|          |1991-11-18|6000.00|  1001|  1001|       IT|\n",
      "| 66928|   BLAZE|  MANAGER|     68319|1991-05-01|2750.00|  3001|  3001|Developer|\n",
      "| 66928|   BLAZE|  MANAGER|     68319|1991-05-01|2750.00|  3001|  3001|    Admin|\n",
      "| 66928|   BLAZE|  MANAGER|     68319|1991-05-01|2750.00|  3001|  3001|       IT|\n",
      "| 66928|   BLAZE|  MANAGER|     68319|1991-05-01|2750.00|  3001|  3001|       IT|\n",
      "| 66928|   BLAZE|  MANAGER|     68319|1991-05-01|2750.00|  3001|  3001|Developer|\n",
      "| 67832|   CLARE|  MANAGER|     68319|1991-06-09|2550.00|  1001|  1001|Developer|\n",
      "| 67832|   CLARE|  MANAGER|     68319|1991-06-09|2550.00|  1001|  1001|    CIVIL|\n",
      "| 67832|   CLARE|  MANAGER|     68319|1991-06-09|2550.00|  1001|  1001|    Admin|\n",
      "| 67832|   CLARE|  MANAGER|     68319|1991-06-09|2550.00|  1001|  1001|       IT|\n",
      "| 65646|   JONAS|  MANAGER|     68319|1991-04-02|2957.00|  2001|  2001|  Network|\n",
      "| 65646|   JONAS|  MANAGER|     68319|1991-04-02|2957.00|  2001|  2001|Developer|\n",
      "| 65646|   JONAS|  MANAGER|     68319|1991-04-02|2957.00|  2001|  2001|  Testing|\n",
      "| 65646|   JONAS|  MANAGER|     68319|1991-04-02|2957.00|  2001|  2001| DataBase|\n",
      "| 65646|   JONAS|  MANAGER|     68319|1991-04-02|2957.00|  2001|  2001|  Network|\n",
      "| 67858| SCARLET|  ANALYST|     65646|1997-04-19|3100.00|  2001|  2001|  Network|\n",
      "| 67858| SCARLET|  ANALYST|     65646|1997-04-19|3100.00|  2001|  2001|Developer|\n",
      "+------+--------+---------+----------+----------+-------+------+------+---------+\n",
      "only showing top 20 rows\n",
      "\n"
     ]
    }
   ],
   "source": [
    "df_emp=spark.read.options(header='True').csv('datasets/employee/emp.csv')\n",
    "df_dep=spark.read.options(header='True').csv('datasets/employee/dept.csv')\n",
    "\n",
    "df_emp_dep=df_emp.join(df_dep,df_emp.dep_id==df_dep.dep_id,\"inner\")\n",
    "df_emp_dep.show()"
   ]
  },
  {
   "cell_type": "code",
   "execution_count": 10,
   "id": "c6e23848",
   "metadata": {},
   "outputs": [
    {
     "name": "stdout",
     "output_type": "stream",
     "text": [
      "+---------+------------------+\n",
      "| job_name|            Salary|\n",
      "+---------+------------------+\n",
      "|  ANALYST|            3100.0|\n",
      "| SALESMAN|            1500.0|\n",
      "|    CLERK|1123.6842105263158|\n",
      "|  MANAGER| 2766.785714285714|\n",
      "|PRESIDENT|            6000.0|\n",
      "+---------+------------------+\n",
      "\n"
     ]
    }
   ],
   "source": [
    "df_sel=df_emp_dep.select('job_name','salary').groupby('job_name').agg(avg('salary').alias('Salary'))\n",
    "df_sel.show()"
   ]
  },
  {
   "cell_type": "code",
   "execution_count": 22,
   "id": "54d208df",
   "metadata": {},
   "outputs": [
    {
     "name": "stdout",
     "output_type": "stream",
     "text": [
      "+--------+---------+-------+\n",
      "|emp_name| job_name| salary|\n",
      "+--------+---------+-------+\n",
      "| KAYLING|PRESIDENT|6000.00|\n",
      "| KAYLING|PRESIDENT|6000.00|\n",
      "| KAYLING|PRESIDENT|6000.00|\n",
      "| KAYLING|PRESIDENT|6000.00|\n",
      "|   BLAZE|  MANAGER|2750.00|\n",
      "|   BLAZE|  MANAGER|2750.00|\n",
      "|   BLAZE|  MANAGER|2750.00|\n",
      "|   BLAZE|  MANAGER|2750.00|\n",
      "|   BLAZE|  MANAGER|2750.00|\n",
      "|   CLARE|  MANAGER|2550.00|\n",
      "|   CLARE|  MANAGER|2550.00|\n",
      "|   CLARE|  MANAGER|2550.00|\n",
      "|   CLARE|  MANAGER|2550.00|\n",
      "|   JONAS|  MANAGER|2957.00|\n",
      "|   JONAS|  MANAGER|2957.00|\n",
      "|   JONAS|  MANAGER|2957.00|\n",
      "|   JONAS|  MANAGER|2957.00|\n",
      "|   JONAS|  MANAGER|2957.00|\n",
      "| SCARLET|  ANALYST|3100.00|\n",
      "| SCARLET|  ANALYST|3100.00|\n",
      "+--------+---------+-------+\n",
      "only showing top 20 rows\n",
      "\n"
     ]
    }
   ],
   "source": [
    "df=df_emp_dep.select('emp_name','job_name','salary')\n",
    "df.show()"
   ]
  },
  {
   "cell_type": "code",
   "execution_count": 53,
   "id": "335625ec",
   "metadata": {},
   "outputs": [],
   "source": [
    "win=Window.partitionBy(\"job_name\").orderBy(col(\"salary\").desc())"
   ]
  },
  {
   "cell_type": "code",
   "execution_count": 59,
   "id": "639b9ec2",
   "metadata": {},
   "outputs": [
    {
     "name": "stdout",
     "output_type": "stream",
     "text": [
      "+------+--------+--------+----------+----------+-------+------+-------+\n",
      "|emp_id|emp_name|job_name|manager_id| hire_date| salary|dep_id|row_num|\n",
      "+------+--------+--------+----------+----------+-------+------+-------+\n",
      "| 69062|   FRANK| ANALYST|     65646|1991-12-03|3100.00|  2001|      2|\n",
      "| 69324|  MARKER|   CLERK|     67832|1992-01-23|1400.00|  1001|      2|\n",
      "| 66928|   BLAZE| MANAGER|     68319|1991-05-01|2750.00|  3001|      2|\n",
      "| 68454|  TUCKER|SALESMAN|     66928|1991-09-08|1600.00|  3001|      2|\n",
      "+------+--------+--------+----------+----------+-------+------+-------+\n",
      "\n"
     ]
    }
   ],
   "source": [
    "row_col=df_emp.withColumn(\"row_num\",row_number().over(win)).filter(col(\"row_num\")==2)\n",
    "row_col.drop(\"row_num\")\n",
    "row_col.show()"
   ]
  },
  {
   "cell_type": "code",
   "execution_count": 61,
   "id": "54dc068e",
   "metadata": {},
   "outputs": [
    {
     "name": "stdout",
     "output_type": "stream",
     "text": [
      "+------+--------+--------+----------+----------+-------+------+--------+\n",
      "|emp_id|emp_name|job_name|manager_id| hire_date| salary|dep_id|rank_num|\n",
      "+------+--------+--------+----------+----------+-------+------+--------+\n",
      "| 68736|  ADNRES|   CLERK|     67858|1997-05-23|1200.00|  2001|       3|\n",
      "| 67832|   CLARE| MANAGER|     68319|1991-06-09|2550.00|  1001|       3|\n",
      "| 65271|    WADE|SALESMAN|     66928|1991-02-22|1350.00|  3001|       3|\n",
      "| 66564|  MADDEN|SALESMAN|     66928|1991-09-28|1350.00|  3001|       3|\n",
      "+------+--------+--------+----------+----------+-------+------+--------+\n",
      "\n"
     ]
    }
   ],
   "source": [
    "rank_col=df_emp.withColumn(\"rank_num\",rank().over(win)).filter(col(\"rank_num\")==3)\n",
    "rank_col.drop(\"rank_num\")\n",
    "rank_col.show()"
   ]
  },
  {
   "cell_type": "code",
   "execution_count": 63,
   "id": "35309956",
   "metadata": {},
   "outputs": [
    {
     "name": "stdout",
     "output_type": "stream",
     "text": [
      "+------+--------+--------+----------+----------+-------+------+-------+\n",
      "|emp_id|emp_name|job_name|manager_id| hire_date| salary|dep_id|den_num|\n",
      "+------+--------+--------+----------+----------+-------+------+-------+\n",
      "| 69324|  MARKER|   CLERK|     67832|1992-01-23|1400.00|  1001|      2|\n",
      "| 66928|   BLAZE| MANAGER|     68319|1991-05-01|2750.00|  3001|      2|\n",
      "| 68454|  TUCKER|SALESMAN|     66928|1991-09-08|1600.00|  3001|      2|\n",
      "+------+--------+--------+----------+----------+-------+------+-------+\n",
      "\n"
     ]
    }
   ],
   "source": [
    "denrank_col=df_emp.withColumn(\"den_num\",dense_rank().over(win)).filter(col(\"den_num\")==2)\n",
    "denrank_col.drop(\"row_num\")\n",
    "denrank_col.show()"
   ]
  },
  {
   "cell_type": "code",
   "execution_count": 70,
   "id": "0295cbfa",
   "metadata": {},
   "outputs": [
    {
     "name": "stdout",
     "output_type": "stream",
     "text": [
      "+------+--------+---------+----------+----------+-------+------+--------+\n",
      "|emp_id|emp_name| job_name|manager_id| hire_date| salary|dep_id|lead_num|\n",
      "+------+--------+---------+----------+----------+-------+------+--------+\n",
      "| 67858| SCARLET|  ANALYST|     65646|1997-04-19|3100.00|  2001| 3100.00|\n",
      "| 69062|   FRANK|  ANALYST|     65646|1991-12-03|3100.00|  2001|       0|\n",
      "| 63679|SANDRINE|    CLERK|     69062|1990-12-18| 900.00|  2001| 1400.00|\n",
      "| 69324|  MARKER|    CLERK|     67832|1992-01-23|1400.00|  1001| 1200.00|\n",
      "| 68736|  ADNRES|    CLERK|     67858|1997-05-23|1200.00|  2001| 1050.00|\n",
      "| 69000|  JULIUS|    CLERK|     66928|1991-12-03|1050.00|  3001|       0|\n",
      "| 65646|   JONAS|  MANAGER|     68319|1991-04-02|2957.00|  2001| 2750.00|\n",
      "| 66928|   BLAZE|  MANAGER|     68319|1991-05-01|2750.00|  3001| 2550.00|\n",
      "| 67832|   CLARE|  MANAGER|     68319|1991-06-09|2550.00|  1001|       0|\n",
      "| 68319| KAYLING|PRESIDENT|          |1991-11-18|6000.00|  1001|       0|\n",
      "| 64989|  ADELYN| SALESMAN|     66928|1991-02-20|1700.00|  3001| 1600.00|\n",
      "| 68454|  TUCKER| SALESMAN|     66928|1991-09-08|1600.00|  3001| 1350.00|\n",
      "| 65271|    WADE| SALESMAN|     66928|1991-02-22|1350.00|  3001| 1350.00|\n",
      "| 66564|  MADDEN| SALESMAN|     66928|1991-09-28|1350.00|  3001|       0|\n",
      "+------+--------+---------+----------+----------+-------+------+--------+\n",
      "\n"
     ]
    }
   ],
   "source": [
    "lead_col=df_emp.withColumn(\"lead_num\",lead(\"salary\",1,0).over(win))\n",
    "lead_col.show()"
   ]
  },
  {
   "cell_type": "code",
   "execution_count": 71,
   "id": "e6d7e652",
   "metadata": {},
   "outputs": [
    {
     "name": "stdout",
     "output_type": "stream",
     "text": [
      "+------+--------+---------+----------+----------+-------+------+-------+\n",
      "|emp_id|emp_name| job_name|manager_id| hire_date| salary|dep_id|lag_num|\n",
      "+------+--------+---------+----------+----------+-------+------+-------+\n",
      "| 67858| SCARLET|  ANALYST|     65646|1997-04-19|3100.00|  2001|      0|\n",
      "| 69062|   FRANK|  ANALYST|     65646|1991-12-03|3100.00|  2001|3100.00|\n",
      "| 63679|SANDRINE|    CLERK|     69062|1990-12-18| 900.00|  2001|      0|\n",
      "| 69324|  MARKER|    CLERK|     67832|1992-01-23|1400.00|  1001| 900.00|\n",
      "| 68736|  ADNRES|    CLERK|     67858|1997-05-23|1200.00|  2001|1400.00|\n",
      "| 69000|  JULIUS|    CLERK|     66928|1991-12-03|1050.00|  3001|1200.00|\n",
      "| 65646|   JONAS|  MANAGER|     68319|1991-04-02|2957.00|  2001|      0|\n",
      "| 66928|   BLAZE|  MANAGER|     68319|1991-05-01|2750.00|  3001|2957.00|\n",
      "| 67832|   CLARE|  MANAGER|     68319|1991-06-09|2550.00|  1001|2750.00|\n",
      "| 68319| KAYLING|PRESIDENT|          |1991-11-18|6000.00|  1001|      0|\n",
      "| 64989|  ADELYN| SALESMAN|     66928|1991-02-20|1700.00|  3001|      0|\n",
      "| 68454|  TUCKER| SALESMAN|     66928|1991-09-08|1600.00|  3001|1700.00|\n",
      "| 65271|    WADE| SALESMAN|     66928|1991-02-22|1350.00|  3001|1600.00|\n",
      "| 66564|  MADDEN| SALESMAN|     66928|1991-09-28|1350.00|  3001|1350.00|\n",
      "+------+--------+---------+----------+----------+-------+------+-------+\n",
      "\n"
     ]
    }
   ],
   "source": [
    "lag_col=df_emp.withColumn(\"lag_num\",lag(\"salary\",1,0).over(win))\n",
    "lag_col.show()"
   ]
  },
  {
   "cell_type": "code",
   "execution_count": null,
   "id": "9214ad8d",
   "metadata": {},
   "outputs": [],
   "source": []
  },
  {
   "cell_type": "code",
   "execution_count": null,
   "id": "d65248ff",
   "metadata": {},
   "outputs": [],
   "source": []
  },
  {
   "cell_type": "code",
   "execution_count": null,
   "id": "e485ad6e",
   "metadata": {},
   "outputs": [],
   "source": []
  },
  {
   "cell_type": "code",
   "execution_count": null,
   "id": "a5c57baf",
   "metadata": {},
   "outputs": [],
   "source": []
  },
  {
   "cell_type": "code",
   "execution_count": null,
   "id": "c887b777",
   "metadata": {},
   "outputs": [],
   "source": []
  },
  {
   "cell_type": "code",
   "execution_count": null,
   "id": "7d8e7c9a",
   "metadata": {},
   "outputs": [],
   "source": []
  },
  {
   "cell_type": "code",
   "execution_count": null,
   "id": "870323d0",
   "metadata": {},
   "outputs": [],
   "source": []
  },
  {
   "cell_type": "code",
   "execution_count": null,
   "id": "ae0b55c8",
   "metadata": {},
   "outputs": [],
   "source": []
  },
  {
   "cell_type": "code",
   "execution_count": 63,
   "id": "dcdd5dbf",
   "metadata": {},
   "outputs": [],
   "source": [
    "dataStruct = [((\"James\",\"\",\"Smith\"),\"36636\",\"M\",3000), \\\n",
    "      ((\"Michael\",\"Rose\",\"\"),\"40288\",\"M\",4000), \\\n",
    "      ((\"Robert\",\"\",\"Williams\"),\"42114\",\"M\",4000), \\\n",
    "      ((\"Maria\",\"Anne\",\"Jones\"),\"39192\",\"F\",4000), \\\n",
    "      ((\"Jen\",\"Mary\",\"Brown\"),\"\",\"F\",-1)]"
   ]
  },
  {
   "cell_type": "code",
   "execution_count": null,
   "id": "d5d805bc",
   "metadata": {},
   "outputs": [],
   "source": [
    "schemaStruct=StructType([StructField('name',StructType([StructField('FirstName',StringType(),True),\n",
    "                                                      StructField('MiddleName',StringType(),True),\n",
    "                                                      StructField('LastName',StringType(),True)\n",
    "                                                       ])),\n",
    "                                                        StructField('id',StringType(),True),\n",
    "                                                        StructField('gender',StringType(),True),\n",
    "                                                        StructField('salary',IntegerType(),True)])"
   ]
  },
  {
   "cell_type": "code",
   "execution_count": null,
   "id": "5915f4ee",
   "metadata": {},
   "outputs": [],
   "source": [
    "df1=spark.createDataFrame(data=dataStruct,schema=schemaStruct)\n",
    "df1.show(truncate=False)"
   ]
  },
  {
   "cell_type": "code",
   "execution_count": null,
   "id": "3691a420",
   "metadata": {},
   "outputs": [],
   "source": [
    "df3=df2.withColumn(\"new_gender\",when(df2.Gender==\"M\",\"Male\")\n",
    "                                .when(df2.Gender==\"F\",\"Female\")\n",
    "                                .when(df2.Gender.isNull(),\"\")\n",
    "                                 .otherwise(df2.Gender))\n",
    "df3.show()"
   ]
  },
  {
   "cell_type": "code",
   "execution_count": 78,
   "id": "b50582dd",
   "metadata": {},
   "outputs": [
    {
     "name": "stdout",
     "output_type": "stream",
     "text": [
      "+------+--------+---------+----------+----------+-------+------+----------+\n",
      "|emp_id|emp_name|job_name |manager_id|hire_date |salary |dep_id|row_number|\n",
      "+------+--------+---------+----------+----------+-------+------+----------+\n",
      "|67858 |SCARLET |ANALYST  |65646     |1997-04-19|3100.00|2001  |1         |\n",
      "|69062 |FRANK   |ANALYST  |65646     |1991-12-03|3100.00|2001  |2         |\n",
      "|63679 |SANDRINE|CLERK    |69062     |1990-12-18|900.00 |2001  |1         |\n",
      "|69324 |MARKER  |CLERK    |67832     |1992-01-23|1400.00|1001  |2         |\n",
      "|68736 |ADNRES  |CLERK    |67858     |1997-05-23|1200.00|2001  |3         |\n",
      "|69000 |JULIUS  |CLERK    |66928     |1991-12-03|1050.00|3001  |4         |\n",
      "|65646 |JONAS   |MANAGER  |68319     |1991-04-02|2957.00|2001  |1         |\n",
      "|66928 |BLAZE   |MANAGER  |68319     |1991-05-01|2750.00|3001  |2         |\n",
      "|67832 |CLARE   |MANAGER  |68319     |1991-06-09|2550.00|1001  |3         |\n",
      "|68319 |KAYLING |PRESIDENT|          |1991-11-18|6000.00|1001  |1         |\n",
      "|64989 |ADELYN  |SALESMAN |66928     |1991-02-20|1700.00|3001  |1         |\n",
      "|68454 |TUCKER  |SALESMAN |66928     |1991-09-08|1600.00|3001  |2         |\n",
      "|65271 |WADE    |SALESMAN |66928     |1991-02-22|1350.00|3001  |3         |\n",
      "|66564 |MADDEN  |SALESMAN |66928     |1991-09-28|1350.00|3001  |4         |\n",
      "+------+--------+---------+----------+----------+-------+------+----------+\n",
      "\n"
     ]
    }
   ],
   "source": [
    "windowspec=Window.partitionBy('job_name').orderBy(col('salary').desc())\n",
    "\n",
    "df_emp_row=df_emp.withColumn('row_number',row_number().over(windowspec))\n",
    "df_emp_row.show(truncate=False)"
   ]
  },
  {
   "cell_type": "code",
   "execution_count": 86,
   "id": "b1d0507a",
   "metadata": {},
   "outputs": [
    {
     "name": "stdout",
     "output_type": "stream",
     "text": [
      "+------+--------+---------+----------+----------+-------+------+\n",
      "|emp_id|emp_name| job_name|manager_id| hire_date| salary|dep_id|\n",
      "+------+--------+---------+----------+----------+-------+------+\n",
      "| 67858| SCARLET|  ANALYST|     65646|1997-04-19|3100.00|  2001|\n",
      "| 63679|SANDRINE|    CLERK|     69062|1990-12-18| 900.00|  2001|\n",
      "| 65646|   JONAS|  MANAGER|     68319|1991-04-02|2957.00|  2001|\n",
      "| 68319| KAYLING|PRESIDENT|          |1991-11-18|6000.00|  1001|\n",
      "| 64989|  ADELYN| SALESMAN|     66928|1991-02-20|1700.00|  3001|\n",
      "+------+--------+---------+----------+----------+-------+------+\n",
      "\n"
     ]
    }
   ],
   "source": [
    "dd=df_emp_row.filter(\"row_number==1\").drop(\"row_number\")\n",
    "dd.show()"
   ]
  },
  {
   "cell_type": "code",
   "execution_count": 66,
   "id": "65d6f5f3",
   "metadata": {},
   "outputs": [
    {
     "name": "stdout",
     "output_type": "stream",
     "text": [
      "+------+--------+---------+----------+----------+-------+------+----+\n",
      "|emp_id|emp_name|job_name |manager_id|hire_date |salary |dep_id|rank|\n",
      "+------+--------+---------+----------+----------+-------+------+----+\n",
      "|67858 |SCARLET |ANALYST  |65646     |1997-04-19|3100.00|2001  |1   |\n",
      "|69062 |FRANK   |ANALYST  |65646     |1991-12-03|3100.00|2001  |1   |\n",
      "|63679 |SANDRINE|CLERK    |69062     |1990-12-18|900.00 |2001  |1   |\n",
      "|69324 |MARKER  |CLERK    |67832     |1992-01-23|1400.00|1001  |2   |\n",
      "|68736 |ADNRES  |CLERK    |67858     |1997-05-23|1200.00|2001  |3   |\n",
      "|69000 |JULIUS  |CLERK    |66928     |1991-12-03|1050.00|3001  |4   |\n",
      "|65646 |JONAS   |MANAGER  |68319     |1991-04-02|2957.00|2001  |1   |\n",
      "|66928 |BLAZE   |MANAGER  |68319     |1991-05-01|2750.00|3001  |2   |\n",
      "|67832 |CLARE   |MANAGER  |68319     |1991-06-09|2550.00|1001  |3   |\n",
      "|68319 |KAYLING |PRESIDENT|          |1991-11-18|6000.00|1001  |1   |\n",
      "|64989 |ADELYN  |SALESMAN |66928     |1991-02-20|1700.00|3001  |1   |\n",
      "|68454 |TUCKER  |SALESMAN |66928     |1991-09-08|1600.00|3001  |2   |\n",
      "|65271 |WADE    |SALESMAN |66928     |1991-02-22|1350.00|3001  |3   |\n",
      "|66564 |MADDEN  |SALESMAN |66928     |1991-09-28|1350.00|3001  |3   |\n",
      "+------+--------+---------+----------+----------+-------+------+----+\n",
      "\n"
     ]
    },
    {
     "ename": "JupyterRequireError",
     "evalue": "notebook/js/codecell: Timeout. Library 'notebook/js/codecell' is not loaded.",
     "output_type": "error",
     "traceback": [
      "Error: notebook/js/codecell: Timeout. Library 'notebook/js/codecell' is not loaded.",
      "    at errback (http://localhost:8888/nbextensions/jupyter-require/core.js?v=20230725141930:190:29)"
     ]
    }
   ],
   "source": [
    "df_emp_rank=df_emp.withColumn('rank',rank().over(windowspec))\n",
    "df_emp_rank.show(truncate=False)"
   ]
  },
  {
   "cell_type": "code",
   "execution_count": 67,
   "id": "1999d658",
   "metadata": {},
   "outputs": [
    {
     "name": "stdout",
     "output_type": "stream",
     "text": [
      "+------+--------+---------+----------+----------+-------+------+---------+\n",
      "|emp_id|emp_name|job_name |manager_id|hire_date |salary |dep_id|denserank|\n",
      "+------+--------+---------+----------+----------+-------+------+---------+\n",
      "|67858 |SCARLET |ANALYST  |65646     |1997-04-19|3100.00|2001  |1        |\n",
      "|69062 |FRANK   |ANALYST  |65646     |1991-12-03|3100.00|2001  |1        |\n",
      "|63679 |SANDRINE|CLERK    |69062     |1990-12-18|900.00 |2001  |1        |\n",
      "|69324 |MARKER  |CLERK    |67832     |1992-01-23|1400.00|1001  |2        |\n",
      "|68736 |ADNRES  |CLERK    |67858     |1997-05-23|1200.00|2001  |3        |\n",
      "|69000 |JULIUS  |CLERK    |66928     |1991-12-03|1050.00|3001  |4        |\n",
      "|65646 |JONAS   |MANAGER  |68319     |1991-04-02|2957.00|2001  |1        |\n",
      "|66928 |BLAZE   |MANAGER  |68319     |1991-05-01|2750.00|3001  |2        |\n",
      "|67832 |CLARE   |MANAGER  |68319     |1991-06-09|2550.00|1001  |3        |\n",
      "|68319 |KAYLING |PRESIDENT|          |1991-11-18|6000.00|1001  |1        |\n",
      "|64989 |ADELYN  |SALESMAN |66928     |1991-02-20|1700.00|3001  |1        |\n",
      "|68454 |TUCKER  |SALESMAN |66928     |1991-09-08|1600.00|3001  |2        |\n",
      "|65271 |WADE    |SALESMAN |66928     |1991-02-22|1350.00|3001  |3        |\n",
      "|66564 |MADDEN  |SALESMAN |66928     |1991-09-28|1350.00|3001  |3        |\n",
      "+------+--------+---------+----------+----------+-------+------+---------+\n",
      "\n"
     ]
    }
   ],
   "source": [
    "df_emp_denrank=df_emp.withColumn('denserank',dense_rank().over(windowspec))\n",
    "df_emp_denrank.show(truncate=False)"
   ]
  },
  {
   "cell_type": "code",
   "execution_count": 68,
   "id": "ecd15d4f",
   "metadata": {},
   "outputs": [
    {
     "name": "stdout",
     "output_type": "stream",
     "text": [
      "+------+--------+---------+----------+----------+-------+------+-------+\n",
      "|emp_id|emp_name|job_name |manager_id|hire_date |salary |dep_id|lag    |\n",
      "+------+--------+---------+----------+----------+-------+------+-------+\n",
      "|67858 |SCARLET |ANALYST  |65646     |1997-04-19|3100.00|2001  |0      |\n",
      "|69062 |FRANK   |ANALYST  |65646     |1991-12-03|3100.00|2001  |3100.00|\n",
      "|63679 |SANDRINE|CLERK    |69062     |1990-12-18|900.00 |2001  |0      |\n",
      "|69324 |MARKER  |CLERK    |67832     |1992-01-23|1400.00|1001  |900.00 |\n",
      "|68736 |ADNRES  |CLERK    |67858     |1997-05-23|1200.00|2001  |1400.00|\n",
      "|69000 |JULIUS  |CLERK    |66928     |1991-12-03|1050.00|3001  |1200.00|\n",
      "|65646 |JONAS   |MANAGER  |68319     |1991-04-02|2957.00|2001  |0      |\n",
      "|66928 |BLAZE   |MANAGER  |68319     |1991-05-01|2750.00|3001  |2957.00|\n",
      "|67832 |CLARE   |MANAGER  |68319     |1991-06-09|2550.00|1001  |2750.00|\n",
      "|68319 |KAYLING |PRESIDENT|          |1991-11-18|6000.00|1001  |0      |\n",
      "|64989 |ADELYN  |SALESMAN |66928     |1991-02-20|1700.00|3001  |0      |\n",
      "|68454 |TUCKER  |SALESMAN |66928     |1991-09-08|1600.00|3001  |1700.00|\n",
      "|65271 |WADE    |SALESMAN |66928     |1991-02-22|1350.00|3001  |1600.00|\n",
      "|66564 |MADDEN  |SALESMAN |66928     |1991-09-28|1350.00|3001  |1350.00|\n",
      "+------+--------+---------+----------+----------+-------+------+-------+\n",
      "\n"
     ]
    }
   ],
   "source": [
    "df_emp_lag=df_emp.withColumn('lag',lag('salary',1,0).over(windowspec))\n",
    "df_emp_lag.show(truncate=False)"
   ]
  },
  {
   "cell_type": "code",
   "execution_count": 69,
   "id": "5cc645ec",
   "metadata": {},
   "outputs": [
    {
     "name": "stdout",
     "output_type": "stream",
     "text": [
      "+------+--------+---------+----------+----------+-------+------+-------+\n",
      "|emp_id|emp_name|job_name |manager_id|hire_date |salary |dep_id|lead   |\n",
      "+------+--------+---------+----------+----------+-------+------+-------+\n",
      "|67858 |SCARLET |ANALYST  |65646     |1997-04-19|3100.00|2001  |3100.00|\n",
      "|69062 |FRANK   |ANALYST  |65646     |1991-12-03|3100.00|2001  |0      |\n",
      "|63679 |SANDRINE|CLERK    |69062     |1990-12-18|900.00 |2001  |1400.00|\n",
      "|69324 |MARKER  |CLERK    |67832     |1992-01-23|1400.00|1001  |1200.00|\n",
      "|68736 |ADNRES  |CLERK    |67858     |1997-05-23|1200.00|2001  |1050.00|\n",
      "|69000 |JULIUS  |CLERK    |66928     |1991-12-03|1050.00|3001  |0      |\n",
      "|65646 |JONAS   |MANAGER  |68319     |1991-04-02|2957.00|2001  |2750.00|\n",
      "|66928 |BLAZE   |MANAGER  |68319     |1991-05-01|2750.00|3001  |2550.00|\n",
      "|67832 |CLARE   |MANAGER  |68319     |1991-06-09|2550.00|1001  |0      |\n",
      "|68319 |KAYLING |PRESIDENT|          |1991-11-18|6000.00|1001  |0      |\n",
      "|64989 |ADELYN  |SALESMAN |66928     |1991-02-20|1700.00|3001  |1600.00|\n",
      "|68454 |TUCKER  |SALESMAN |66928     |1991-09-08|1600.00|3001  |1350.00|\n",
      "|65271 |WADE    |SALESMAN |66928     |1991-02-22|1350.00|3001  |1350.00|\n",
      "|66564 |MADDEN  |SALESMAN |66928     |1991-09-28|1350.00|3001  |0      |\n",
      "+------+--------+---------+----------+----------+-------+------+-------+\n",
      "\n"
     ]
    }
   ],
   "source": [
    "df_emp_lead=df_emp.withColumn('lead',lead('salary',1,0).over(windowspec))\n",
    "df_emp_lead.show(truncate=False)"
   ]
  },
  {
   "cell_type": "code",
   "execution_count": 72,
   "id": "9fd2ee75",
   "metadata": {},
   "outputs": [
    {
     "ename": "AnalysisException",
     "evalue": "Union can only be performed on tables with the same number of columns, but the first table has 7 columns and the second table has 2 columns;\n'Union false, false\n:- Relation [emp_id#17,emp_name#18,job_name#19,manager_id#20,hire_date#21,salary#22,dep_id#23] csv\n+- Relation [dep_id#48,dep_name#49] csv\n",
     "output_type": "error",
     "traceback": [
      "\u001b[1;31m---------------------------------------------------------------------------\u001b[0m",
      "\u001b[1;31mAnalysisException\u001b[0m                         Traceback (most recent call last)",
      "\u001b[1;32m~\\AppData\\Local\\Temp\\ipykernel_12632\\2632863987.py\u001b[0m in \u001b[0;36m<module>\u001b[1;34m\u001b[0m\n\u001b[1;32m----> 1\u001b[1;33m \u001b[0mdf_emp\u001b[0m\u001b[1;33m.\u001b[0m\u001b[0munion\u001b[0m\u001b[1;33m(\u001b[0m\u001b[0mdf_dep\u001b[0m\u001b[1;33m)\u001b[0m\u001b[1;33m.\u001b[0m\u001b[0mshow\u001b[0m\u001b[1;33m(\u001b[0m\u001b[1;33m)\u001b[0m\u001b[1;33m\u001b[0m\u001b[1;33m\u001b[0m\u001b[0m\n\u001b[0m",
      "\u001b[1;32mD:\\juypitor\\lib\\site-packages\\pyspark\\sql\\dataframe.py\u001b[0m in \u001b[0;36munion\u001b[1;34m(self, other)\u001b[0m\n\u001b[0;32m   2255\u001b[0m         \u001b[0mAlso\u001b[0m \u001b[1;32mas\u001b[0m \u001b[0mstandard\u001b[0m \u001b[1;32min\u001b[0m \u001b[0mSQL\u001b[0m\u001b[1;33m,\u001b[0m \u001b[0mthis\u001b[0m \u001b[0mfunction\u001b[0m \u001b[0mresolves\u001b[0m \u001b[0mcolumns\u001b[0m \u001b[0mby\u001b[0m \u001b[0mposition\u001b[0m \u001b[1;33m(\u001b[0m\u001b[1;32mnot\u001b[0m \u001b[0mby\u001b[0m \u001b[0mname\u001b[0m\u001b[1;33m)\u001b[0m\u001b[1;33m.\u001b[0m\u001b[1;33m\u001b[0m\u001b[1;33m\u001b[0m\u001b[0m\n\u001b[0;32m   2256\u001b[0m         \"\"\"\n\u001b[1;32m-> 2257\u001b[1;33m         \u001b[1;32mreturn\u001b[0m \u001b[0mDataFrame\u001b[0m\u001b[1;33m(\u001b[0m\u001b[0mself\u001b[0m\u001b[1;33m.\u001b[0m\u001b[0m_jdf\u001b[0m\u001b[1;33m.\u001b[0m\u001b[0munion\u001b[0m\u001b[1;33m(\u001b[0m\u001b[0mother\u001b[0m\u001b[1;33m.\u001b[0m\u001b[0m_jdf\u001b[0m\u001b[1;33m)\u001b[0m\u001b[1;33m,\u001b[0m \u001b[0mself\u001b[0m\u001b[1;33m.\u001b[0m\u001b[0msparkSession\u001b[0m\u001b[1;33m)\u001b[0m\u001b[1;33m\u001b[0m\u001b[1;33m\u001b[0m\u001b[0m\n\u001b[0m\u001b[0;32m   2258\u001b[0m \u001b[1;33m\u001b[0m\u001b[0m\n\u001b[0;32m   2259\u001b[0m     \u001b[1;33m@\u001b[0m\u001b[0msince\u001b[0m\u001b[1;33m(\u001b[0m\u001b[1;36m1.3\u001b[0m\u001b[1;33m)\u001b[0m\u001b[1;33m\u001b[0m\u001b[1;33m\u001b[0m\u001b[0m\n",
      "\u001b[1;32mD:\\juypitor\\lib\\site-packages\\py4j\\java_gateway.py\u001b[0m in \u001b[0;36m__call__\u001b[1;34m(self, *args)\u001b[0m\n\u001b[0;32m   1319\u001b[0m \u001b[1;33m\u001b[0m\u001b[0m\n\u001b[0;32m   1320\u001b[0m         \u001b[0manswer\u001b[0m \u001b[1;33m=\u001b[0m \u001b[0mself\u001b[0m\u001b[1;33m.\u001b[0m\u001b[0mgateway_client\u001b[0m\u001b[1;33m.\u001b[0m\u001b[0msend_command\u001b[0m\u001b[1;33m(\u001b[0m\u001b[0mcommand\u001b[0m\u001b[1;33m)\u001b[0m\u001b[1;33m\u001b[0m\u001b[1;33m\u001b[0m\u001b[0m\n\u001b[1;32m-> 1321\u001b[1;33m         return_value = get_return_value(\n\u001b[0m\u001b[0;32m   1322\u001b[0m             answer, self.gateway_client, self.target_id, self.name)\n\u001b[0;32m   1323\u001b[0m \u001b[1;33m\u001b[0m\u001b[0m\n",
      "\u001b[1;32mD:\\juypitor\\lib\\site-packages\\pyspark\\sql\\utils.py\u001b[0m in \u001b[0;36mdeco\u001b[1;34m(*a, **kw)\u001b[0m\n\u001b[0;32m    194\u001b[0m                 \u001b[1;31m# Hide where the exception came from that shows a non-Pythonic\u001b[0m\u001b[1;33m\u001b[0m\u001b[1;33m\u001b[0m\u001b[0m\n\u001b[0;32m    195\u001b[0m                 \u001b[1;31m# JVM exception message.\u001b[0m\u001b[1;33m\u001b[0m\u001b[1;33m\u001b[0m\u001b[0m\n\u001b[1;32m--> 196\u001b[1;33m                 \u001b[1;32mraise\u001b[0m \u001b[0mconverted\u001b[0m \u001b[1;32mfrom\u001b[0m \u001b[1;32mNone\u001b[0m\u001b[1;33m\u001b[0m\u001b[1;33m\u001b[0m\u001b[0m\n\u001b[0m\u001b[0;32m    197\u001b[0m             \u001b[1;32melse\u001b[0m\u001b[1;33m:\u001b[0m\u001b[1;33m\u001b[0m\u001b[1;33m\u001b[0m\u001b[0m\n\u001b[0;32m    198\u001b[0m                 \u001b[1;32mraise\u001b[0m\u001b[1;33m\u001b[0m\u001b[1;33m\u001b[0m\u001b[0m\n",
      "\u001b[1;31mAnalysisException\u001b[0m: Union can only be performed on tables with the same number of columns, but the first table has 7 columns and the second table has 2 columns;\n'Union false, false\n:- Relation [emp_id#17,emp_name#18,job_name#19,manager_id#20,hire_date#21,salary#22,dep_id#23] csv\n+- Relation [dep_id#48,dep_name#49] csv\n"
     ]
    }
   ],
   "source": [
    "df_emp.union(df_dep).show()"
   ]
  },
  {
   "cell_type": "code",
   "execution_count": 74,
   "id": "3cbba860",
   "metadata": {},
   "outputs": [
    {
     "name": "stdout",
     "output_type": "stream",
     "text": [
      "+------+\n",
      "|dep_id|\n",
      "+------+\n",
      "|  1001|\n",
      "|  3001|\n",
      "|  1001|\n",
      "|  2001|\n",
      "|  2001|\n",
      "|  2001|\n",
      "|  2001|\n",
      "|  3001|\n",
      "|  3001|\n",
      "|  3001|\n",
      "|  3001|\n",
      "|  2001|\n",
      "|  3001|\n",
      "|  1001|\n",
      "|  1001|\n",
      "|  1001|\n",
      "|  1001|\n",
      "|  2001|\n",
      "|  2001|\n",
      "|  2001|\n",
      "+------+\n",
      "only showing top 20 rows\n",
      "\n"
     ]
    }
   ],
   "source": [
    "df1=df_emp.select('dep_id')\n",
    "df2=df_dep.select('dep_id')\n",
    "\n",
    "df1.union(df2).show() #same column name need in union and unionall"
   ]
  },
  {
   "cell_type": "code",
   "execution_count": 83,
   "id": "f1408add",
   "metadata": {},
   "outputs": [
    {
     "name": "stdout",
     "output_type": "stream",
     "text": [
      "+--------+------+-------+\n",
      "|job_name|dep_id| salary|\n",
      "+--------+------+-------+\n",
      "|   CLERK|  1001|1400.00|\n",
      "| ANALYST|  2001|3100.00|\n",
      "|   CLERK|  3001|1050.00|\n",
      "+--------+------+-------+\n",
      "\n"
     ]
    }
   ],
   "source": [
    "df_duplicate= df_emp.select(\"job_name\",\"dep_id\",\"salary\").orderBy(\"job_name\",col(\"dep_id\").desc(),col(\"salary\").desc()).drop_duplicates([\"dep_id\"])\n",
    "df_duplicate.show()"
   ]
  },
  {
   "cell_type": "code",
   "execution_count": 99,
   "id": "87c2590e",
   "metadata": {},
   "outputs": [
    {
     "name": "stdout",
     "output_type": "stream",
     "text": [
      "+-------+-----------+-----+\n",
      "|student|    subject|marks|\n",
      "+-------+-----------+-----+\n",
      "|  Jacob|Mathematics|  100|\n",
      "|  Jacob|    Science|   95|\n",
      "|  Jacob|  Geography|   90|\n",
      "| Amilee|Mathematics|   90|\n",
      "| Amilee|    Science|   90|\n",
      "| Amilee|  Geography|  100|\n",
      "+-------+-----------+-----+\n",
      "\n"
     ]
    }
   ],
   "source": [
    "stud=spark.read.options(header='True', inferSchema='True').csv('datasets/student.csv')\n",
    "stud.show()"
   ]
  },
  {
   "cell_type": "code",
   "execution_count": 102,
   "id": "e919179f",
   "metadata": {},
   "outputs": [
    {
     "name": "stdout",
     "output_type": "stream",
     "text": [
      "+-------+---------+-----------+-------+\n",
      "|student|Geography|Mathematics|Science|\n",
      "+-------+---------+-----------+-------+\n",
      "|  Jacob|       90|        100|     95|\n",
      "| Amilee|      100|         90|     90|\n",
      "+-------+---------+-----------+-------+\n",
      "\n"
     ]
    }
   ],
   "source": [
    "df_stud=stud.groupBy('student').pivot('subject').max('marks').show()"
   ]
  },
  {
   "cell_type": "code",
   "execution_count": null,
   "id": "cfe0641a",
   "metadata": {},
   "outputs": [],
   "source": []
  },
  {
   "cell_type": "code",
   "execution_count": null,
   "id": "51bbd956",
   "metadata": {},
   "outputs": [],
   "source": []
  },
  {
   "cell_type": "code",
   "execution_count": null,
   "id": "fb216953",
   "metadata": {},
   "outputs": [],
   "source": []
  },
  {
   "cell_type": "code",
   "execution_count": null,
   "id": "d66bccf9",
   "metadata": {},
   "outputs": [],
   "source": []
  },
  {
   "cell_type": "code",
   "execution_count": null,
   "id": "a7acfb74",
   "metadata": {},
   "outputs": [],
   "source": []
  },
  {
   "cell_type": "code",
   "execution_count": null,
   "id": "ae8f0ede",
   "metadata": {},
   "outputs": [],
   "source": []
  },
  {
   "cell_type": "code",
   "execution_count": null,
   "id": "f0de0d4d",
   "metadata": {},
   "outputs": [],
   "source": []
  },
  {
   "cell_type": "code",
   "execution_count": null,
   "id": "6e983c6d",
   "metadata": {},
   "outputs": [],
   "source": []
  },
  {
   "cell_type": "code",
   "execution_count": null,
   "id": "a4a6cc26",
   "metadata": {},
   "outputs": [],
   "source": []
  },
  {
   "cell_type": "code",
   "execution_count": null,
   "id": "d34ab8cf",
   "metadata": {},
   "outputs": [],
   "source": []
  },
  {
   "cell_type": "code",
   "execution_count": null,
   "id": "20edae5e",
   "metadata": {},
   "outputs": [],
   "source": []
  },
  {
   "cell_type": "code",
   "execution_count": null,
   "id": "f229c549",
   "metadata": {},
   "outputs": [],
   "source": []
  },
  {
   "cell_type": "code",
   "execution_count": null,
   "id": "84caa0b4",
   "metadata": {},
   "outputs": [],
   "source": []
  },
  {
   "cell_type": "code",
   "execution_count": null,
   "id": "37b1ac57",
   "metadata": {},
   "outputs": [],
   "source": []
  },
  {
   "cell_type": "code",
   "execution_count": null,
   "id": "2b26d47f",
   "metadata": {},
   "outputs": [],
   "source": []
  },
  {
   "cell_type": "code",
   "execution_count": null,
   "id": "dc902740",
   "metadata": {},
   "outputs": [],
   "source": []
  },
  {
   "cell_type": "code",
   "execution_count": null,
   "id": "b53207a1",
   "metadata": {},
   "outputs": [],
   "source": []
  },
  {
   "cell_type": "code",
   "execution_count": null,
   "id": "05c7ee1a",
   "metadata": {},
   "outputs": [],
   "source": []
  },
  {
   "cell_type": "code",
   "execution_count": null,
   "id": "34103266",
   "metadata": {},
   "outputs": [],
   "source": []
  },
  {
   "cell_type": "code",
   "execution_count": null,
   "id": "cf02eb09",
   "metadata": {},
   "outputs": [],
   "source": []
  },
  {
   "cell_type": "code",
   "execution_count": null,
   "id": "23079113",
   "metadata": {},
   "outputs": [],
   "source": []
  },
  {
   "cell_type": "code",
   "execution_count": null,
   "id": "22b98638",
   "metadata": {},
   "outputs": [],
   "source": []
  },
  {
   "cell_type": "code",
   "execution_count": null,
   "id": "08a51354",
   "metadata": {},
   "outputs": [],
   "source": []
  },
  {
   "cell_type": "code",
   "execution_count": null,
   "id": "465f796d",
   "metadata": {},
   "outputs": [],
   "source": []
  },
  {
   "cell_type": "code",
   "execution_count": null,
   "id": "47d754f1",
   "metadata": {},
   "outputs": [],
   "source": []
  },
  {
   "cell_type": "code",
   "execution_count": null,
   "id": "1bd3c90e",
   "metadata": {},
   "outputs": [],
   "source": []
  },
  {
   "cell_type": "code",
   "execution_count": null,
   "id": "e18d01ac",
   "metadata": {},
   "outputs": [],
   "source": []
  },
  {
   "cell_type": "code",
   "execution_count": null,
   "id": "de39a6ed",
   "metadata": {},
   "outputs": [],
   "source": []
  }
 ],
 "metadata": {
  "kernelspec": {
   "display_name": "Python 3 (ipykernel)",
   "language": "python",
   "name": "python3"
  },
  "language_info": {
   "codemirror_mode": {
    "name": "ipython",
    "version": 3
   },
   "file_extension": ".py",
   "mimetype": "text/x-python",
   "name": "python",
   "nbconvert_exporter": "python",
   "pygments_lexer": "ipython3",
   "version": "3.9.13"
  }
 },
 "nbformat": 4,
 "nbformat_minor": 5
}
